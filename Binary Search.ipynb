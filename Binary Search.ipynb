{
 "cells": [
  {
   "cell_type": "code",
   "execution_count": 30,
   "id": "1a747ee0-6115-40cc-9a0e-f763adecb1a2",
   "metadata": {},
   "outputs": [],
   "source": [
    "# Leetcode 704\n",
    "# Binary Search\n",
    "def search(nums, target):\n",
    "    lo = 0\n",
    "    hi = len(nums) -1\n",
    "\n",
    "    while hi >= lo:\n",
    "        mid = (hi+lo)//2\n",
    "        if target == nums[mid]:\n",
    "            return mid\n",
    "        elif target > nums[mid]:\n",
    "            lo = mid + 1\n",
    "        else:\n",
    "            hi = mid - 1\n",
    "    return -1\n",
    "            \n",
    "            \n",
    "            "
   ]
  },
  {
   "cell_type": "code",
   "execution_count": 31,
   "id": "a096aa13-e5f2-4c82-9b8a-786a03a4a16c",
   "metadata": {},
   "outputs": [
    {
     "data": {
      "text/plain": [
       "3"
      ]
     },
     "execution_count": 31,
     "metadata": {},
     "output_type": "execute_result"
    }
   ],
   "source": [
    "search([2, 3, 4, 5, 6, 7], 5)"
   ]
  },
  {
   "cell_type": "code",
   "execution_count": 72,
   "id": "cfaafd07-e0d6-4303-a8e7-75f9049c66df",
   "metadata": {},
   "outputs": [],
   "source": [
    "# Leetcode 74\n",
    "# Search a 2D matrix\n",
    "def searchArray(matrix, target):\n",
    "    lo = 0 \n",
    "    hi = len(matrix) -1\n",
    "\n",
    "    while hi >= lo:\n",
    "        mid = (hi+lo)//2\n",
    "        if (target > matrix[mid][0] and target < matrix[mid][-1]) or target == matrix[mid][0] or target == matrix[mid][-1] :\n",
    "            return matrix[mid]\n",
    "        elif target > matrix[mid][0]:\n",
    "            lo = mid +1\n",
    "        else:\n",
    "            hi = mid -1\n",
    "            \n",
    "    return []\n",
    "\n",
    "def searchMatrix(matrix, target):\n",
    "    tarArray = searchArray(matrix, target)\n",
    "\n",
    "    if len(tarArray) != 0:\n",
    "        lo = 0\n",
    "        hi = len(tarArray) -1\n",
    "    \n",
    "        while hi >= lo:\n",
    "            mid = (hi+lo)//2\n",
    "            if target == tarArray[mid]:\n",
    "                return True\n",
    "            elif target > tarArray[mid]:\n",
    "                lo = mid + 1\n",
    "            else:\n",
    "                hi = mid - 1\n",
    "    return False\n",
    "        \n",
    "    \n",
    "    \n",
    "       "
   ]
  },
  {
   "cell_type": "code",
   "execution_count": 73,
   "id": "359ffc0f-bee6-47cb-a0a2-07dc430ad80f",
   "metadata": {},
   "outputs": [
    {
     "data": {
      "text/plain": [
       "True"
      ]
     },
     "execution_count": 73,
     "metadata": {},
     "output_type": "execute_result"
    }
   ],
   "source": [
    "searchMatrix([[1]], 1)"
   ]
  },
  {
   "cell_type": "code",
   "execution_count": 70,
   "id": "c44234ee-8632-45a1-aa80-955c44af8b08",
   "metadata": {},
   "outputs": [],
   "source": [
    "# Alternative solution\n",
    "def searchArray(matrix, target):\n",
    "    lo = 0 \n",
    "    hi = len(matrix) -1\n",
    "\n",
    "    while hi >= lo:\n",
    "        mid = (hi+lo)//2\n",
    "        if target > matrix[mid][-1]:\n",
    "            lo = mid +1\n",
    "        elif target < matrix[mid][0]:\n",
    "            hi = mid -1\n",
    "        else:\n",
    "            return matrix[mid]\n",
    "            \n",
    "    return []\n",
    "\n",
    "def searchMatrix(matrix, target):\n",
    "    tarArray = searchArray(matrix, target)\n",
    "\n",
    "    if len(tarArray) != 0:\n",
    "        lo = 0\n",
    "        hi = len(tarArray) -1\n",
    "    \n",
    "        while hi >= lo:\n",
    "            mid = (hi+lo)//2\n",
    "            if target == tarArray[mid]:\n",
    "                return True\n",
    "            elif target > tarArray[mid]:\n",
    "                lo = mid + 1\n",
    "            else:\n",
    "                hi = mid - 1\n",
    "    return False\n"
   ]
  },
  {
   "cell_type": "code",
   "execution_count": 71,
   "id": "8ea81f54-5efd-47a8-a80a-b3a9df3344d5",
   "metadata": {},
   "outputs": [
    {
     "name": "stdout",
     "output_type": "stream",
     "text": [
      "True\n",
      "True\n",
      "False\n"
     ]
    }
   ],
   "source": [
    "print(searchMatrix([[1]], 1))\n",
    "print(searchMatrix([[1,3]], 1))\n",
    "print(searchMatrix([[1,3], [4,5], [8,10]], 6 ))"
   ]
  },
  {
   "cell_type": "code",
   "execution_count": 104,
   "id": "d91f48c7-3d8a-42a6-8db9-1a4d6035227f",
   "metadata": {},
   "outputs": [],
   "source": [
    "# LeetCode  153\n",
    "# Find Minimum in rotated sorted array\n",
    "\n",
    "def findMin(nums):\n",
    "    lo = 0\n",
    "    hi = len(nums) -1\n",
    "\n",
    "\n",
    "\n",
    "    while hi >= lo:\n",
    "        mid = (hi+lo)//2\n",
    "        if nums[mid]< nums[mid-1] or nums[mid] == nums[hi]:\n",
    "                return nums[mid]\n",
    "        elif  nums[mid] < nums[hi]:\n",
    "            hi = mid - 1\n",
    "        else :\n",
    "            lo = mid + 1\n",
    "  "
   ]
  },
  {
   "cell_type": "code",
   "execution_count": 105,
   "id": "8ef49ce3-94c1-477f-bc61-5d442d9c91c3",
   "metadata": {},
   "outputs": [
    {
     "data": {
      "text/plain": [
       "0"
      ]
     },
     "execution_count": 105,
     "metadata": {},
     "output_type": "execute_result"
    }
   ],
   "source": [
    "findMin([4,5,6,7,0,1,2])"
   ]
  },
  {
   "cell_type": "code",
   "execution_count": 38,
   "id": "5a46ee0f-2062-4409-8c60-34b654dbe92c",
   "metadata": {},
   "outputs": [],
   "source": [
    "# Leetcode 33\n",
    "# Search in rotated sorted array \n",
    "\n",
    "def search(nums, target):\n",
    "    lo = 0\n",
    "    hi = len(nums) -1\n",
    "\n",
    "    while hi >= lo:\n",
    "        mid = (hi+lo)//2\n",
    "\n",
    "        if nums[mid] == target:\n",
    "            return mid\n",
    "        elif (nums[mid] < target and nums[hi] > target) or (nums[mid] < target and nums[lo] < target):\n",
    "            hi = mid - 1\n",
    "        elif nums[mid] > target and nums[hi] > target :\n",
    "            lo = mid + 1\n",
    "        \n",
    "    return -1\n",
    "                "
   ]
  },
  {
   "cell_type": "code",
   "execution_count": null,
   "id": "aa2b8742-444c-4537-b5dd-f51b22a74500",
   "metadata": {},
   "outputs": [
    {
     "name": "stdout",
     "output_type": "stream",
     "text": [
      "-1\n"
     ]
    }
   ],
   "source": [
    "print(search([4,5,6,7,0,1,2], 0))\n",
    "print(search([4,5,6,7,0,1,2], 3))\n",
    "print(search([4,5,6,7,0,1,2], 5))"
   ]
  },
  {
   "cell_type": "code",
   "execution_count": null,
   "id": "bc4df629-c897-45c5-8aef-a681994f8d7a",
   "metadata": {},
   "outputs": [],
   "source": []
  }
 ],
 "metadata": {
  "kernelspec": {
   "display_name": "Python 3 (ipykernel)",
   "language": "python",
   "name": "python3"
  },
  "language_info": {
   "codemirror_mode": {
    "name": "ipython",
    "version": 3
   },
   "file_extension": ".py",
   "mimetype": "text/x-python",
   "name": "python",
   "nbconvert_exporter": "python",
   "pygments_lexer": "ipython3",
   "version": "3.11.8"
  }
 },
 "nbformat": 4,
 "nbformat_minor": 5
}
