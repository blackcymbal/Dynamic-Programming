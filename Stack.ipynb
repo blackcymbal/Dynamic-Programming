{
 "cells": [
  {
   "cell_type": "code",
   "execution_count": 4,
   "id": "17708599-0990-4d70-b3f1-063e4a662266",
   "metadata": {},
   "outputs": [],
   "source": [
    "# Declare a stack \n",
    "stack = []"
   ]
  },
  {
   "cell_type": "code",
   "execution_count": 6,
   "id": "f6d21a45-6742-45d7-ba16-62a1ff51048e",
   "metadata": {},
   "outputs": [],
   "source": [
    "# Add an item to stack\n",
    "stack.append(1)\n",
    "stack.append(2)\n",
    "stack.append(3)\n",
    "stack.append(4)"
   ]
  },
  {
   "cell_type": "code",
   "execution_count": 7,
   "id": "243709bc-5013-492b-9fa5-d2a9087ade14",
   "metadata": {},
   "outputs": [
    {
     "data": {
      "text/plain": [
       "[1, 1, 2, 3, 4]"
      ]
     },
     "execution_count": 7,
     "metadata": {},
     "output_type": "execute_result"
    }
   ],
   "source": [
    "stack"
   ]
  },
  {
   "cell_type": "code",
   "execution_count": 8,
   "id": "7430db91-ca62-4109-96fb-d8423e8c043d",
   "metadata": {},
   "outputs": [
    {
     "data": {
      "text/plain": [
       "4"
      ]
     },
     "execution_count": 8,
     "metadata": {},
     "output_type": "execute_result"
    }
   ],
   "source": [
    "# Remove an item from the stack\n",
    "stack.pop()"
   ]
  },
  {
   "cell_type": "code",
   "execution_count": 13,
   "id": "94db501d-8b9e-42c9-8411-2090c2c5b6ab",
   "metadata": {},
   "outputs": [
    {
     "name": "stdout",
     "output_type": "stream",
     "text": [
      "3\n"
     ]
    }
   ],
   "source": [
    "# Get the top item of the stack \n",
    "if stack:\n",
    "    print(stack[-1])"
   ]
  },
  {
   "cell_type": "code",
   "execution_count": 12,
   "id": "854885e5-21a7-447e-a5fd-230726e164b7",
   "metadata": {},
   "outputs": [
    {
     "data": {
      "text/plain": [
       "3"
      ]
     },
     "execution_count": 12,
     "metadata": {},
     "output_type": "execute_result"
    }
   ],
   "source": [
    "stack[-1]"
   ]
  },
  {
   "cell_type": "code",
   "execution_count": 17,
   "id": "1ca5870f-1087-43f9-b7c5-2486accdf8cb",
   "metadata": {},
   "outputs": [],
   "source": [
    "# Stop poping from stack\n",
    "if not stack:\n",
    "    stack "
   ]
  },
  {
   "cell_type": "code",
   "execution_count": 20,
   "id": "ff012361-3d3f-410d-ac77-0bcc99cb6449",
   "metadata": {},
   "outputs": [],
   "source": [
    "# Leetcode 20\n",
    "# Valid Parentheses\n",
    "def isBalanced(s1, s2):\n",
    "    if (s1 == \"(\" and s2 == \")\") or (s1 == \"{\" and s2 == \"}\") or (s1 == \"[\" and s2 == \"]\"):\n",
    "        return True\n",
    "    else: \n",
    "        return False"
   ]
  },
  {
   "cell_type": "code",
   "execution_count": 23,
   "id": "5870d344-f521-43cf-b41d-d0d01ae85463",
   "metadata": {},
   "outputs": [
    {
     "data": {
      "text/plain": [
       "False"
      ]
     },
     "execution_count": 23,
     "metadata": {},
     "output_type": "execute_result"
    }
   ],
   "source": [
    "isBalanced(\"(\", \"}\")"
   ]
  },
  {
   "cell_type": "code",
   "execution_count": 54,
   "id": "bc43e13d-7742-43f4-8851-9a8b55984b50",
   "metadata": {},
   "outputs": [],
   "source": [
    "def isValid(s):\n",
    "    stack = []\n",
    "    for i in (s):\n",
    "        if  i == \"(\" or i == \"{\" or i == \"[\":\n",
    "            stack.append(i)\n",
    "        else: \n",
    "            if stack and isBalanced(stack[-1], i) == True:\n",
    "                stack.pop()\n",
    "            else: \n",
    "                return False\n",
    "          \n",
    "    if not stack: \n",
    "        return True\n",
    "        \n",
    "    return False"
   ]
  },
  {
   "cell_type": "code",
   "execution_count": 57,
   "id": "8febd331-3330-43db-a0f9-e7c556ad4114",
   "metadata": {},
   "outputs": [
    {
     "name": "stdout",
     "output_type": "stream",
     "text": [
      "True\n",
      "True\n"
     ]
    }
   ],
   "source": [
    "print(isValid(\"()[]{}\"))\n",
    "print(isValid(\"[{()}]\"))"
   ]
  },
  {
   "cell_type": "code",
   "execution_count": null,
   "id": "2579a7d5-fae5-4eca-8e50-351324167d6e",
   "metadata": {},
   "outputs": [],
   "source": []
  },
  {
   "cell_type": "code",
   "execution_count": 4,
   "id": "b2cd4b35-e15e-4ff9-9129-c0febe13d7bd",
   "metadata": {},
   "outputs": [
    {
     "data": {
      "text/plain": [
       "4"
      ]
     },
     "execution_count": 4,
     "metadata": {},
     "output_type": "execute_result"
    }
   ],
   "source": [
    "arr = [10, 11, 12, 14]\n",
    "len(arr)"
   ]
  },
  {
   "cell_type": "code",
   "execution_count": 29,
   "id": "482fe3a9-0b0e-4f59-aa0f-75b08e712640",
   "metadata": {},
   "outputs": [],
   "source": [
    "# https://www.geeksforgeeks.org/problems/special-stack/1\n",
    "\n",
    "def push(arr, ele):\n",
    "    # Code here\n",
    "    arr.append(ele)\n",
    "    return arr\n",
    "\n",
    "# Function should pop an element from stack\n",
    "def pop(arr):\n",
    "    # Code here\n",
    "    arr.pop()\n",
    "    return arr\n",
    "\n",
    "# function should return 1/0 or True/False\n",
    "def isFull(n, arr):\n",
    "    # Code here\n",
    "    if n == len(arr):\n",
    "        return True\n",
    "    return False\n",
    "\n",
    "# function should return 1/0 or True/False\n",
    "def isEmpty(arr):\n",
    "    #Code here\n",
    "    if len(arr) == 0:\n",
    "        return True\n",
    "    return False\n",
    "\n",
    "# function should return minimum element from the stack\n",
    "def getMin(n, arr):\n",
    "    # Code here\n",
    "    min = arr[-1]\n",
    "    while isEmpty(arr) == False:\n",
    "        if arr[-1] < min:\n",
    "            min = arr[-1]\n",
    "        pop(arr)\n",
    "        \n",
    "    return min\n",
    "        "
   ]
  },
  {
   "cell_type": "code",
   "execution_count": 30,
   "id": "36f46069-4d2e-4d07-b28c-702d97ecde8a",
   "metadata": {},
   "outputs": [],
   "source": [
    "stack = []"
   ]
  },
  {
   "cell_type": "code",
   "execution_count": 31,
   "id": "82bd86ae-69de-4ac3-82f7-7d6606e4b011",
   "metadata": {},
   "outputs": [
    {
     "data": {
      "text/plain": [
       "[2, 4, 1, 8, 6]"
      ]
     },
     "execution_count": 31,
     "metadata": {},
     "output_type": "execute_result"
    }
   ],
   "source": [
    "push(stack, 2)\n",
    "push(stack, 4)\n",
    "push(stack, 1)\n",
    "push(stack, 8)\n",
    "push(stack, 6)"
   ]
  },
  {
   "cell_type": "code",
   "execution_count": 28,
   "id": "1b6c029d-bc27-4cac-89a5-57f9dfb4966d",
   "metadata": {},
   "outputs": [
    {
     "name": "stdout",
     "output_type": "stream",
     "text": [
      "[2, 4, 1, 8, 6]\n",
      "6\n",
      "[2, 4, 1, 8]\n",
      "6\n",
      "[2, 4, 1]\n",
      "1\n",
      "[2, 4]\n",
      "1\n",
      "[2]\n",
      "1\n"
     ]
    },
    {
     "data": {
      "text/plain": [
       "1"
      ]
     },
     "execution_count": 28,
     "metadata": {},
     "output_type": "execute_result"
    }
   ],
   "source": [
    "getMin(1, stack)"
   ]
  },
  {
   "cell_type": "code",
   "execution_count": 24,
   "id": "20e67877-64f7-4740-801c-b4674e6eb219",
   "metadata": {},
   "outputs": [
    {
     "data": {
      "text/plain": [
       "1"
      ]
     },
     "execution_count": 24,
     "metadata": {},
     "output_type": "execute_result"
    }
   ],
   "source": [
    "arr = [1]\n",
    "arr[-1]"
   ]
  },
  {
   "cell_type": "code",
   "execution_count": null,
   "id": "268002b8-8c6f-46bc-8285-f6e831c70a93",
   "metadata": {},
   "outputs": [],
   "source": []
  }
 ],
 "metadata": {
  "kernelspec": {
   "display_name": "Python 3 (ipykernel)",
   "language": "python",
   "name": "python3"
  },
  "language_info": {
   "codemirror_mode": {
    "name": "ipython",
    "version": 3
   },
   "file_extension": ".py",
   "mimetype": "text/x-python",
   "name": "python",
   "nbconvert_exporter": "python",
   "pygments_lexer": "ipython3",
   "version": "3.11.8"
  }
 },
 "nbformat": 4,
 "nbformat_minor": 5
}
