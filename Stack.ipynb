{
 "cells": [
  {
   "cell_type": "code",
   "execution_count": 4,
   "id": "17708599-0990-4d70-b3f1-063e4a662266",
   "metadata": {},
   "outputs": [],
   "source": [
    "# Declare a stack \n",
    "stack = []"
   ]
  },
  {
   "cell_type": "code",
   "execution_count": 6,
   "id": "f6d21a45-6742-45d7-ba16-62a1ff51048e",
   "metadata": {},
   "outputs": [],
   "source": [
    "# Add an item to stack\n",
    "stack.append(1)\n",
    "stack.append(2)\n",
    "stack.append(3)\n",
    "stack.append(4)"
   ]
  },
  {
   "cell_type": "code",
   "execution_count": 7,
   "id": "243709bc-5013-492b-9fa5-d2a9087ade14",
   "metadata": {},
   "outputs": [
    {
     "data": {
      "text/plain": [
       "[1, 1, 2, 3, 4]"
      ]
     },
     "execution_count": 7,
     "metadata": {},
     "output_type": "execute_result"
    }
   ],
   "source": [
    "stack"
   ]
  },
  {
   "cell_type": "code",
   "execution_count": 8,
   "id": "7430db91-ca62-4109-96fb-d8423e8c043d",
   "metadata": {},
   "outputs": [
    {
     "data": {
      "text/plain": [
       "4"
      ]
     },
     "execution_count": 8,
     "metadata": {},
     "output_type": "execute_result"
    }
   ],
   "source": [
    "# Remove an item from the stack\n",
    "stack.pop()"
   ]
  },
  {
   "cell_type": "code",
   "execution_count": 13,
   "id": "94db501d-8b9e-42c9-8411-2090c2c5b6ab",
   "metadata": {},
   "outputs": [
    {
     "name": "stdout",
     "output_type": "stream",
     "text": [
      "3\n"
     ]
    }
   ],
   "source": [
    "# Get the top item of the stack \n",
    "if stack:\n",
    "    print(stack[-1])"
   ]
  },
  {
   "cell_type": "code",
   "execution_count": 12,
   "id": "854885e5-21a7-447e-a5fd-230726e164b7",
   "metadata": {},
   "outputs": [
    {
     "data": {
      "text/plain": [
       "3"
      ]
     },
     "execution_count": 12,
     "metadata": {},
     "output_type": "execute_result"
    }
   ],
   "source": [
    "stack[-1]"
   ]
  },
  {
   "cell_type": "code",
   "execution_count": 17,
   "id": "1ca5870f-1087-43f9-b7c5-2486accdf8cb",
   "metadata": {},
   "outputs": [],
   "source": [
    "# Stop poping from stack\n",
    "if not stack:\n",
    "    stack "
   ]
  },
  {
   "cell_type": "code",
   "execution_count": 20,
   "id": "ff012361-3d3f-410d-ac77-0bcc99cb6449",
   "metadata": {},
   "outputs": [],
   "source": [
    "# Leetcode 20\n",
    "# Valid Parentheses\n",
    "def isBalanced(s1, s2):\n",
    "    if (s1 == \"(\" and s2 == \")\") or (s1 == \"{\" and s2 == \"}\") or (s1 == \"[\" and s2 == \"]\"):\n",
    "        return True\n",
    "    else: \n",
    "        return False"
   ]
  },
  {
   "cell_type": "code",
   "execution_count": 23,
   "id": "5870d344-f521-43cf-b41d-d0d01ae85463",
   "metadata": {},
   "outputs": [
    {
     "data": {
      "text/plain": [
       "False"
      ]
     },
     "execution_count": 23,
     "metadata": {},
     "output_type": "execute_result"
    }
   ],
   "source": [
    "isBalanced(\"(\", \"}\")"
   ]
  },
  {
   "cell_type": "code",
   "execution_count": 54,
   "id": "bc43e13d-7742-43f4-8851-9a8b55984b50",
   "metadata": {},
   "outputs": [],
   "source": [
    "def isValid(s):\n",
    "    stack = []\n",
    "    for i in (s):\n",
    "        if  i == \"(\" or i == \"{\" or i == \"[\":\n",
    "            stack.append(i)\n",
    "        else: \n",
    "            if stack and isBalanced(stack[-1], i) == True:\n",
    "                stack.pop()\n",
    "            else: \n",
    "                return False\n",
    "          \n",
    "    if not stack: \n",
    "        return True\n",
    "        \n",
    "    return False"
   ]
  },
  {
   "cell_type": "code",
   "execution_count": 57,
   "id": "8febd331-3330-43db-a0f9-e7c556ad4114",
   "metadata": {},
   "outputs": [
    {
     "name": "stdout",
     "output_type": "stream",
     "text": [
      "True\n",
      "True\n"
     ]
    }
   ],
   "source": [
    "print(isValid(\"()[]{}\"))\n",
    "print(isValid(\"[{()}]\"))"
   ]
  },
  {
   "cell_type": "code",
   "execution_count": null,
   "id": "2579a7d5-fae5-4eca-8e50-351324167d6e",
   "metadata": {},
   "outputs": [],
   "source": []
  },
  {
   "cell_type": "code",
   "execution_count": null,
   "id": "b2cd4b35-e15e-4ff9-9129-c0febe13d7bd",
   "metadata": {},
   "outputs": [],
   "source": []
  }
 ],
 "metadata": {
  "kernelspec": {
   "display_name": "Python 3 (ipykernel)",
   "language": "python",
   "name": "python3"
  },
  "language_info": {
   "codemirror_mode": {
    "name": "ipython",
    "version": 3
   },
   "file_extension": ".py",
   "mimetype": "text/x-python",
   "name": "python",
   "nbconvert_exporter": "python",
   "pygments_lexer": "ipython3",
   "version": "3.11.8"
  }
 },
 "nbformat": 4,
 "nbformat_minor": 5
}
