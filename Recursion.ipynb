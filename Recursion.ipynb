{
 "cells": [
  {
   "cell_type": "code",
   "execution_count": 5,
   "id": "cfa59fe0-4239-4580-9d9e-9883f5c50d71",
   "metadata": {},
   "outputs": [],
   "source": [
    "# Problem 1\n",
    "# Find the factorial of a number\n",
    "def findFactorial(num):\n",
    "    if num == 1:\n",
    "        return 1\n",
    "    factorial = num*findFactorial(num -1)\n",
    "    return factorial"
   ]
  },
  {
   "cell_type": "code",
   "execution_count": 6,
   "id": "9bc1aed4-7661-4055-9651-e0f868590954",
   "metadata": {},
   "outputs": [
    {
     "data": {
      "text/plain": [
       "24"
      ]
     },
     "execution_count": 6,
     "metadata": {},
     "output_type": "execute_result"
    }
   ],
   "source": [
    "findFactorial(4)"
   ]
  },
  {
   "cell_type": "code",
   "execution_count": 13,
   "id": "f257fc22-3e63-4e05-8628-a638945abb64",
   "metadata": {},
   "outputs": [],
   "source": [
    "# Problem 2\n",
    "# Find the sum of an array using recursion \n",
    "def findSum(arr):\n",
    "    if len(arr) == 0:\n",
    "        return 0\n",
    "    sum = arr[0] + findSum(arr[1:])\n",
    "    return sum"
   ]
  },
  {
   "cell_type": "code",
   "execution_count": 15,
   "id": "bb93c14d-7a7c-4101-add5-5611723547af",
   "metadata": {},
   "outputs": [
    {
     "data": {
      "text/plain": [
       "11"
      ]
     },
     "execution_count": 15,
     "metadata": {},
     "output_type": "execute_result"
    }
   ],
   "source": [
    "findSum([1, 5, 7, -2])"
   ]
  },
  {
   "cell_type": "code",
   "execution_count": 19,
   "id": "fe35f1b8-c24a-4fc6-b7d2-918e5324274e",
   "metadata": {},
   "outputs": [],
   "source": [
    "# another way\n",
    "# fast sum\n",
    "def findSum(arr):\n",
    "    return sum(arr, 0)\n",
    "    \n",
    "def sum(arr, idx):\n",
    "    if len(arr) == idx:\n",
    "        return 0\n",
    "    return arr[idx] + sum(arr, idx+1)"
   ]
  },
  {
   "cell_type": "code",
   "execution_count": 20,
   "id": "2210efe3-2b2d-492d-8469-f3c4e4d8f35f",
   "metadata": {},
   "outputs": [
    {
     "data": {
      "text/plain": [
       "11"
      ]
     },
     "execution_count": 20,
     "metadata": {},
     "output_type": "execute_result"
    }
   ],
   "source": [
    "findSum([1, 5, 7, -2])"
   ]
  },
  {
   "cell_type": "code",
   "execution_count": 7,
   "id": "e0c317e8-5b99-450d-adc2-6c5a00f8bc84",
   "metadata": {},
   "outputs": [],
   "source": [
    "# Combination\n",
    "# Find the combination of array elements\n",
    "# If given array [a, b, c], combination of this would be [[], [a], [b], [c], [a, b], [b, c], [c, a], [a, b, c]]\n",
    "def findCombination(arr):\n",
    "    if len(arr) == 0:\n",
    "        return [[]]\n",
    "    firstEl = arr[0]\n",
    "    rest = arr[1:]\n",
    "\n",
    "    combsWithoutFirst = findCombination(rest)\n",
    "    combsWithFirst = []\n",
    "\n",
    "    for item in combsWithoutFirst:\n",
    "        combWithFirst = item + [firstEl]\n",
    "        combsWithFirst.append(combWithFirst)\n",
    "\n",
    "    return combsWithoutFirst + combsWithFirst\n",
    "    "
   ]
  },
  {
   "cell_type": "code",
   "execution_count": 11,
   "id": "b3caa6b0-a739-442b-ae11-7b679278c16c",
   "metadata": {},
   "outputs": [
    {
     "data": {
      "text/plain": [
       "[[], ['c'], ['b'], ['c', 'b'], ['a'], ['c', 'a'], ['b', 'a'], ['c', 'b', 'a']]"
      ]
     },
     "execution_count": 11,
     "metadata": {},
     "output_type": "execute_result"
    }
   ],
   "source": [
    "findCombination(['a', 'b', 'c'])"
   ]
  },
  {
   "cell_type": "code",
   "execution_count": 77,
   "id": "31b46bbb-cd2b-4877-b367-f59e1b0e3be2",
   "metadata": {},
   "outputs": [],
   "source": [
    "# Permutations\n",
    "def permutation(arr):\n",
    "    if len(arr) == 0:\n",
    "        return [[]]\n",
    "\n",
    "    firstEl = arr[0]\n",
    "    rest = arr[1: ]\n",
    "\n",
    "    permWithoutFirst = permutation(rest)\n",
    "    allPermutations = [] \n",
    "\n",
    "    for item in permWithoutFirst:\n",
    "        for i in range(len(item)+1):\n",
    "            permWithFirst = item[:i] + [firstEl] + item[i:]\n",
    "            allPermutations.append(permWithFirst)    \n",
    "   \n",
    "    return allPermutations\n"
   ]
  },
  {
   "cell_type": "code",
   "execution_count": 78,
   "id": "81d149a0-d6bc-4d96-9271-a7f22e71d91e",
   "metadata": {},
   "outputs": [
    {
     "data": {
      "text/plain": [
       "[[1, 2, 3], [2, 1, 3], [2, 3, 1], [1, 3, 2], [3, 1, 2], [3, 2, 1]]"
      ]
     },
     "execution_count": 78,
     "metadata": {},
     "output_type": "execute_result"
    }
   ],
   "source": [
    "permutation([1, 2, 3])"
   ]
  },
  {
   "cell_type": "code",
   "execution_count": 205,
   "id": "344f95e4-2cdd-4851-8bae-a4b297aaacf7",
   "metadata": {},
   "outputs": [],
   "source": [
    "# LeetCode 347\n",
    "def topKFrequent(nums, k):\n",
    "    hash_table = {}\n",
    "    for num in nums:\n",
    "        if num in hash_table: \n",
    "            hash_table[num] += 1\n",
    "        else:\n",
    "            hash_table[num] = 1\n",
    "\n",
    "    topK =[]\n",
    "    for i in range(k):\n",
    "        max = 0\n",
    "        item1=0\n",
    "      \n",
    "        for key in hash_table:\n",
    "            if hash_table[key] > max:\n",
    "                max, item1 = hash_table[key], key\n",
    "        topK.append(item1)\n",
    "        del hash_table[item1]\n",
    "    \n",
    "    return topK\n",
    "        "
   ]
  },
  {
   "cell_type": "code",
   "execution_count": 206,
   "id": "874bf776-3973-43fb-8d80-ee4c446d47b7",
   "metadata": {},
   "outputs": [
    {
     "data": {
      "text/plain": [
       "[1, 2]"
      ]
     },
     "execution_count": 206,
     "metadata": {},
     "output_type": "execute_result"
    }
   ],
   "source": [
    "topKFrequent([1,1,1,2,2, 4], 2)"
   ]
  },
  {
   "cell_type": "code",
   "execution_count": null,
   "id": "9de2cfb9-8580-4e36-800f-da3aee6400b2",
   "metadata": {},
   "outputs": [],
   "source": []
  },
  {
   "cell_type": "code",
   "execution_count": null,
   "id": "2f4f806e-e404-49cc-b3c1-6f9203465a1f",
   "metadata": {},
   "outputs": [],
   "source": []
  }
 ],
 "metadata": {
  "kernelspec": {
   "display_name": "Python 3 (ipykernel)",
   "language": "python",
   "name": "python3"
  },
  "language_info": {
   "codemirror_mode": {
    "name": "ipython",
    "version": 3
   },
   "file_extension": ".py",
   "mimetype": "text/x-python",
   "name": "python",
   "nbconvert_exporter": "python",
   "pygments_lexer": "ipython3",
   "version": "3.11.8"
  }
 },
 "nbformat": 4,
 "nbformat_minor": 5
}
