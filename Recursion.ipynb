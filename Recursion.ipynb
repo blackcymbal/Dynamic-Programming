{
 "cells": [
  {
   "cell_type": "code",
   "execution_count": 5,
   "id": "cfa59fe0-4239-4580-9d9e-9883f5c50d71",
   "metadata": {},
   "outputs": [],
   "source": [
    "# Problem 1\n",
    "# Find the factorial of a number\n",
    "def findFactorial(num):\n",
    "    if num == 1:\n",
    "        return 1\n",
    "    factorial = num*findFactorial(num -1)\n",
    "    return factorial"
   ]
  },
  {
   "cell_type": "code",
   "execution_count": 6,
   "id": "9bc1aed4-7661-4055-9651-e0f868590954",
   "metadata": {},
   "outputs": [
    {
     "data": {
      "text/plain": [
       "24"
      ]
     },
     "execution_count": 6,
     "metadata": {},
     "output_type": "execute_result"
    }
   ],
   "source": [
    "findFactorial(4)"
   ]
  },
  {
   "cell_type": "code",
   "execution_count": 13,
   "id": "f257fc22-3e63-4e05-8628-a638945abb64",
   "metadata": {},
   "outputs": [],
   "source": [
    "# Problem 2\n",
    "# Find the sum of an array using recursion \n",
    "def findSum(arr):\n",
    "    if len(arr) == 0:\n",
    "        return 0\n",
    "    sum = arr[0] + findSum(arr[1:])\n",
    "    return sum"
   ]
  },
  {
   "cell_type": "code",
   "execution_count": 15,
   "id": "bb93c14d-7a7c-4101-add5-5611723547af",
   "metadata": {},
   "outputs": [
    {
     "data": {
      "text/plain": [
       "11"
      ]
     },
     "execution_count": 15,
     "metadata": {},
     "output_type": "execute_result"
    }
   ],
   "source": [
    "findSum([1, 5, 7, -2])"
   ]
  },
  {
   "cell_type": "code",
   "execution_count": 16,
   "id": "fe35f1b8-c24a-4fc6-b7d2-918e5324274e",
   "metadata": {},
   "outputs": [],
   "source": [
    "# another way\n",
    "# fast sum\n",
    "def findSum(arr):\n",
    "    return sum(arr)\n",
    "    \n",
    "def sum(arr, idx):\n",
    "    if len(arr) == idx:\n",
    "        return 0"
   ]
  },
  {
   "cell_type": "code",
   "execution_count": null,
   "id": "2210efe3-2b2d-492d-8469-f3c4e4d8f35f",
   "metadata": {},
   "outputs": [],
   "source": []
  }
 ],
 "metadata": {
  "kernelspec": {
   "display_name": "Python 3 (ipykernel)",
   "language": "python",
   "name": "python3"
  },
  "language_info": {
   "codemirror_mode": {
    "name": "ipython",
    "version": 3
   },
   "file_extension": ".py",
   "mimetype": "text/x-python",
   "name": "python",
   "nbconvert_exporter": "python",
   "pygments_lexer": "ipython3",
   "version": "3.11.8"
  }
 },
 "nbformat": 4,
 "nbformat_minor": 5
}
