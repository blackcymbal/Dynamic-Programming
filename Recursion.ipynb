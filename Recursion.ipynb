{
 "cells": [
  {
   "cell_type": "code",
   "execution_count": 5,
   "id": "cfa59fe0-4239-4580-9d9e-9883f5c50d71",
   "metadata": {},
   "outputs": [],
   "source": [
    "# Problem 1\n",
    "# Find the factorial of a number\n",
    "def findFactorial(num):\n",
    "    if num == 1:\n",
    "        return 1\n",
    "    factorial = num*findFactorial(num -1)\n",
    "    return factorial"
   ]
  },
  {
   "cell_type": "code",
   "execution_count": 6,
   "id": "9bc1aed4-7661-4055-9651-e0f868590954",
   "metadata": {},
   "outputs": [
    {
     "data": {
      "text/plain": [
       "24"
      ]
     },
     "execution_count": 6,
     "metadata": {},
     "output_type": "execute_result"
    }
   ],
   "source": [
    "findFactorial(4)"
   ]
  },
  {
   "cell_type": "code",
   "execution_count": 13,
   "id": "f257fc22-3e63-4e05-8628-a638945abb64",
   "metadata": {},
   "outputs": [],
   "source": [
    "# Problem 2\n",
    "# Find the sum of an array using recursion \n",
    "def findSum(arr):\n",
    "    if len(arr) == 0:\n",
    "        return 0\n",
    "    sum = arr[0] + findSum(arr[1:])\n",
    "    return sum"
   ]
  },
  {
   "cell_type": "code",
   "execution_count": 15,
   "id": "bb93c14d-7a7c-4101-add5-5611723547af",
   "metadata": {},
   "outputs": [
    {
     "data": {
      "text/plain": [
       "11"
      ]
     },
     "execution_count": 15,
     "metadata": {},
     "output_type": "execute_result"
    }
   ],
   "source": [
    "findSum([1, 5, 7, -2])"
   ]
  },
  {
   "cell_type": "code",
   "execution_count": 19,
   "id": "fe35f1b8-c24a-4fc6-b7d2-918e5324274e",
   "metadata": {},
   "outputs": [],
   "source": [
    "# another way\n",
    "# fast sum\n",
    "def findSum(arr):\n",
    "    return sum(arr, 0)\n",
    "    \n",
    "def sum(arr, idx):\n",
    "    if len(arr) == idx:\n",
    "        return 0\n",
    "    return arr[idx] + sum(arr, idx+1)"
   ]
  },
  {
   "cell_type": "code",
   "execution_count": 20,
   "id": "2210efe3-2b2d-492d-8469-f3c4e4d8f35f",
   "metadata": {},
   "outputs": [
    {
     "data": {
      "text/plain": [
       "11"
      ]
     },
     "execution_count": 20,
     "metadata": {},
     "output_type": "execute_result"
    }
   ],
   "source": [
    "findSum([1, 5, 7, -2])"
   ]
  },
  {
   "cell_type": "code",
   "execution_count": 7,
   "id": "e0c317e8-5b99-450d-adc2-6c5a00f8bc84",
   "metadata": {},
   "outputs": [],
   "source": [
    "# Combination\n",
    "# Find the combination of array elements\n",
    "# If given array [a, b, c], combination of this would be [[], [a], [b], [c], [a, b], [b, c], [c, a], [a, b, c]]\n",
    "def findCombination(arr):\n",
    "    if len(arr) == 0:\n",
    "        return [[]]\n",
    "    firstEl = arr[0]\n",
    "    rest = arr[1:]\n",
    "\n",
    "    combsWithoutFirst = findCombination(rest)\n",
    "    combsWithFirst = []\n",
    "\n",
    "    for item in combsWithoutFirst:\n",
    "        combWithFirst = item + [firstEl]\n",
    "        combsWithFirst.append(combWithFirst)\n",
    "\n",
    "    return combsWithoutFirst + combsWithFirst\n",
    "    "
   ]
  },
  {
   "cell_type": "code",
   "execution_count": 11,
   "id": "b3caa6b0-a739-442b-ae11-7b679278c16c",
   "metadata": {},
   "outputs": [
    {
     "data": {
      "text/plain": [
       "[[], ['c'], ['b'], ['c', 'b'], ['a'], ['c', 'a'], ['b', 'a'], ['c', 'b', 'a']]"
      ]
     },
     "execution_count": 11,
     "metadata": {},
     "output_type": "execute_result"
    }
   ],
   "source": [
    "findCombination(['a', 'b', 'c'])"
   ]
  },
  {
   "cell_type": "code",
   "execution_count": 77,
   "id": "31b46bbb-cd2b-4877-b367-f59e1b0e3be2",
   "metadata": {},
   "outputs": [],
   "source": [
    "# Permutations\n",
    "def permutation(arr):\n",
    "    if len(arr) == 0:\n",
    "        return [[]]\n",
    "\n",
    "    firstEl = arr[0]\n",
    "    rest = arr[1: ]\n",
    "\n",
    "    permWithoutFirst = permutation(rest)\n",
    "    allPermutations = [] \n",
    "\n",
    "    for item in permWithoutFirst:\n",
    "        for i in range(len(item)+1):\n",
    "            permWithFirst = item[:i] + [firstEl] + item[i:]\n",
    "            allPermutations.append(permWithFirst)    \n",
    "   \n",
    "    return allPermutations\n"
   ]
  },
  {
   "cell_type": "code",
   "execution_count": 78,
   "id": "81d149a0-d6bc-4d96-9271-a7f22e71d91e",
   "metadata": {},
   "outputs": [
    {
     "data": {
      "text/plain": [
       "[[1, 2, 3], [2, 1, 3], [2, 3, 1], [1, 3, 2], [3, 1, 2], [3, 2, 1]]"
      ]
     },
     "execution_count": 78,
     "metadata": {},
     "output_type": "execute_result"
    }
   ],
   "source": [
    "permutation([1, 2, 3])"
   ]
  },
  {
   "cell_type": "code",
   "execution_count": 214,
   "id": "344f95e4-2cdd-4851-8bae-a4b297aaacf7",
   "metadata": {},
   "outputs": [],
   "source": [
    "# LeetCode 347\n",
    "def productExceptSelf(nums):\n",
    "    result = []\n",
    "    product = 1\n",
    "    for num in nums:\n",
    "        product*= num\n",
    "    for num in nums:\n",
    "        result.append(int(product/num))\n",
    "    return result\n",
    "        "
   ]
  },
  {
   "cell_type": "code",
   "execution_count": 215,
   "id": "874bf776-3973-43fb-8d80-ee4c446d47b7",
   "metadata": {},
   "outputs": [
    {
     "data": {
      "text/plain": [
       "[24, 12, 8, 6]"
      ]
     },
     "execution_count": 215,
     "metadata": {},
     "output_type": "execute_result"
    }
   ],
   "source": [
    "productExceptSelf([1,2,3,4])"
   ]
  },
  {
   "cell_type": "code",
   "execution_count": 237,
   "id": "9de2cfb9-8580-4e36-800f-da3aee6400b2",
   "metadata": {},
   "outputs": [],
   "source": [
    "# leetcode 153\n",
    "# find minimum in a rotated sorted array\n",
    "def search(nums, target):\n",
    "    lo = 0\n",
    "    hi = len(nums) - 1\n",
    "\n",
    "    while hi>=lo:\n",
    "        mid = (hi+lo)//2\n",
    "        if nums[mid] == target:\n",
    "            return mid\n",
    "        elif target < nums[hi]:\n",
    "            mid = hi - 1\n",
    "        else:\n",
    "            mid = lo + 1"
   ]
  },
  {
   "cell_type": "code",
   "execution_count": 238,
   "id": "2f4f806e-e404-49cc-b3c1-6f9203465a1f",
   "metadata": {},
   "outputs": [
    {
     "ename": "KeyboardInterrupt",
     "evalue": "",
     "output_type": "error",
     "traceback": [
      "\u001b[0;31m---------------------------------------------------------------------------\u001b[0m",
      "\u001b[0;31mKeyboardInterrupt\u001b[0m                         Traceback (most recent call last)",
      "Cell \u001b[0;32mIn[238], line 1\u001b[0m\n\u001b[0;32m----> 1\u001b[0m \u001b[43msearch\u001b[49m\u001b[43m(\u001b[49m\u001b[43m[\u001b[49m\u001b[38;5;241;43m4\u001b[39;49m\u001b[43m,\u001b[49m\u001b[38;5;241;43m5\u001b[39;49m\u001b[43m,\u001b[49m\u001b[38;5;241;43m6\u001b[39;49m\u001b[43m,\u001b[49m\u001b[38;5;241;43m7\u001b[39;49m\u001b[43m,\u001b[49m\u001b[38;5;241;43m0\u001b[39;49m\u001b[43m,\u001b[49m\u001b[38;5;241;43m1\u001b[39;49m\u001b[43m,\u001b[49m\u001b[38;5;241;43m2\u001b[39;49m\u001b[43m]\u001b[49m\u001b[43m,\u001b[49m\u001b[43m \u001b[49m\u001b[38;5;241;43m0\u001b[39;49m\u001b[43m)\u001b[49m\n",
      "Cell \u001b[0;32mIn[237], line 7\u001b[0m, in \u001b[0;36msearch\u001b[0;34m(nums, target)\u001b[0m\n\u001b[1;32m      4\u001b[0m lo \u001b[38;5;241m=\u001b[39m \u001b[38;5;241m0\u001b[39m\n\u001b[1;32m      5\u001b[0m hi \u001b[38;5;241m=\u001b[39m \u001b[38;5;28mlen\u001b[39m(nums) \u001b[38;5;241m-\u001b[39m \u001b[38;5;241m1\u001b[39m\n\u001b[0;32m----> 7\u001b[0m \u001b[38;5;28;01mwhile\u001b[39;00m hi\u001b[38;5;241m>\u001b[39m\u001b[38;5;241m=\u001b[39mlo:\n\u001b[1;32m      8\u001b[0m     mid \u001b[38;5;241m=\u001b[39m (hi\u001b[38;5;241m+\u001b[39mlo)\u001b[38;5;241m/\u001b[39m\u001b[38;5;241m/\u001b[39m\u001b[38;5;241m2\u001b[39m\n\u001b[1;32m      9\u001b[0m     \u001b[38;5;28;01mif\u001b[39;00m nums[mid] \u001b[38;5;241m==\u001b[39m target:\n",
      "\u001b[0;31mKeyboardInterrupt\u001b[0m: "
     ]
    }
   ],
   "source": [
    "search([4,5,6,7,0,1,2], 0)"
   ]
  },
  {
   "cell_type": "code",
   "execution_count": null,
   "id": "6877e6f8-fdda-4943-a1af-e6c419cfbf7b",
   "metadata": {},
   "outputs": [],
   "source": []
  }
 ],
 "metadata": {
  "kernelspec": {
   "display_name": "Python 3 (ipykernel)",
   "language": "python",
   "name": "python3"
  },
  "language_info": {
   "codemirror_mode": {
    "name": "ipython",
    "version": 3
   },
   "file_extension": ".py",
   "mimetype": "text/x-python",
   "name": "python",
   "nbconvert_exporter": "python",
   "pygments_lexer": "ipython3",
   "version": "3.11.8"
  }
 },
 "nbformat": 4,
 "nbformat_minor": 5
}
