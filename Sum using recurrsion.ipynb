{
 "cells": [
  {
   "cell_type": "code",
   "execution_count": 1,
   "id": "2c71932c-cb23-4091-96e9-5bf0bf26d7f1",
   "metadata": {},
   "outputs": [],
   "source": [
    "# Brute force solution\n",
    "def how_sum(target_sum, numbers):\n",
    "    if target_sum == 0:\n",
    "        return []\n",
    "    if target_sum < 0:\n",
    "        return None\n",
    "    for num in numbers:\n",
    "        remainder = target_sum - num\n",
    "        remainder_result = how_sum(remainder, numbers)\n",
    "        if remainder_result != None:\n",
    "            return remainder_result + [num]  \n",
    "            \n",
    "    return None\n",
    "        "
   ]
  },
  {
   "cell_type": "code",
   "execution_count": 2,
   "id": "3fa49623-c61a-4da6-b6a0-9b38734ac31f",
   "metadata": {},
   "outputs": [
    {
     "name": "stdout",
     "output_type": "stream",
     "text": [
      "[3, 2, 2]\n"
     ]
    },
    {
     "ename": "TypeError",
     "evalue": "'<' not supported between instances of 'list' and 'int'",
     "output_type": "error",
     "traceback": [
      "\u001b[0;31m---------------------------------------------------------------------------\u001b[0m",
      "\u001b[0;31mTypeError\u001b[0m                                 Traceback (most recent call last)",
      "Cell \u001b[0;32mIn[2], line 2\u001b[0m\n\u001b[1;32m      1\u001b[0m \u001b[38;5;28mprint\u001b[39m(how_sum(\u001b[38;5;241m7\u001b[39m,[\u001b[38;5;241m2\u001b[39m, \u001b[38;5;241m3\u001b[39m]))\n\u001b[0;32m----> 2\u001b[0m \u001b[38;5;28mprint\u001b[39m(\u001b[43mhow_sum\u001b[49m\u001b[43m(\u001b[49m\u001b[43m[\u001b[49m\u001b[38;5;241;43m2\u001b[39;49m\u001b[43m,\u001b[49m\u001b[38;5;241;43m3\u001b[39;49m\u001b[43m,\u001b[49m\u001b[38;5;241;43m6\u001b[39;49m\u001b[43m,\u001b[49m\u001b[38;5;241;43m7\u001b[39;49m\u001b[43m]\u001b[49m\u001b[43m,\u001b[49m\u001b[43m \u001b[49m\u001b[38;5;241;43m7\u001b[39;49m\u001b[43m)\u001b[49m)\n",
      "Cell \u001b[0;32mIn[1], line 5\u001b[0m, in \u001b[0;36mhow_sum\u001b[0;34m(target_sum, numbers)\u001b[0m\n\u001b[1;32m      3\u001b[0m \u001b[38;5;28;01mif\u001b[39;00m target_sum \u001b[38;5;241m==\u001b[39m \u001b[38;5;241m0\u001b[39m:\n\u001b[1;32m      4\u001b[0m     \u001b[38;5;28;01mreturn\u001b[39;00m []\n\u001b[0;32m----> 5\u001b[0m \u001b[38;5;28;01mif\u001b[39;00m \u001b[43mtarget_sum\u001b[49m\u001b[43m \u001b[49m\u001b[38;5;241;43m<\u001b[39;49m\u001b[43m \u001b[49m\u001b[38;5;241;43m0\u001b[39;49m:\n\u001b[1;32m      6\u001b[0m     \u001b[38;5;28;01mreturn\u001b[39;00m \u001b[38;5;28;01mNone\u001b[39;00m\n\u001b[1;32m      7\u001b[0m \u001b[38;5;28;01mfor\u001b[39;00m num \u001b[38;5;129;01min\u001b[39;00m numbers:\n",
      "\u001b[0;31mTypeError\u001b[0m: '<' not supported between instances of 'list' and 'int'"
     ]
    }
   ],
   "source": [
    "print(how_sum(7,[2, 3]))\n",
    "print(how_sum([2,3,6,7], 7))"
   ]
  },
  {
   "cell_type": "code",
   "execution_count": 15,
   "id": "c195e3ad-5ff5-44ea-9fd1-5206683b641e",
   "metadata": {},
   "outputs": [],
   "source": [
    "# Memoized version\n",
    "def how_sum(target_sum, numbers):\n",
    "    memo = dict()\n",
    "    def memo_helper(target_sum, numbers, memo):\n",
    "        if target_sum in memo:\n",
    "            return memo[target_sum]\n",
    "        if target_sum == 0:\n",
    "            return []\n",
    "        if target_sum < 0:\n",
    "            return None\n",
    "        for num in numbers:\n",
    "            remainder = target_sum - num\n",
    "            remainder_result = memo_helper(remainder, numbers, memo)\n",
    "            if remainder_result != None:\n",
    "                memo[target_sum] = remainder_result + [num]  \n",
    "                return memo[target_sum]  \n",
    "        memo[target_sum] = None     \n",
    "        return None\n",
    "    return memo_helper(target_sum, numbers, memo)\n"
   ]
  },
  {
   "cell_type": "code",
   "execution_count": 18,
   "id": "7ece3a5e-1f04-4036-b27e-e6fa9efb8a3c",
   "metadata": {},
   "outputs": [
    {
     "name": "stdout",
     "output_type": "stream",
     "text": [
      "[3, 2, 2]\n",
      "[4, 3]\n",
      "None\n",
      "[2, 2, 2, 2]\n",
      "None\n"
     ]
    }
   ],
   "source": [
    "print(how_sum(7,[2, 3]))\n",
    "print(how_sum(7,[5, 3, 4, 7]))\n",
    "print(how_sum(7,[2, 4]))\n",
    "print(how_sum(8,[2, 5]))\n",
    "print(how_sum(300,[7, 14]))"
   ]
  },
  {
   "cell_type": "code",
   "execution_count": 14,
   "id": "9f21a6d7-df9c-4965-b15e-ec1a119ee959",
   "metadata": {},
   "outputs": [],
   "source": [
    "# Brute force solution best sum\n",
    "def best_sum(target_sum, numbers):\n",
    "    if target_sum == 0:\n",
    "        return []\n",
    "    if target_sum < 0:\n",
    "        return None\n",
    "    shortest_combination = None\n",
    "    for num in numbers:\n",
    "        remainder = target_sum - num\n",
    "        remainder_result = best_sum(remainder, numbers)\n",
    "        if remainder_result != None:\n",
    "            combination = remainder_result + [num]\n",
    "            if (shortest_combination == None) or (len(combination) < len(shortest_combination)):\n",
    "                shortest_combination = combination\n",
    "              \n",
    "    return shortest_combination"
   ]
  },
  {
   "cell_type": "code",
   "execution_count": 16,
   "id": "fd1d1a05-b34e-4e50-b20b-62b8c7b1c25e",
   "metadata": {},
   "outputs": [
    {
     "name": "stdout",
     "output_type": "stream",
     "text": [
      "[7]\n",
      "[5, 3]\n",
      "[4, 4]\n",
      "Unexpected exception formatting exception. Falling back to standard exception\n"
     ]
    },
    {
     "name": "stderr",
     "output_type": "stream",
     "text": [
      "Traceback (most recent call last):\n",
      "  File \"/usr/local/opt/ipython/libexec/lib/python3.11/site-packages/IPython/core/interactiveshell.py\", line 3526, in run_code\n",
      "    exec(code_obj, self.user_global_ns, self.user_ns)\n",
      "  File \"/var/folders/cj/6sf3sh7s1xs2h2v27pz6tprr0000gq/T/ipykernel_38378/2366315657.py\", line 4, in <module>\n",
      "    print(best_sum(100, [1, 2, 5, 25]))\n",
      "          ^^^^^^^^^^^^^^^^^^^^^^^^^^^^\n",
      "  File \"/var/folders/cj/6sf3sh7s1xs2h2v27pz6tprr0000gq/T/ipykernel_38378/4012314317.py\", line 10, in best_sum\n",
      "    remainder_result = best_sum(remainder, numbers)\n",
      "                       ^^^^^^^^^^^^^^^^^^^^^^^^^^^^\n",
      "  File \"/var/folders/cj/6sf3sh7s1xs2h2v27pz6tprr0000gq/T/ipykernel_38378/4012314317.py\", line 10, in best_sum\n",
      "    remainder_result = best_sum(remainder, numbers)\n",
      "                       ^^^^^^^^^^^^^^^^^^^^^^^^^^^^\n",
      "  File \"/var/folders/cj/6sf3sh7s1xs2h2v27pz6tprr0000gq/T/ipykernel_38378/4012314317.py\", line 10, in best_sum\n",
      "    remainder_result = best_sum(remainder, numbers)\n",
      "                       ^^^^^^^^^^^^^^^^^^^^^^^^^^^^\n",
      "  [Previous line repeated 87 more times]\n",
      "  File \"/var/folders/cj/6sf3sh7s1xs2h2v27pz6tprr0000gq/T/ipykernel_38378/4012314317.py\", line -1, in best_sum\n",
      "KeyboardInterrupt\n",
      "\n",
      "During handling of the above exception, another exception occurred:\n",
      "\n",
      "Traceback (most recent call last):\n",
      "  File \"/usr/local/opt/ipython/libexec/lib/python3.11/site-packages/IPython/core/interactiveshell.py\", line 2120, in showtraceback\n",
      "    stb = self.InteractiveTB.structured_traceback(\n",
      "          ^^^^^^^^^^^^^^^^^^^^^^^^^^^^^^^^^^^^^^^^\n",
      "  File \"/usr/local/opt/ipython/libexec/lib/python3.11/site-packages/IPython/core/ultratb.py\", line 1435, in structured_traceback\n",
      "    return FormattedTB.structured_traceback(\n",
      "           ^^^^^^^^^^^^^^^^^^^^^^^^^^^^^^^^^\n",
      "  File \"/usr/local/opt/ipython/libexec/lib/python3.11/site-packages/IPython/core/ultratb.py\", line 1326, in structured_traceback\n",
      "    return VerboseTB.structured_traceback(\n",
      "           ^^^^^^^^^^^^^^^^^^^^^^^^^^^^^^^\n",
      "  File \"/usr/local/opt/ipython/libexec/lib/python3.11/site-packages/IPython/core/ultratb.py\", line 1173, in structured_traceback\n",
      "    formatted_exception = self.format_exception_as_a_whole(etype, evalue, etb, number_of_lines_of_context,\n",
      "                          ^^^^^^^^^^^^^^^^^^^^^^^^^^^^^^^^^^^^^^^^^^^^^^^^^^^^^^^^^^^^^^^^^^^^^^^^^^^^^^^^\n",
      "  File \"/usr/local/opt/ipython/libexec/lib/python3.11/site-packages/IPython/core/ultratb.py\", line 1088, in format_exception_as_a_whole\n",
      "    frames.append(self.format_record(record))\n",
      "                  ^^^^^^^^^^^^^^^^^^^^^^^^^^\n",
      "  File \"/usr/local/opt/ipython/libexec/lib/python3.11/site-packages/IPython/core/ultratb.py\", line 970, in format_record\n",
      "    frame_info.lines, Colors, self.has_colors, lvals\n",
      "    ^^^^^^^^^^^^^^^^\n",
      "  File \"/usr/local/opt/ipython/libexec/lib/python3.11/site-packages/IPython/core/ultratb.py\", line 792, in lines\n",
      "    return self._sd.lines\n",
      "           ^^^^^^^^^^^^^^\n",
      "  File \"/usr/local/opt/ipython/libexec/lib/python3.11/site-packages/stack_data/utils.py\", line 144, in cached_property_wrapper\n",
      "    value = obj.__dict__[self.func.__name__] = self.func(obj)\n",
      "                                               ^^^^^^^^^^^^^^\n",
      "  File \"/usr/local/opt/ipython/libexec/lib/python3.11/site-packages/stack_data/core.py\", line 734, in lines\n",
      "    pieces = self.included_pieces\n",
      "             ^^^^^^^^^^^^^^^^^^^^\n",
      "  File \"/usr/local/opt/ipython/libexec/lib/python3.11/site-packages/stack_data/utils.py\", line 144, in cached_property_wrapper\n",
      "    value = obj.__dict__[self.func.__name__] = self.func(obj)\n",
      "                                               ^^^^^^^^^^^^^^\n",
      "  File \"/usr/local/opt/ipython/libexec/lib/python3.11/site-packages/stack_data/core.py\", line 681, in included_pieces\n",
      "    pos = scope_pieces.index(self.executing_piece)\n",
      "                             ^^^^^^^^^^^^^^^^^^^^\n",
      "  File \"/usr/local/opt/ipython/libexec/lib/python3.11/site-packages/stack_data/utils.py\", line 144, in cached_property_wrapper\n",
      "    value = obj.__dict__[self.func.__name__] = self.func(obj)\n",
      "                                               ^^^^^^^^^^^^^^\n",
      "  File \"/usr/local/opt/ipython/libexec/lib/python3.11/site-packages/stack_data/core.py\", line 660, in executing_piece\n",
      "    return only(\n",
      "           ^^^^^\n",
      "  File \"/usr/local/opt/ipython/libexec/lib/python3.11/site-packages/executing/executing.py\", line 190, in only\n",
      "    raise NotOneValueFound('Expected one value, found 0')\n",
      "executing.executing.NotOneValueFound: Expected one value, found 0\n"
     ]
    }
   ],
   "source": [
    "print(best_sum(7, [5, 3, 4, 7]))\n",
    "print(best_sum(8, [2, 3, 5]))\n",
    "print(best_sum(8, [1, 4, 5]))\n",
    "print(best_sum(100, [1, 2, 5, 25]))"
   ]
  },
  {
   "cell_type": "code",
   "execution_count": 25,
   "id": "e1a2a35b-a8e9-40a3-8731-762b638918e3",
   "metadata": {},
   "outputs": [],
   "source": [
    "# Memoized best sum\n",
    "def best_sum(target_sum, numbers):\n",
    "    memo = dict()\n",
    "    def memo_helper(target_sum, numbers, memo):\n",
    "        if target_sum in memo: \n",
    "            return memo[target_sum]\n",
    "        if target_sum == 0:\n",
    "            return []\n",
    "        if target_sum < 0:\n",
    "            return None\n",
    "        shortest_combination = None\n",
    "        for num in numbers:\n",
    "            remainder = target_sum - num\n",
    "            remainder_result = memo_helper(remainder, numbers, memo)\n",
    "            if remainder_result != None:\n",
    "                combination = remainder_result + [num]\n",
    "                if (shortest_combination == None) or (len(combination) < len(shortest_combination)):\n",
    "                    shortest_combination = combination\n",
    "                  \n",
    "        memo[target_sum] = shortest_combination\n",
    "        return shortest_combination\n",
    "        \n",
    "    result = memo_helper(target_sum, numbers, memo)\n",
    "    return result\n",
    "    "
   ]
  },
  {
   "cell_type": "code",
   "execution_count": 26,
   "id": "d0435af9-3547-4af1-a129-174bdd367ccb",
   "metadata": {},
   "outputs": [
    {
     "name": "stdout",
     "output_type": "stream",
     "text": [
      "[7]\n",
      "[5, 3]\n",
      "[4, 4]\n",
      "[25, 25, 25, 25]\n"
     ]
    }
   ],
   "source": [
    "print(best_sum(7, [5, 3, 4, 7]))\n",
    "print(best_sum(8, [2, 3, 5]))\n",
    "print(best_sum(8, [1, 4, 5]))\n",
    "print(best_sum(100, [1, 2, 5, 25]))"
   ]
  },
  {
   "cell_type": "code",
   "execution_count": 3,
   "id": "ffea0b5d-d89d-441c-9ebd-2afb6c2cf9f0",
   "metadata": {},
   "outputs": [],
   "source": [
    "# Can construct brute force solution\n",
    "def can_construct(target, word_bank):\n",
    "    if target == \"\":\n",
    "        return True\n",
    "\n",
    "    for word in word_bank:\n",
    "        if target.startswith(word):\n",
    "            suffix = target[len(word):]\n",
    "            if can_construct(suffix, word_bank) == True:\n",
    "                return True\n",
    "    return False"
   ]
  },
  {
   "cell_type": "code",
   "execution_count": 6,
   "id": "8c9cd4ce-17f5-41d8-af79-541e40d375db",
   "metadata": {},
   "outputs": [
    {
     "name": "stdout",
     "output_type": "stream",
     "text": [
      "True\n",
      "False\n",
      "True\n",
      "Unexpected exception formatting exception. Falling back to standard exception\n"
     ]
    },
    {
     "name": "stderr",
     "output_type": "stream",
     "text": [
      "Traceback (most recent call last):\n",
      "  File \"/usr/local/opt/ipython/libexec/lib/python3.11/site-packages/IPython/core/interactiveshell.py\", line 3526, in run_code\n",
      "    exec(code_obj, self.user_global_ns, self.user_ns)\n",
      "  File \"/var/folders/cj/6sf3sh7s1xs2h2v27pz6tprr0000gq/T/ipykernel_930/565338313.py\", line 4, in <module>\n",
      "    print(can_construct(\"eeeeeeeeeeeeeeeeeeeeeeeeeeeeeeeeeeeeeeeeeeeeeeeeeeeeeeeeef\",[\"e\", \"ee\", \"eee\", \"eeee\", \"eeeee\", \"eeeeee\"]))\n",
      "          ^^^^^^^^^^^^^^^^^^^^^^^^^^^^^^^^^^^^^^^^^^^^^^^^^^^^^^^^^^^^^^^^^^^^^^^^^^^^^^^^^^^^^^^^^^^^^^^^^^^^^^^^^^^^^^^^^^^^^^^^^\n",
      "  File \"/var/folders/cj/6sf3sh7s1xs2h2v27pz6tprr0000gq/T/ipykernel_930/1154499011.py\", line 9, in can_construct\n",
      "    if can_construct(suffix, word_bank) == True:\n",
      "       ^^^^^^^^^^^^^^^^^^^^^^^^^^^^^^^^\n",
      "  File \"/var/folders/cj/6sf3sh7s1xs2h2v27pz6tprr0000gq/T/ipykernel_930/1154499011.py\", line 9, in can_construct\n",
      "    if can_construct(suffix, word_bank) == True:\n",
      "       ^^^^^^^^^^^^^^^^^^^^^^^^^^^^^^^^\n",
      "  File \"/var/folders/cj/6sf3sh7s1xs2h2v27pz6tprr0000gq/T/ipykernel_930/1154499011.py\", line 9, in can_construct\n",
      "    if can_construct(suffix, word_bank) == True:\n",
      "       ^^^^^^^^^^^^^^^^^^^^^^^^^^^^^^^^\n",
      "  [Previous line repeated 39 more times]\n",
      "  File \"/var/folders/cj/6sf3sh7s1xs2h2v27pz6tprr0000gq/T/ipykernel_930/1154499011.py\", line -1, in can_construct\n",
      "KeyboardInterrupt\n",
      "\n",
      "During handling of the above exception, another exception occurred:\n",
      "\n",
      "Traceback (most recent call last):\n",
      "  File \"/usr/local/opt/ipython/libexec/lib/python3.11/site-packages/IPython/core/interactiveshell.py\", line 2120, in showtraceback\n",
      "    stb = self.InteractiveTB.structured_traceback(\n",
      "          ^^^^^^^^^^^^^^^^^^^^^^^^^^^^^^^^^^^^^^^^\n",
      "  File \"/usr/local/opt/ipython/libexec/lib/python3.11/site-packages/IPython/core/ultratb.py\", line 1435, in structured_traceback\n",
      "    return FormattedTB.structured_traceback(\n",
      "           ^^^^^^^^^^^^^^^^^^^^^^^^^^^^^^^^^\n",
      "  File \"/usr/local/opt/ipython/libexec/lib/python3.11/site-packages/IPython/core/ultratb.py\", line 1326, in structured_traceback\n",
      "    return VerboseTB.structured_traceback(\n",
      "           ^^^^^^^^^^^^^^^^^^^^^^^^^^^^^^^\n",
      "  File \"/usr/local/opt/ipython/libexec/lib/python3.11/site-packages/IPython/core/ultratb.py\", line 1173, in structured_traceback\n",
      "    formatted_exception = self.format_exception_as_a_whole(etype, evalue, etb, number_of_lines_of_context,\n",
      "                          ^^^^^^^^^^^^^^^^^^^^^^^^^^^^^^^^^^^^^^^^^^^^^^^^^^^^^^^^^^^^^^^^^^^^^^^^^^^^^^^^\n",
      "  File \"/usr/local/opt/ipython/libexec/lib/python3.11/site-packages/IPython/core/ultratb.py\", line 1088, in format_exception_as_a_whole\n",
      "    frames.append(self.format_record(record))\n",
      "                  ^^^^^^^^^^^^^^^^^^^^^^^^^^\n",
      "  File \"/usr/local/opt/ipython/libexec/lib/python3.11/site-packages/IPython/core/ultratb.py\", line 970, in format_record\n",
      "    frame_info.lines, Colors, self.has_colors, lvals\n",
      "    ^^^^^^^^^^^^^^^^\n",
      "  File \"/usr/local/opt/ipython/libexec/lib/python3.11/site-packages/IPython/core/ultratb.py\", line 792, in lines\n",
      "    return self._sd.lines\n",
      "           ^^^^^^^^^^^^^^\n",
      "  File \"/usr/local/opt/ipython/libexec/lib/python3.11/site-packages/stack_data/utils.py\", line 144, in cached_property_wrapper\n",
      "    value = obj.__dict__[self.func.__name__] = self.func(obj)\n",
      "                                               ^^^^^^^^^^^^^^\n",
      "  File \"/usr/local/opt/ipython/libexec/lib/python3.11/site-packages/stack_data/core.py\", line 734, in lines\n",
      "    pieces = self.included_pieces\n",
      "             ^^^^^^^^^^^^^^^^^^^^\n",
      "  File \"/usr/local/opt/ipython/libexec/lib/python3.11/site-packages/stack_data/utils.py\", line 144, in cached_property_wrapper\n",
      "    value = obj.__dict__[self.func.__name__] = self.func(obj)\n",
      "                                               ^^^^^^^^^^^^^^\n",
      "  File \"/usr/local/opt/ipython/libexec/lib/python3.11/site-packages/stack_data/core.py\", line 681, in included_pieces\n",
      "    pos = scope_pieces.index(self.executing_piece)\n",
      "                             ^^^^^^^^^^^^^^^^^^^^\n",
      "  File \"/usr/local/opt/ipython/libexec/lib/python3.11/site-packages/stack_data/utils.py\", line 144, in cached_property_wrapper\n",
      "    value = obj.__dict__[self.func.__name__] = self.func(obj)\n",
      "                                               ^^^^^^^^^^^^^^\n",
      "  File \"/usr/local/opt/ipython/libexec/lib/python3.11/site-packages/stack_data/core.py\", line 660, in executing_piece\n",
      "    return only(\n",
      "           ^^^^^\n",
      "  File \"/usr/local/opt/ipython/libexec/lib/python3.11/site-packages/executing/executing.py\", line 190, in only\n",
      "    raise NotOneValueFound('Expected one value, found 0')\n",
      "executing.executing.NotOneValueFound: Expected one value, found 0\n"
     ]
    }
   ],
   "source": [
    "print(can_construct(\"abcdef\",[\"ab\", \"abc\", \"cd\", \"def\", \"abcd\"]))\n",
    "print(can_construct(\"skateboard\",[\"bo\", \"rd\", \"ate\", \"t\", \"ska\", \"sk\", \"boar\"]))\n",
    "print(can_construct(\"enterapotentpot\",[\"a\", \"p\", \"ent\", \"enter\", \"ot\", \"o\", \"t\"]))\n",
    "print(can_construct(\"eeeeeeeeeeeeeeeeeeeeeeeeeeeeeeeeeeeeeeeeeeeeeeeeeeeeeeeeef\",[\"e\", \"ee\", \"eee\", \"eeee\", \"eeeee\", \"eeeeee\"]))\n",
    "\n"
   ]
  },
  {
   "cell_type": "code",
   "execution_count": 13,
   "id": "b1bf19d2-f839-4e16-b414-7ab296ae0d9e",
   "metadata": {},
   "outputs": [],
   "source": [
    "# Can construct memoized solution\n",
    "def can_construct(target, word_bank):\n",
    "    memo = dict()\n",
    "    def memo_helper(target, word_bank, memo):\n",
    "        if target in memo: \n",
    "            return memo[target]\n",
    "        if target == \"\":\n",
    "            return True\n",
    "    \n",
    "        for word in word_bank:\n",
    "            if target.startswith(word):\n",
    "                suffix = target[len(word):]\n",
    "                if memo_helper(suffix, word_bank, memo) == True:\n",
    "                    memo[target] = True\n",
    "                    return memo[target]\n",
    "\n",
    "        memo[target] = False\n",
    "        return False\n",
    "    result = memo_helper(target, word_bank, memo)\n",
    "    return result"
   ]
  },
  {
   "cell_type": "code",
   "execution_count": 14,
   "id": "e1a90c00-6f5b-4c53-91f8-e51585238782",
   "metadata": {},
   "outputs": [
    {
     "name": "stdout",
     "output_type": "stream",
     "text": [
      "True\n",
      "False\n",
      "True\n",
      "False\n"
     ]
    }
   ],
   "source": [
    "print(can_construct(\"abcdef\",[\"ab\", \"abc\", \"cd\", \"def\", \"abcd\"]))\n",
    "print(can_construct(\"skateboard\",[\"bo\", \"rd\", \"ate\", \"t\", \"ska\", \"sk\", \"boar\"]))\n",
    "print(can_construct(\"enterapotentpot\",[\"a\", \"p\", \"ent\", \"enter\", \"ot\", \"o\", \"t\"]))\n",
    "print(can_construct(\"eeeeeeeeeeeeeeeeeeeeeeeeeeeeeeeeeeeeeeeeeeeeeeeeeeeeeeeeef\",[\"e\", \"ee\", \"eee\", \"eeee\", \"eeeee\", \"eeeeee\"]))"
   ]
  },
  {
   "cell_type": "code",
   "execution_count": 30,
   "id": "c74f290f-22cf-46cb-8938-99eb03aa7947",
   "metadata": {},
   "outputs": [],
   "source": [
    "# Count construct brute force solution\n",
    "def count_construct(target, word_bank):\n",
    "    if target == \"\":\n",
    "        return 1\n",
    "    total_count = 0\n",
    "    for word in word_bank:.?\n",
    "        if target.startswith(word):\n",
    "            num_ways_for_rest = count_construct(target[len(word):], word_bank)\n",
    "            total_count += num_ways_for_rest\n",
    "    return total_count"
   ]
  },
  {
   "cell_type": "code",
   "execution_count": 35,
   "id": "86d6212a-d98c-4bef-a6ef-a29ae707c2a3",
   "metadata": {},
   "outputs": [
    {
     "name": "stdout",
     "output_type": "stream",
     "text": [
      "4\n",
      "1\n",
      "0\n",
      "4\n"
     ]
    }
   ],
   "source": [
    "print(count_construct(\"purple\",[\"purp\", \"p\", \"ur\", \"le\", \"purpl\", \"urpl\",\"e\"]))\n",
    "print(count_construct(\"abcdef\",[\"ab\", \"abc\", \"cd\", \"def\", \"abcd\"]))\n",
    "print(count_construct(\"skateboard\",[\"bo\", \"rd\", \"ate\", \"t\", \"ska\", \"sk\", \"boar\"]))\n",
    "print(count_construct(\"enterapotentpot\",[\"a\", \"p\", \"ent\", \"enter\", \"ot\", \"o\", \"t\"]))"
   ]
  },
  {
   "cell_type": "code",
   "execution_count": 45,
   "id": "bff5447e-baa5-46ba-8df2-041a6b2bb8cc",
   "metadata": {},
   "outputs": [],
   "source": [
    "# Count construct memoized solution\n",
    "def count_construct(target, word_bank):\n",
    "    memo = dict()\n",
    "    def memo_helper(target, word_bank, memo):\n",
    "        if target in memo:\n",
    "            return memo[target]\n",
    "        if target == \"\":\n",
    "            return 1\n",
    "        total_count = 0\n",
    "        for word in word_bank:\n",
    "            if target.startswith(word):\n",
    "                num_ways_for_rest = memo_helper(target[len(word):], word_bank, memo)\n",
    "                total_count += num_ways_for_rest\n",
    "        memo[target] = total_count\n",
    "        return memo[target]\n",
    "    result = memo_helper(target, word_bank, memo)\n",
    "    return result"
   ]
  },
  {
   "cell_type": "code",
   "execution_count": 46,
   "id": "faf69f0e-c989-48d6-ad2c-4fe17f50dfb4",
   "metadata": {},
   "outputs": [
    {
     "name": "stdout",
     "output_type": "stream",
     "text": [
      "4\n",
      "1\n",
      "0\n",
      "4\n",
      "0\n"
     ]
    }
   ],
   "source": [
    "print(count_construct(\"purple\",[\"purp\", \"p\", \"ur\", \"le\", \"purpl\", \"urpl\",\"e\"]))\n",
    "print(count_construct(\"abcdef\",[\"ab\", \"abc\", \"cd\", \"def\", \"abcd\"]))\n",
    "print(count_construct(\"skateboard\",[\"bo\", \"rd\", \"ate\", \"t\", \"ska\", \"sk\", \"boar\"]))\n",
    "print(count_construct(\"enterapotentpot\",[\"a\", \"p\", \"ent\", \"enter\", \"ot\", \"o\", \"t\"]))\n",
    "print(count_construct(\"eeeeeeeeeeeeeeeeeeeeeeeeeeeeeeeeeeeeeeeeeeeeeeeeeeeeeeeeef\",[\"e\", \"ee\", \"eee\", \"eeee\", \"eeeee\", \"eeeeee\"]))"
   ]
  },
  {
   "cell_type": "code",
   "execution_count": 138,
   "id": "ffdd6e9f-ee98-4b7f-ba23-7b35d5a07641",
   "metadata": {},
   "outputs": [],
   "source": [
    "# All construct brute force solution\n",
    "def all_construct(target, word_bank):\n",
    "    if target == \"\":\n",
    "        return [[]]\n",
    "    result = []\n",
    "    for word in word_bank:\n",
    "        if target.startswith(word):\n",
    "            suffix_ways = all_construct(target[len(word):], word_bank)\n",
    "            target_ways = []\n",
    "            for way in suffix_ways: \n",
    "                result.append([word] + way)    \n",
    "    return result"
   ]
  },
  {
   "cell_type": "code",
   "execution_count": 143,
   "id": "198f8686-b0ca-4648-875b-8b224d82b3af",
   "metadata": {},
   "outputs": [
    {
     "name": "stdout",
     "output_type": "stream",
     "text": [
      "[['purp', 'le'], ['p', 'ur', 'p', 'le']]\n",
      "[['ab', 'cd', 'ef'], ['ab', 'c', 'def'], ['abc', 'def'], ['abcd', 'ef']]\n",
      "[]\n"
     ]
    }
   ],
   "source": [
    "print(all_construct(\"purple\",[\"purp\", \"p\", \"ur\", \"le\", \"purpl\"]))\n",
    "print(all_construct(\"abcdef\",[\"ab\", \"abc\", \"cd\", \"def\", \"abcd\", \"ef\", \"c\"]))\n",
    "print(all_construct(\"skateboard\",[\"bo\", \"rd\", \"ate\", \"t\", \"ska\", \"sk\", \"boar\"]))"
   ]
  },
  {
   "cell_type": "code",
   "execution_count": 145,
   "id": "e48439c8-53fc-49f2-ae19-73afad0e38e3",
   "metadata": {},
   "outputs": [],
   "source": [
    "# All construct memoized solution\n",
    "def all_construct(target, word_bank):\n",
    "    memo= dict()\n",
    "    def memo_helper(target, word_bank, memo):\n",
    "        if target in memo:\n",
    "            return memo[target]\n",
    "        if target == \"\":\n",
    "            return [[]]\n",
    "        result = []\n",
    "        for word in word_bank:\n",
    "            if target.startswith(word):\n",
    "                suffix_ways = memo_helper(target[len(word):], word_bank, memo)\n",
    "                target_ways = []\n",
    "                for way in suffix_ways: \n",
    "                    result.append([word] + way)  \n",
    "        memo[target] = result\n",
    "        return result\n",
    "    memo_result = memo_helper(target, word_bank, memo)\n",
    "    return memo_result"
   ]
  },
  {
   "cell_type": "code",
   "execution_count": 148,
   "id": "023ccc6b-a39b-4466-9d3b-d92208583060",
   "metadata": {},
   "outputs": [
    {
     "name": "stdout",
     "output_type": "stream",
     "text": [
      "[['purp', 'le'], ['p', 'ur', 'p', 'le']]\n",
      "[['ab', 'cd', 'ef'], ['ab', 'c', 'def'], ['abc', 'def'], ['abcd', 'ef']]\n",
      "[]\n",
      "[]\n"
     ]
    }
   ],
   "source": [
    "print(all_construct(\"purple\",[\"purp\", \"p\", \"ur\", \"le\", \"purpl\"]))\n",
    "print(all_construct(\"abcdef\",[\"ab\", \"abc\", \"cd\", \"def\", \"abcd\", \"ef\", \"c\"]))\n",
    "print(all_construct(\"skateboard\",[\"bo\", \"rd\", \"ate\", \"t\", \"ska\", \"sk\", \"boar\"]))\n",
    "print(all_construct(\"eeeeeeeeeeeeeeeeeeeeeeeeeeeeeeeeeeeeeeeeeeeeeeeeeeeeeeeeef\",[\"e\", \"ee\", \"eee\", \"eeee\", \"eeeee\", \"eeeeee\"]))"
   ]
  },
  {
   "cell_type": "code",
   "execution_count": 21,
   "id": "cc4ac049-2e4d-4e9b-aad0-dd14d9abc57a",
   "metadata": {},
   "outputs": [],
   "source": [
    "class Solution:\n",
    "    def climbStairs(self, n: int) -> int:\n",
    "        if n == 0:\n",
    "            return 1\n",
    "        if n < 0:\n",
    "            return 0\n",
    "        total_count = 0\n",
    "        for i in range(1, 3):\n",
    "            num_ways_for_rest = self.climbStairs(n-i)\n",
    "            total_count+= num_ways_for_rest\n",
    "        return total_count\n",
    "    "
   ]
  },
  {
   "cell_type": "code",
   "execution_count": 22,
   "id": "3f975cce-558b-4e2a-94a6-c5d7514fadf5",
   "metadata": {},
   "outputs": [
    {
     "name": "stdout",
     "output_type": "stream",
     "text": [
      "8\n"
     ]
    }
   ],
   "source": [
    "solution = Solution()\n",
    "result = solution.climbStairs(5)  # Example: calculate ways to climb 5 stairs\n",
    "print(result)"
   ]
  },
  {
   "cell_type": "code",
   "execution_count": 123,
   "id": "37987a57-b9eb-4d89-a0b6-91190c22bb2e",
   "metadata": {},
   "outputs": [],
   "source": [
    "# leetcode 494\n",
    "def findTargetSumWays(nums, target):\n",
    "    if len(nums) == 0:\n",
    "        if target == 0:\n",
    "            return 1\n",
    "        else:\n",
    "            return 0\n",
    "    \n",
    "    result = findTargetSumWays(nums[1:], target - nums[0]) + findTargetSumWays(nums[1:], target + nums[0])\n",
    "    \n",
    "    \n",
    "    return result\n",
    "    "
   ]
  },
  {
   "cell_type": "code",
   "execution_count": 124,
   "id": "a9003e5b-3b62-434e-99a9-cf339fb9a010",
   "metadata": {},
   "outputs": [
    {
     "name": "stdout",
     "output_type": "stream",
     "text": [
      "5\n"
     ]
    },
    {
     "ename": "KeyboardInterrupt",
     "evalue": "",
     "output_type": "error",
     "traceback": [
      "\u001b[0;31m---------------------------------------------------------------------------\u001b[0m",
      "\u001b[0;31mKeyboardInterrupt\u001b[0m                         Traceback (most recent call last)",
      "Cell \u001b[0;32mIn[124], line 2\u001b[0m\n\u001b[1;32m      1\u001b[0m \u001b[38;5;28mprint\u001b[39m(findTargetSumWays([\u001b[38;5;241m1\u001b[39m, \u001b[38;5;241m1\u001b[39m, \u001b[38;5;241m1\u001b[39m, \u001b[38;5;241m1\u001b[39m, \u001b[38;5;241m1\u001b[39m], \u001b[38;5;241m3\u001b[39m))\n\u001b[0;32m----> 2\u001b[0m \u001b[38;5;28mprint\u001b[39m(\u001b[43mfindTargetSumWays\u001b[49m\u001b[43m(\u001b[49m\u001b[43m[\u001b[49m\u001b[38;5;241;43m1\u001b[39;49m\u001b[43m,\u001b[49m\u001b[43m \u001b[49m\u001b[38;5;241;43m1\u001b[39;49m\u001b[43m,\u001b[49m\u001b[43m \u001b[49m\u001b[38;5;241;43m1\u001b[39;49m\u001b[43m,\u001b[49m\u001b[43m \u001b[49m\u001b[38;5;241;43m1\u001b[39;49m\u001b[43m,\u001b[49m\u001b[43m \u001b[49m\u001b[38;5;241;43m1\u001b[39;49m\u001b[43m,\u001b[49m\u001b[43m \u001b[49m\u001b[38;5;241;43m1\u001b[39;49m\u001b[43m,\u001b[49m\u001b[43m \u001b[49m\u001b[38;5;241;43m1\u001b[39;49m\u001b[43m,\u001b[49m\u001b[38;5;241;43m1\u001b[39;49m\u001b[43m,\u001b[49m\u001b[38;5;241;43m1\u001b[39;49m\u001b[43m,\u001b[49m\u001b[38;5;241;43m1\u001b[39;49m\u001b[43m,\u001b[49m\u001b[38;5;241;43m1\u001b[39;49m\u001b[43m,\u001b[49m\u001b[38;5;241;43m1\u001b[39;49m\u001b[43m,\u001b[49m\u001b[38;5;241;43m1\u001b[39;49m\u001b[43m,\u001b[49m\u001b[38;5;241;43m1\u001b[39;49m\u001b[43m,\u001b[49m\u001b[38;5;241;43m1\u001b[39;49m\u001b[43m,\u001b[49m\u001b[38;5;241;43m1\u001b[39;49m\u001b[43m,\u001b[49m\u001b[38;5;241;43m1\u001b[39;49m\u001b[43m,\u001b[49m\u001b[38;5;241;43m1\u001b[39;49m\u001b[43m,\u001b[49m\u001b[38;5;241;43m1\u001b[39;49m\u001b[43m,\u001b[49m\u001b[38;5;241;43m1\u001b[39;49m\u001b[43m,\u001b[49m\u001b[38;5;241;43m1\u001b[39;49m\u001b[43m,\u001b[49m\u001b[38;5;241;43m1\u001b[39;49m\u001b[43m,\u001b[49m\u001b[38;5;241;43m1\u001b[39;49m\u001b[43m,\u001b[49m\u001b[38;5;241;43m1\u001b[39;49m\u001b[43m]\u001b[49m\u001b[43m,\u001b[49m\u001b[43m \u001b[49m\u001b[38;5;241;43m5\u001b[39;49m\u001b[43m)\u001b[49m)\n",
      "Cell \u001b[0;32mIn[123], line 9\u001b[0m, in \u001b[0;36mfindTargetSumWays\u001b[0;34m(nums, target)\u001b[0m\n\u001b[1;32m      6\u001b[0m     \u001b[38;5;28;01melse\u001b[39;00m:\n\u001b[1;32m      7\u001b[0m         \u001b[38;5;28;01mreturn\u001b[39;00m \u001b[38;5;241m0\u001b[39m\n\u001b[0;32m----> 9\u001b[0m result \u001b[38;5;241m=\u001b[39m findTargetSumWays(nums[\u001b[38;5;241m1\u001b[39m:], target \u001b[38;5;241m-\u001b[39m nums[\u001b[38;5;241m0\u001b[39m]) \u001b[38;5;241m+\u001b[39m \u001b[43mfindTargetSumWays\u001b[49m\u001b[43m(\u001b[49m\u001b[43mnums\u001b[49m\u001b[43m[\u001b[49m\u001b[38;5;241;43m1\u001b[39;49m\u001b[43m:\u001b[49m\u001b[43m]\u001b[49m\u001b[43m,\u001b[49m\u001b[43m \u001b[49m\u001b[43mtarget\u001b[49m\u001b[43m \u001b[49m\u001b[38;5;241;43m+\u001b[39;49m\u001b[43m \u001b[49m\u001b[43mnums\u001b[49m\u001b[43m[\u001b[49m\u001b[38;5;241;43m0\u001b[39;49m\u001b[43m]\u001b[49m\u001b[43m)\u001b[49m\n\u001b[1;32m     12\u001b[0m \u001b[38;5;28;01mreturn\u001b[39;00m result\n",
      "Cell \u001b[0;32mIn[123], line 9\u001b[0m, in \u001b[0;36mfindTargetSumWays\u001b[0;34m(nums, target)\u001b[0m\n\u001b[1;32m      6\u001b[0m     \u001b[38;5;28;01melse\u001b[39;00m:\n\u001b[1;32m      7\u001b[0m         \u001b[38;5;28;01mreturn\u001b[39;00m \u001b[38;5;241m0\u001b[39m\n\u001b[0;32m----> 9\u001b[0m result \u001b[38;5;241m=\u001b[39m \u001b[43mfindTargetSumWays\u001b[49m\u001b[43m(\u001b[49m\u001b[43mnums\u001b[49m\u001b[43m[\u001b[49m\u001b[38;5;241;43m1\u001b[39;49m\u001b[43m:\u001b[49m\u001b[43m]\u001b[49m\u001b[43m,\u001b[49m\u001b[43m \u001b[49m\u001b[43mtarget\u001b[49m\u001b[43m \u001b[49m\u001b[38;5;241;43m-\u001b[39;49m\u001b[43m \u001b[49m\u001b[43mnums\u001b[49m\u001b[43m[\u001b[49m\u001b[38;5;241;43m0\u001b[39;49m\u001b[43m]\u001b[49m\u001b[43m)\u001b[49m \u001b[38;5;241m+\u001b[39m findTargetSumWays(nums[\u001b[38;5;241m1\u001b[39m:], target \u001b[38;5;241m+\u001b[39m nums[\u001b[38;5;241m0\u001b[39m])\n\u001b[1;32m     12\u001b[0m \u001b[38;5;28;01mreturn\u001b[39;00m result\n",
      "    \u001b[0;31m[... skipping similar frames: findTargetSumWays at line 9 (20 times)]\u001b[0m\n",
      "Cell \u001b[0;32mIn[123], line 9\u001b[0m, in \u001b[0;36mfindTargetSumWays\u001b[0;34m(nums, target)\u001b[0m\n\u001b[1;32m      6\u001b[0m     \u001b[38;5;28;01melse\u001b[39;00m:\n\u001b[1;32m      7\u001b[0m         \u001b[38;5;28;01mreturn\u001b[39;00m \u001b[38;5;241m0\u001b[39m\n\u001b[0;32m----> 9\u001b[0m result \u001b[38;5;241m=\u001b[39m findTargetSumWays(nums[\u001b[38;5;241m1\u001b[39m:], target \u001b[38;5;241m-\u001b[39m nums[\u001b[38;5;241m0\u001b[39m]) \u001b[38;5;241m+\u001b[39m \u001b[43mfindTargetSumWays\u001b[49m\u001b[43m(\u001b[49m\u001b[43mnums\u001b[49m\u001b[43m[\u001b[49m\u001b[38;5;241;43m1\u001b[39;49m\u001b[43m:\u001b[49m\u001b[43m]\u001b[49m\u001b[43m,\u001b[49m\u001b[43m \u001b[49m\u001b[43mtarget\u001b[49m\u001b[43m \u001b[49m\u001b[38;5;241;43m+\u001b[39;49m\u001b[43m \u001b[49m\u001b[43mnums\u001b[49m\u001b[43m[\u001b[49m\u001b[38;5;241;43m0\u001b[39;49m\u001b[43m]\u001b[49m\u001b[43m)\u001b[49m\n\u001b[1;32m     12\u001b[0m \u001b[38;5;28;01mreturn\u001b[39;00m result\n",
      "Cell \u001b[0;32mIn[123], line 2\u001b[0m, in \u001b[0;36mfindTargetSumWays\u001b[0;34m(nums, target)\u001b[0m\n\u001b[1;32m      1\u001b[0m \u001b[38;5;66;03m# leetcode 494\u001b[39;00m\n\u001b[0;32m----> 2\u001b[0m \u001b[38;5;28;01mdef\u001b[39;00m \u001b[38;5;21mfindTargetSumWays\u001b[39m(nums, target):\n\u001b[1;32m      3\u001b[0m     \u001b[38;5;28;01mif\u001b[39;00m \u001b[38;5;28mlen\u001b[39m(nums) \u001b[38;5;241m==\u001b[39m \u001b[38;5;241m0\u001b[39m:\n\u001b[1;32m      4\u001b[0m         \u001b[38;5;28;01mif\u001b[39;00m target \u001b[38;5;241m==\u001b[39m \u001b[38;5;241m0\u001b[39m:\n",
      "\u001b[0;31mKeyboardInterrupt\u001b[0m: "
     ]
    }
   ],
   "source": [
    "print(findTargetSumWays([1, 1, 1, 1, 1], 3))\n",
    "print(findTargetSumWays([1, 1, 1, 1, 1, 1, 1,1,1,1,1,1,1,1,1,1,1,1,1,1,1,1,1,1], 5))"
   ]
  },
  {
   "cell_type": "code",
   "execution_count": 126,
   "id": "20901ac0-439a-4ef7-a113-57f70eef4b9b",
   "metadata": {},
   "outputs": [],
   "source": [
    "# memoized version\n",
    "def findTargetSumWays(nums, target):\n",
    "    memo = dict()\n",
    "\n",
    "    def memo_helper(nums, target, memo):\n",
    "        if (len(nums), target) in memo:\n",
    "            return memo[(len(nums), target)]\n",
    "\n",
    "        if len(nums) == 0:\n",
    "            if target == 0:\n",
    "                return 1\n",
    "            else:\n",
    "                return 0\n",
    "\n",
    "        result = memo_helper(nums[1:], target - nums[0], memo) + memo_helper(nums[1:], target + nums[0], memo)\n",
    "\n",
    "        memo[(len(nums), target)] = result\n",
    "        return result\n",
    "\n",
    "    return memo_helper(nums, target, memo)"
   ]
  },
  {
   "cell_type": "code",
   "execution_count": 127,
   "id": "2908087e-f389-4eae-ad82-1ef864248a19",
   "metadata": {},
   "outputs": [
    {
     "name": "stdout",
     "output_type": "stream",
     "text": [
      "5\n",
      "0\n"
     ]
    }
   ],
   "source": [
    "print(findTargetSumWays([1, 1, 1, 1, 1], 3))\n",
    "print(findTargetSumWays([1, 1, 1, 1, 1, 1, 1,1,1,1,1,1,1,1,1,1,1,1,1,1,1,1,1,1], 5))"
   ]
  },
  {
   "cell_type": "code",
   "execution_count": 128,
   "id": "2eb54646-96b1-47b7-b725-ebaf5034c714",
   "metadata": {},
   "outputs": [],
   "source": [
    "# Leetcode 62 bruteforce\n",
    "def uniquePaths(m, n):\n",
    "    if m == 1 and n == 1: \n",
    "        return 1\n",
    "    if m == 0 or n == 0:\n",
    "        return 0\n",
    "    result = uniquePaths(m - 1, n) + uniquePaths(m , n - 1)\n",
    "    return result\n",
    "    "
   ]
  },
  {
   "cell_type": "code",
   "execution_count": 131,
   "id": "b539a298-d732-4460-91fd-5b55009589f6",
   "metadata": {},
   "outputs": [
    {
     "name": "stdout",
     "output_type": "stream",
     "text": [
      "3\n"
     ]
    }
   ],
   "source": [
    "print(uniquePaths(3, 2))"
   ]
  },
  {
   "cell_type": "code",
   "execution_count": 132,
   "id": "db8e7fd3-217e-4751-b6ff-f1792c05c6f3",
   "metadata": {},
   "outputs": [],
   "source": [
    "# memoized version\n",
    "def uniquePaths(m, n):\n",
    "    memo = dict()\n",
    "    def memo_helper(m, n, memo):\n",
    "        if (m,n) in memo:\n",
    "            return memo[(m,n)] \n",
    "        if m == 1 and n == 1: \n",
    "            return 1\n",
    "        if m == 0 or n == 0:\n",
    "            return 0\n",
    "        memo[(m,n)] = memo_helper(m - 1, n, memo) + memo_helper(m , n - 1, memo)\n",
    "        return memo[(m,n)]\n",
    "    return memo_helper(m, n, memo)"
   ]
  },
  {
   "cell_type": "code",
   "execution_count": 134,
   "id": "b3c45a69-b284-498c-b38c-e1e7461b45dd",
   "metadata": {},
   "outputs": [
    {
     "name": "stdout",
     "output_type": "stream",
     "text": [
      "3\n",
      "23156006494021191956342707682359261381151378400\n"
     ]
    }
   ],
   "source": [
    "print(uniquePaths(3, 2))\n",
    "print(uniquePaths(80, 80))"
   ]
  },
  {
   "cell_type": "code",
   "execution_count": 1,
   "id": "ea71bcaf-84d3-4d3e-a8e1-943ccb11c63b",
   "metadata": {},
   "outputs": [],
   "source": [
    "# Leetcode 309\n",
    "def maxProfit(prices):\n",
    "    # State: Buying or selling?\n",
    "    # if Buy -> i+1\n",
    "    # if sell -> i+2\n",
    "\n",
    "    memo = {} # key =(i, buying) val = max_profit\n",
    "\n",
    "    def dfs(i, buying):\n",
    "        if i>= len(prices):\n",
    "            return 0\n",
    "        if (i, buying) in memo:\n",
    "            return memo[(i,buying)]\n",
    "        if buying:\n",
    "            buy = dfs(i+1, not buying) - prices[i]\n",
    "            cooldown = dfs(i+1, buying)\n",
    "            memo[(i,buying)] = max(buy, cooldown)\n",
    "        else:\n",
    "            sell = dfs(i+2, not buying) + prices[i]\n",
    "            cooldown = dfs(i+1, buying)\n",
    "            memo[(i,buying)] = max(sell, cooldown)\n",
    "        return memo[(i,buying)]\n",
    "    return dfs(0, True)\n",
    "        \n",
    "    "
   ]
  },
  {
   "cell_type": "code",
   "execution_count": 2,
   "id": "32b6f268-d95b-40fe-a91a-57982dec8e34",
   "metadata": {},
   "outputs": [
    {
     "name": "stdout",
     "output_type": "stream",
     "text": [
      "3\n"
     ]
    }
   ],
   "source": [
    "print(maxProfit([1,2,3,0,2]))"
   ]
  },
  {
   "cell_type": "code",
   "execution_count": 16,
   "id": "2d450995-2afd-4e28-84c6-240fd823195c",
   "metadata": {},
   "outputs": [],
   "source": [
    "# LeetCode 121\n",
    "# Brute force solution, time complexity n^2\n",
    "def maxProfit(prices):\n",
    "    max_profit = 0\n",
    "    for i in range (len(prices)):\n",
    "        for j in range(i+1,len(prices)):\n",
    "            if prices[j] >  prices[i]:\n",
    "                profit = prices[j] - prices[i]\n",
    "                if profit > max_profit:\n",
    "                    max_profit = profit\n",
    "    return max_profit\n"
   ]
  },
  {
   "cell_type": "code",
   "execution_count": 19,
   "id": "4614b5b6-90aa-41ea-ae0e-84b34e15044c",
   "metadata": {},
   "outputs": [
    {
     "name": "stdout",
     "output_type": "stream",
     "text": [
      "5\n",
      "0\n"
     ]
    }
   ],
   "source": [
    "print(maxProfit([7,1,5,3,6,4]))\n",
    "print(maxProfit([7,1]))"
   ]
  },
  {
   "cell_type": "code",
   "execution_count": 20,
   "id": "5d6ba44d-8191-41f7-bf8f-2c7e1fcc0afc",
   "metadata": {},
   "outputs": [],
   "source": [
    "def maxProfit(prices):\n",
    "    if len(prices) < 2:\n",
    "        return 0\n",
    "\n",
    "    min_price = prices[0]  # Initialize minimum price to the first price\n",
    "    max_profit = 0  # Initialize maximum profit to 0\n",
    "\n",
    "    for price in prices:\n",
    "        if price < min_price:\n",
    "            min_price = price\n",
    "        elif price - min_price > max_profit:\n",
    "            max_profit = price - min_price\n",
    "\n",
    "    return max_profit\n",
    "    \n"
   ]
  },
  {
   "cell_type": "code",
   "execution_count": 21,
   "id": "70fd7c46-6e62-4108-921c-e5e652c19bbb",
   "metadata": {},
   "outputs": [
    {
     "name": "stdout",
     "output_type": "stream",
     "text": [
      "5\n",
      "0\n"
     ]
    }
   ],
   "source": [
    "print(maxProfit([7,1,5,3,6,4]))\n",
    "print(maxProfit([7,1]))"
   ]
  },
  {
   "cell_type": "code",
   "execution_count": 7,
   "id": "de11313a-b282-40bd-b9bf-2170f401b24e",
   "metadata": {},
   "outputs": [],
   "source": [
    "def count_sum():\n",
    "    sum = 0\n",
    "    for i in range(1, 1000000000, 1):\n",
    "        sum += i\n",
    "    print(sum) "
   ]
  },
  {
   "cell_type": "code",
   "execution_count": 8,
   "id": "0a73eecb-40af-411f-a2d8-54cadd408fc1",
   "metadata": {},
   "outputs": [
    {
     "name": "stdout",
     "output_type": "stream",
     "text": [
      "499999999500000000\n"
     ]
    }
   ],
   "source": [
    "count_sum()"
   ]
  },
  {
   "cell_type": "code",
   "execution_count": null,
   "id": "515d8936-bd53-4119-945e-530b18c6cfb3",
   "metadata": {},
   "outputs": [],
   "source": []
  }
 ],
 "metadata": {
  "kernelspec": {
   "display_name": "Python 3 (ipykernel)",
   "language": "python",
   "name": "python3"
  },
  "language_info": {
   "codemirror_mode": {
    "name": "ipython",
    "version": 3
   },
   "file_extension": ".py",
   "mimetype": "text/x-python",
   "name": "python",
   "nbconvert_exporter": "python",
   "pygments_lexer": "ipython3",
   "version": "3.13.2"
  }
 },
 "nbformat": 4,
 "nbformat_minor": 5
}
