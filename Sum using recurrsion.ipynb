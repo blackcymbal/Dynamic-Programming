{
 "cells": [
  {
   "cell_type": "code",
   "execution_count": 60,
   "id": "2c71932c-cb23-4091-96e9-5bf0bf26d7f1",
   "metadata": {},
   "outputs": [],
   "source": [
    "def how_sum(target_sum, numbers):\n",
    "    if target_sum == 0:\n",
    "        return []\n",
    "    if target_sum < 0:\n",
    "        return None\n",
    "    for num in numbers:\n",
    "        remainder = target_sum - num\n",
    "        remainder_result = how_sum(remainder, numbers)\n",
    "        if remainder_result != None:\n",
    "            return remainder_result + [num]  \n",
    "            \n",
    "    return None\n",
    "        "
   ]
  },
  {
   "cell_type": "code",
   "execution_count": 61,
   "id": "3fa49623-c61a-4da6-b6a0-9b38734ac31f",
   "metadata": {},
   "outputs": [
    {
     "name": "stdout",
     "output_type": "stream",
     "text": [
      "[3, 2, 2]\n"
     ]
    }
   ],
   "source": [
    "print(how_sum(7,[2, 3]))"
   ]
  },
  {
   "cell_type": "code",
   "execution_count": 59,
   "id": "c195e3ad-5ff5-44ea-9fd1-5206683b641e",
   "metadata": {},
   "outputs": [],
   "source": [
    "remainderResult = []\n",
    "num = [4]\n",
    "remainderResult.append(num)"
   ]
  },
  {
   "cell_type": "code",
   "execution_count": 44,
   "id": "7ece3a5e-1f04-4036-b27e-e6fa9efb8a3c",
   "metadata": {},
   "outputs": [
    {
     "name": "stdout",
     "output_type": "stream",
     "text": [
      "[[4]]\n"
     ]
    }
   ],
   "source": [
    "print(remainderResult)"
   ]
  },
  {
   "cell_type": "code",
   "execution_count": null,
   "id": "9f21a6d7-df9c-4965-b15e-ec1a119ee959",
   "metadata": {},
   "outputs": [],
   "source": []
  }
 ],
 "metadata": {
  "kernelspec": {
   "display_name": "Python 3 (ipykernel)",
   "language": "python",
   "name": "python3"
  },
  "language_info": {
   "codemirror_mode": {
    "name": "ipython",
    "version": 3
   },
   "file_extension": ".py",
   "mimetype": "text/x-python",
   "name": "python",
   "nbconvert_exporter": "python",
   "pygments_lexer": "ipython3",
   "version": "3.11.5"
  }
 },
 "nbformat": 4,
 "nbformat_minor": 5
}
