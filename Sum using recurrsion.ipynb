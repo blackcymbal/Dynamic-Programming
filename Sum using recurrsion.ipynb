{
 "cells": [
  {
   "cell_type": "code",
   "execution_count": 7,
   "id": "2c71932c-cb23-4091-96e9-5bf0bf26d7f1",
   "metadata": {},
   "outputs": [],
   "source": [
    "# Brute force solution\n",
    "def how_sum(target_sum, numbers):\n",
    "    if target_sum == 0:\n",
    "        return []\n",
    "    if target_sum < 0:\n",
    "        return None\n",
    "    for num in numbers:\n",
    "        remainder = target_sum - num\n",
    "        remainder_result = how_sum(remainder, numbers)\n",
    "        if remainder_result != None:\n",
    "            return remainder_result + [num]  \n",
    "            \n",
    "    return None\n",
    "        "
   ]
  },
  {
   "cell_type": "code",
   "execution_count": 8,
   "id": "3fa49623-c61a-4da6-b6a0-9b38734ac31f",
   "metadata": {},
   "outputs": [
    {
     "name": "stdout",
     "output_type": "stream",
     "text": [
      "[3, 2, 2]\n"
     ]
    }
   ],
   "source": [
    "print(how_sum(7,[2, 3]))"
   ]
  },
  {
   "cell_type": "code",
   "execution_count": 15,
   "id": "c195e3ad-5ff5-44ea-9fd1-5206683b641e",
   "metadata": {},
   "outputs": [],
   "source": [
    "# Memoized version\n",
    "def how_sum(target_sum, numbers):\n",
    "    memo = dict()\n",
    "    def memo_helper(target_sum, numbers, memo):\n",
    "        if target_sum in memo:\n",
    "            return memo[target_sum]\n",
    "        if target_sum == 0:\n",
    "            return []\n",
    "        if target_sum < 0:\n",
    "            return None\n",
    "        for num in numbers:\n",
    "            remainder = target_sum - num\n",
    "            remainder_result = memo_helper(remainder, numbers, memo)\n",
    "            if remainder_result != None:\n",
    "                memo[target_sum] = remainder_result + [num]  \n",
    "                return memo[target_sum]  \n",
    "        memo[target_sum] = None     \n",
    "        return None\n",
    "    return memo_helper(target_sum, numbers, memo)\n"
   ]
  },
  {
   "cell_type": "code",
   "execution_count": 18,
   "id": "7ece3a5e-1f04-4036-b27e-e6fa9efb8a3c",
   "metadata": {},
   "outputs": [
    {
     "name": "stdout",
     "output_type": "stream",
     "text": [
      "[3, 2, 2]\n",
      "[4, 3]\n",
      "None\n",
      "[2, 2, 2, 2]\n",
      "None\n"
     ]
    }
   ],
   "source": [
    "print(how_sum(7,[2, 3]))\n",
    "print(how_sum(7,[5, 3, 4, 7]))\n",
    "print(how_sum(7,[2, 4]))\n",
    "print(how_sum(8,[2, 5]))\n",
    "print(how_sum(300,[7, 14]))"
   ]
  },
  {
   "cell_type": "code",
   "execution_count": 14,
   "id": "9f21a6d7-df9c-4965-b15e-ec1a119ee959",
   "metadata": {},
   "outputs": [],
   "source": [
    "# Brute force solution best sum\n",
    "def best_sum(target_sum, numbers):\n",
    "    if target_sum == 0:\n",
    "        return []\n",
    "    if target_sum < 0:\n",
    "        return None\n",
    "    shortest_combination = None\n",
    "    for num in numbers:\n",
    "        remainder = target_sum - num\n",
    "        remainder_result = best_sum(remainder, numbers)\n",
    "        if remainder_result != None:\n",
    "            combination = remainder_result + [num]\n",
    "            if (shortest_combination == None) or (len(combination) < len(shortest_combination)):\n",
    "                shortest_combination = combination\n",
    "              \n",
    "    return shortest_combination"
   ]
  },
  {
   "cell_type": "code",
   "execution_count": 16,
   "id": "fd1d1a05-b34e-4e50-b20b-62b8c7b1c25e",
   "metadata": {},
   "outputs": [
    {
     "name": "stdout",
     "output_type": "stream",
     "text": [
      "[7]\n",
      "[5, 3]\n",
      "[4, 4]\n",
      "Unexpected exception formatting exception. Falling back to standard exception\n"
     ]
    },
    {
     "name": "stderr",
     "output_type": "stream",
     "text": [
      "Traceback (most recent call last):\n",
      "  File \"/usr/local/opt/ipython/libexec/lib/python3.11/site-packages/IPython/core/interactiveshell.py\", line 3526, in run_code\n",
      "    exec(code_obj, self.user_global_ns, self.user_ns)\n",
      "  File \"/var/folders/cj/6sf3sh7s1xs2h2v27pz6tprr0000gq/T/ipykernel_38378/2366315657.py\", line 4, in <module>\n",
      "    print(best_sum(100, [1, 2, 5, 25]))\n",
      "          ^^^^^^^^^^^^^^^^^^^^^^^^^^^^\n",
      "  File \"/var/folders/cj/6sf3sh7s1xs2h2v27pz6tprr0000gq/T/ipykernel_38378/4012314317.py\", line 10, in best_sum\n",
      "    remainder_result = best_sum(remainder, numbers)\n",
      "                       ^^^^^^^^^^^^^^^^^^^^^^^^^^^^\n",
      "  File \"/var/folders/cj/6sf3sh7s1xs2h2v27pz6tprr0000gq/T/ipykernel_38378/4012314317.py\", line 10, in best_sum\n",
      "    remainder_result = best_sum(remainder, numbers)\n",
      "                       ^^^^^^^^^^^^^^^^^^^^^^^^^^^^\n",
      "  File \"/var/folders/cj/6sf3sh7s1xs2h2v27pz6tprr0000gq/T/ipykernel_38378/4012314317.py\", line 10, in best_sum\n",
      "    remainder_result = best_sum(remainder, numbers)\n",
      "                       ^^^^^^^^^^^^^^^^^^^^^^^^^^^^\n",
      "  [Previous line repeated 87 more times]\n",
      "  File \"/var/folders/cj/6sf3sh7s1xs2h2v27pz6tprr0000gq/T/ipykernel_38378/4012314317.py\", line -1, in best_sum\n",
      "KeyboardInterrupt\n",
      "\n",
      "During handling of the above exception, another exception occurred:\n",
      "\n",
      "Traceback (most recent call last):\n",
      "  File \"/usr/local/opt/ipython/libexec/lib/python3.11/site-packages/IPython/core/interactiveshell.py\", line 2120, in showtraceback\n",
      "    stb = self.InteractiveTB.structured_traceback(\n",
      "          ^^^^^^^^^^^^^^^^^^^^^^^^^^^^^^^^^^^^^^^^\n",
      "  File \"/usr/local/opt/ipython/libexec/lib/python3.11/site-packages/IPython/core/ultratb.py\", line 1435, in structured_traceback\n",
      "    return FormattedTB.structured_traceback(\n",
      "           ^^^^^^^^^^^^^^^^^^^^^^^^^^^^^^^^^\n",
      "  File \"/usr/local/opt/ipython/libexec/lib/python3.11/site-packages/IPython/core/ultratb.py\", line 1326, in structured_traceback\n",
      "    return VerboseTB.structured_traceback(\n",
      "           ^^^^^^^^^^^^^^^^^^^^^^^^^^^^^^^\n",
      "  File \"/usr/local/opt/ipython/libexec/lib/python3.11/site-packages/IPython/core/ultratb.py\", line 1173, in structured_traceback\n",
      "    formatted_exception = self.format_exception_as_a_whole(etype, evalue, etb, number_of_lines_of_context,\n",
      "                          ^^^^^^^^^^^^^^^^^^^^^^^^^^^^^^^^^^^^^^^^^^^^^^^^^^^^^^^^^^^^^^^^^^^^^^^^^^^^^^^^\n",
      "  File \"/usr/local/opt/ipython/libexec/lib/python3.11/site-packages/IPython/core/ultratb.py\", line 1088, in format_exception_as_a_whole\n",
      "    frames.append(self.format_record(record))\n",
      "                  ^^^^^^^^^^^^^^^^^^^^^^^^^^\n",
      "  File \"/usr/local/opt/ipython/libexec/lib/python3.11/site-packages/IPython/core/ultratb.py\", line 970, in format_record\n",
      "    frame_info.lines, Colors, self.has_colors, lvals\n",
      "    ^^^^^^^^^^^^^^^^\n",
      "  File \"/usr/local/opt/ipython/libexec/lib/python3.11/site-packages/IPython/core/ultratb.py\", line 792, in lines\n",
      "    return self._sd.lines\n",
      "           ^^^^^^^^^^^^^^\n",
      "  File \"/usr/local/opt/ipython/libexec/lib/python3.11/site-packages/stack_data/utils.py\", line 144, in cached_property_wrapper\n",
      "    value = obj.__dict__[self.func.__name__] = self.func(obj)\n",
      "                                               ^^^^^^^^^^^^^^\n",
      "  File \"/usr/local/opt/ipython/libexec/lib/python3.11/site-packages/stack_data/core.py\", line 734, in lines\n",
      "    pieces = self.included_pieces\n",
      "             ^^^^^^^^^^^^^^^^^^^^\n",
      "  File \"/usr/local/opt/ipython/libexec/lib/python3.11/site-packages/stack_data/utils.py\", line 144, in cached_property_wrapper\n",
      "    value = obj.__dict__[self.func.__name__] = self.func(obj)\n",
      "                                               ^^^^^^^^^^^^^^\n",
      "  File \"/usr/local/opt/ipython/libexec/lib/python3.11/site-packages/stack_data/core.py\", line 681, in included_pieces\n",
      "    pos = scope_pieces.index(self.executing_piece)\n",
      "                             ^^^^^^^^^^^^^^^^^^^^\n",
      "  File \"/usr/local/opt/ipython/libexec/lib/python3.11/site-packages/stack_data/utils.py\", line 144, in cached_property_wrapper\n",
      "    value = obj.__dict__[self.func.__name__] = self.func(obj)\n",
      "                                               ^^^^^^^^^^^^^^\n",
      "  File \"/usr/local/opt/ipython/libexec/lib/python3.11/site-packages/stack_data/core.py\", line 660, in executing_piece\n",
      "    return only(\n",
      "           ^^^^^\n",
      "  File \"/usr/local/opt/ipython/libexec/lib/python3.11/site-packages/executing/executing.py\", line 190, in only\n",
      "    raise NotOneValueFound('Expected one value, found 0')\n",
      "executing.executing.NotOneValueFound: Expected one value, found 0\n"
     ]
    }
   ],
   "source": [
    "print(best_sum(7, [5, 3, 4, 7]))\n",
    "print(best_sum(8, [2, 3, 5]))\n",
    "print(best_sum(8, [1, 4, 5]))\n",
    "print(best_sum(100, [1, 2, 5, 25]))"
   ]
  },
  {
   "cell_type": "code",
   "execution_count": 25,
   "id": "e1a2a35b-a8e9-40a3-8731-762b638918e3",
   "metadata": {},
   "outputs": [],
   "source": [
    "# Memoized best sum\n",
    "def best_sum(target_sum, numbers):\n",
    "    memo = dict()\n",
    "    def memo_helper(target_sum, numbers, memo):\n",
    "        if target_sum in memo: \n",
    "            return memo[target_sum]\n",
    "        if target_sum == 0:\n",
    "            return []\n",
    "        if target_sum < 0:\n",
    "            return None\n",
    "        shortest_combination = None\n",
    "        for num in numbers:\n",
    "            remainder = target_sum - num\n",
    "            remainder_result = memo_helper(remainder, numbers, memo)\n",
    "            if remainder_result != None:\n",
    "                combination = remainder_result + [num]\n",
    "                if (shortest_combination == None) or (len(combination) < len(shortest_combination)):\n",
    "                    shortest_combination = combination\n",
    "                  \n",
    "        memo[target_sum] = shortest_combination\n",
    "        return shortest_combination\n",
    "        \n",
    "    result = memo_helper(target_sum, numbers, memo)\n",
    "    return result\n",
    "    "
   ]
  },
  {
   "cell_type": "code",
   "execution_count": 26,
   "id": "d0435af9-3547-4af1-a129-174bdd367ccb",
   "metadata": {},
   "outputs": [
    {
     "name": "stdout",
     "output_type": "stream",
     "text": [
      "[7]\n",
      "[5, 3]\n",
      "[4, 4]\n",
      "[25, 25, 25, 25]\n"
     ]
    }
   ],
   "source": [
    "print(best_sum(7, [5, 3, 4, 7]))\n",
    "print(best_sum(8, [2, 3, 5]))\n",
    "print(best_sum(8, [1, 4, 5]))\n",
    "print(best_sum(100, [1, 2, 5, 25]))"
   ]
  },
  {
   "cell_type": "code",
   "execution_count": 3,
   "id": "ffea0b5d-d89d-441c-9ebd-2afb6c2cf9f0",
   "metadata": {},
   "outputs": [],
   "source": [
    "# Can construct brute force solution\n",
    "def can_construct(target, word_bank):\n",
    "    if target == \"\":\n",
    "        return True\n",
    "\n",
    "    for word in word_bank:\n",
    "        if target.startswith(word):\n",
    "            suffix = target[len(word):]\n",
    "            if can_construct(suffix, word_bank) == True:\n",
    "                return True\n",
    "    return False"
   ]
  },
  {
   "cell_type": "code",
   "execution_count": 6,
   "id": "8c9cd4ce-17f5-41d8-af79-541e40d375db",
   "metadata": {},
   "outputs": [
    {
     "name": "stdout",
     "output_type": "stream",
     "text": [
      "True\n",
      "False\n",
      "True\n",
      "Unexpected exception formatting exception. Falling back to standard exception\n"
     ]
    },
    {
     "name": "stderr",
     "output_type": "stream",
     "text": [
      "Traceback (most recent call last):\n",
      "  File \"/usr/local/opt/ipython/libexec/lib/python3.11/site-packages/IPython/core/interactiveshell.py\", line 3526, in run_code\n",
      "    exec(code_obj, self.user_global_ns, self.user_ns)\n",
      "  File \"/var/folders/cj/6sf3sh7s1xs2h2v27pz6tprr0000gq/T/ipykernel_930/565338313.py\", line 4, in <module>\n",
      "    print(can_construct(\"eeeeeeeeeeeeeeeeeeeeeeeeeeeeeeeeeeeeeeeeeeeeeeeeeeeeeeeeef\",[\"e\", \"ee\", \"eee\", \"eeee\", \"eeeee\", \"eeeeee\"]))\n",
      "          ^^^^^^^^^^^^^^^^^^^^^^^^^^^^^^^^^^^^^^^^^^^^^^^^^^^^^^^^^^^^^^^^^^^^^^^^^^^^^^^^^^^^^^^^^^^^^^^^^^^^^^^^^^^^^^^^^^^^^^^^^\n",
      "  File \"/var/folders/cj/6sf3sh7s1xs2h2v27pz6tprr0000gq/T/ipykernel_930/1154499011.py\", line 9, in can_construct\n",
      "    if can_construct(suffix, word_bank) == True:\n",
      "       ^^^^^^^^^^^^^^^^^^^^^^^^^^^^^^^^\n",
      "  File \"/var/folders/cj/6sf3sh7s1xs2h2v27pz6tprr0000gq/T/ipykernel_930/1154499011.py\", line 9, in can_construct\n",
      "    if can_construct(suffix, word_bank) == True:\n",
      "       ^^^^^^^^^^^^^^^^^^^^^^^^^^^^^^^^\n",
      "  File \"/var/folders/cj/6sf3sh7s1xs2h2v27pz6tprr0000gq/T/ipykernel_930/1154499011.py\", line 9, in can_construct\n",
      "    if can_construct(suffix, word_bank) == True:\n",
      "       ^^^^^^^^^^^^^^^^^^^^^^^^^^^^^^^^\n",
      "  [Previous line repeated 39 more times]\n",
      "  File \"/var/folders/cj/6sf3sh7s1xs2h2v27pz6tprr0000gq/T/ipykernel_930/1154499011.py\", line -1, in can_construct\n",
      "KeyboardInterrupt\n",
      "\n",
      "During handling of the above exception, another exception occurred:\n",
      "\n",
      "Traceback (most recent call last):\n",
      "  File \"/usr/local/opt/ipython/libexec/lib/python3.11/site-packages/IPython/core/interactiveshell.py\", line 2120, in showtraceback\n",
      "    stb = self.InteractiveTB.structured_traceback(\n",
      "          ^^^^^^^^^^^^^^^^^^^^^^^^^^^^^^^^^^^^^^^^\n",
      "  File \"/usr/local/opt/ipython/libexec/lib/python3.11/site-packages/IPython/core/ultratb.py\", line 1435, in structured_traceback\n",
      "    return FormattedTB.structured_traceback(\n",
      "           ^^^^^^^^^^^^^^^^^^^^^^^^^^^^^^^^^\n",
      "  File \"/usr/local/opt/ipython/libexec/lib/python3.11/site-packages/IPython/core/ultratb.py\", line 1326, in structured_traceback\n",
      "    return VerboseTB.structured_traceback(\n",
      "           ^^^^^^^^^^^^^^^^^^^^^^^^^^^^^^^\n",
      "  File \"/usr/local/opt/ipython/libexec/lib/python3.11/site-packages/IPython/core/ultratb.py\", line 1173, in structured_traceback\n",
      "    formatted_exception = self.format_exception_as_a_whole(etype, evalue, etb, number_of_lines_of_context,\n",
      "                          ^^^^^^^^^^^^^^^^^^^^^^^^^^^^^^^^^^^^^^^^^^^^^^^^^^^^^^^^^^^^^^^^^^^^^^^^^^^^^^^^\n",
      "  File \"/usr/local/opt/ipython/libexec/lib/python3.11/site-packages/IPython/core/ultratb.py\", line 1088, in format_exception_as_a_whole\n",
      "    frames.append(self.format_record(record))\n",
      "                  ^^^^^^^^^^^^^^^^^^^^^^^^^^\n",
      "  File \"/usr/local/opt/ipython/libexec/lib/python3.11/site-packages/IPython/core/ultratb.py\", line 970, in format_record\n",
      "    frame_info.lines, Colors, self.has_colors, lvals\n",
      "    ^^^^^^^^^^^^^^^^\n",
      "  File \"/usr/local/opt/ipython/libexec/lib/python3.11/site-packages/IPython/core/ultratb.py\", line 792, in lines\n",
      "    return self._sd.lines\n",
      "           ^^^^^^^^^^^^^^\n",
      "  File \"/usr/local/opt/ipython/libexec/lib/python3.11/site-packages/stack_data/utils.py\", line 144, in cached_property_wrapper\n",
      "    value = obj.__dict__[self.func.__name__] = self.func(obj)\n",
      "                                               ^^^^^^^^^^^^^^\n",
      "  File \"/usr/local/opt/ipython/libexec/lib/python3.11/site-packages/stack_data/core.py\", line 734, in lines\n",
      "    pieces = self.included_pieces\n",
      "             ^^^^^^^^^^^^^^^^^^^^\n",
      "  File \"/usr/local/opt/ipython/libexec/lib/python3.11/site-packages/stack_data/utils.py\", line 144, in cached_property_wrapper\n",
      "    value = obj.__dict__[self.func.__name__] = self.func(obj)\n",
      "                                               ^^^^^^^^^^^^^^\n",
      "  File \"/usr/local/opt/ipython/libexec/lib/python3.11/site-packages/stack_data/core.py\", line 681, in included_pieces\n",
      "    pos = scope_pieces.index(self.executing_piece)\n",
      "                             ^^^^^^^^^^^^^^^^^^^^\n",
      "  File \"/usr/local/opt/ipython/libexec/lib/python3.11/site-packages/stack_data/utils.py\", line 144, in cached_property_wrapper\n",
      "    value = obj.__dict__[self.func.__name__] = self.func(obj)\n",
      "                                               ^^^^^^^^^^^^^^\n",
      "  File \"/usr/local/opt/ipython/libexec/lib/python3.11/site-packages/stack_data/core.py\", line 660, in executing_piece\n",
      "    return only(\n",
      "           ^^^^^\n",
      "  File \"/usr/local/opt/ipython/libexec/lib/python3.11/site-packages/executing/executing.py\", line 190, in only\n",
      "    raise NotOneValueFound('Expected one value, found 0')\n",
      "executing.executing.NotOneValueFound: Expected one value, found 0\n"
     ]
    }
   ],
   "source": [
    "print(can_construct(\"abcdef\",[\"ab\", \"abc\", \"cd\", \"def\", \"abcd\"]))\n",
    "print(can_construct(\"skateboard\",[\"bo\", \"rd\", \"ate\", \"t\", \"ska\", \"sk\", \"boar\"]))\n",
    "print(can_construct(\"enterapotentpot\",[\"a\", \"p\", \"ent\", \"enter\", \"ot\", \"o\", \"t\"]))\n",
    "print(can_construct(\"eeeeeeeeeeeeeeeeeeeeeeeeeeeeeeeeeeeeeeeeeeeeeeeeeeeeeeeeef\",[\"e\", \"ee\", \"eee\", \"eeee\", \"eeeee\", \"eeeeee\"]))\n",
    "\n"
   ]
  },
  {
   "cell_type": "code",
   "execution_count": 9,
   "id": "b1bf19d2-f839-4e16-b414-7ab296ae0d9e",
   "metadata": {},
   "outputs": [],
   "source": [
    "# Can construct memoized solution\n",
    "def can_construct(target, word_bank):\n",
    "    memo = dict()\n",
    "    def memo_helper(target, word_bank, memo):\n",
    "        if target in memo: \n",
    "            return memo[target]\n",
    "        if target == \"\":\n",
    "            return True\n",
    "    \n",
    "        for word in word_bank:\n",
    "            if target.startswith(word):\n",
    "                suffix = target[len(word):]\n",
    "                if memo_helper(suffix, word_bank, memo) == True:\n",
    "                    memo[suffix] = True\n",
    "                    return memo[suffix]\n",
    "\n",
    "        memo[target] = False\n",
    "        return False\n",
    "    result = memo_helper(target, word_bank, memo)\n",
    "    return result"
   ]
  },
  {
   "cell_type": "code",
   "execution_count": 10,
   "id": "e1a90c00-6f5b-4c53-91f8-e51585238782",
   "metadata": {},
   "outputs": [
    {
     "name": "stdout",
     "output_type": "stream",
     "text": [
      "True\n",
      "False\n",
      "True\n",
      "False\n"
     ]
    }
   ],
   "source": [
    "print(can_construct(\"abcdef\",[\"ab\", \"abc\", \"cd\", \"def\", \"abcd\"]))\n",
    "print(can_construct(\"skateboard\",[\"bo\", \"rd\", \"ate\", \"t\", \"ska\", \"sk\", \"boar\"]))\n",
    "print(can_construct(\"enterapotentpot\",[\"a\", \"p\", \"ent\", \"enter\", \"ot\", \"o\", \"t\"]))\n",
    "print(can_construct(\"eeeeeeeeeeeeeeeeeeeeeeeeeeeeeeeeeeeeeeeeeeeeeeeeeeeeeeeeef\",[\"e\", \"ee\", \"eee\", \"eeee\", \"eeeee\", \"eeeeee\"]))"
   ]
  },
  {
   "cell_type": "code",
   "execution_count": null,
   "id": "c74f290f-22cf-46cb-8938-99eb03aa7947",
   "metadata": {},
   "outputs": [],
   "source": []
  }
 ],
 "metadata": {
  "kernelspec": {
   "display_name": "Python 3 (ipykernel)",
   "language": "python",
   "name": "python3"
  },
  "language_info": {
   "codemirror_mode": {
    "name": "ipython",
    "version": 3
   },
   "file_extension": ".py",
   "mimetype": "text/x-python",
   "name": "python",
   "nbconvert_exporter": "python",
   "pygments_lexer": "ipython3",
   "version": "3.11.5"
  }
 },
 "nbformat": 4,
 "nbformat_minor": 5
}
