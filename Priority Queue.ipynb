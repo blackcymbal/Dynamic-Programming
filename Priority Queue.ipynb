{
 "cells": [
  {
   "cell_type": "code",
   "execution_count": 1,
   "id": "e7a152ad-c13d-41bb-8837-bc9b325db5f0",
   "metadata": {},
   "outputs": [],
   "source": [
    "# Max heap\n",
    "# Mean heap"
   ]
  },
  {
   "cell_type": "code",
   "execution_count": 2,
   "id": "72895526-cd71-43e3-9b38-0cd433306cd9",
   "metadata": {},
   "outputs": [],
   "source": [
    "import queue"
   ]
  },
  {
   "cell_type": "code",
   "execution_count": 3,
   "id": "40aa7f12-ce4b-4f92-94f5-baed3763464b",
   "metadata": {},
   "outputs": [],
   "source": [
    "q = queue.PriorityQueue()"
   ]
  },
  {
   "cell_type": "code",
   "execution_count": 4,
   "id": "076e69ce-35bd-4712-8e64-057b23be8f94",
   "metadata": {},
   "outputs": [],
   "source": [
    "q.put(10)\n",
    "q.put(60)\n",
    "q.put(20)\n",
    "q.put(40)\n",
    "q.put(40)\n",
    "q.put(30)"
   ]
  },
  {
   "cell_type": "code",
   "execution_count": 5,
   "id": "fd43549f-f7df-4cb6-b9a9-850fb34a5528",
   "metadata": {},
   "outputs": [
    {
     "data": {
      "text/plain": [
       "10"
      ]
     },
     "execution_count": 5,
     "metadata": {},
     "output_type": "execute_result"
    }
   ],
   "source": [
    "q.get()"
   ]
  },
  {
   "cell_type": "code",
   "execution_count": 6,
   "id": "86ca497b-7c3f-46f1-9377-c6ce17ffd214",
   "metadata": {},
   "outputs": [
    {
     "data": {
      "text/plain": [
       "20"
      ]
     },
     "execution_count": 6,
     "metadata": {},
     "output_type": "execute_result"
    }
   ],
   "source": [
    "q.get()"
   ]
  },
  {
   "cell_type": "code",
   "execution_count": 7,
   "id": "265ddb7a-15c1-4a34-8110-dbdd6ec443a0",
   "metadata": {},
   "outputs": [
    {
     "data": {
      "text/plain": [
       "30"
      ]
     },
     "execution_count": 7,
     "metadata": {},
     "output_type": "execute_result"
    }
   ],
   "source": [
    "q.get()"
   ]
  },
  {
   "cell_type": "code",
   "execution_count": 8,
   "id": "52d1d9eb-166e-4695-82e5-bbbfc16db80b",
   "metadata": {},
   "outputs": [
    {
     "data": {
      "text/plain": [
       "40"
      ]
     },
     "execution_count": 8,
     "metadata": {},
     "output_type": "execute_result"
    }
   ],
   "source": [
    "q.get()"
   ]
  },
  {
   "cell_type": "code",
   "execution_count": 9,
   "id": "4c5ade78-eb91-4095-b28d-aca1032d6150",
   "metadata": {},
   "outputs": [
    {
     "data": {
      "text/plain": [
       "40"
      ]
     },
     "execution_count": 9,
     "metadata": {},
     "output_type": "execute_result"
    }
   ],
   "source": [
    "q.get()"
   ]
  },
  {
   "cell_type": "code",
   "execution_count": 10,
   "id": "691e1ceb-64ee-4f09-9118-be9ae76ed81e",
   "metadata": {},
   "outputs": [
    {
     "data": {
      "text/plain": [
       "60"
      ]
     },
     "execution_count": 10,
     "metadata": {},
     "output_type": "execute_result"
    }
   ],
   "source": [
    "q.get()"
   ]
  },
  {
   "cell_type": "code",
   "execution_count": 11,
   "id": "a866541e-02eb-456b-aa78-7dfee79cc37a",
   "metadata": {},
   "outputs": [
    {
     "data": {
      "text/plain": [
       "<queue.PriorityQueue at 0x1066a8550>"
      ]
     },
     "execution_count": 11,
     "metadata": {},
     "output_type": "execute_result"
    }
   ],
   "source": []
  },
  {
   "cell_type": "code",
   "execution_count": 12,
   "id": "26ffdbfc-72bb-423a-a934-0941f7be7216",
   "metadata": {},
   "outputs": [],
   "source": [
    "# Heap data structure is mainly used to represent a priority queue. \n",
    "# In Python, it is available using the “heapq” module.\n",
    "# The property of this data structure in Python is that each time the smallest heap element is popped(min-heap)"
   ]
  },
  {
   "cell_type": "code",
   "execution_count": 13,
   "id": "2e9642f6-02c8-43f0-a68a-1bc337bc686e",
   "metadata": {},
   "outputs": [
    {
     "name": "stdout",
     "output_type": "stream",
     "text": [
      "The created heap is :  [1, 3, 9, 7, 5]\n"
     ]
    }
   ],
   "source": [
    "# importing \"heapq\" to implement heap queue\n",
    "import heapq\n",
    " \n",
    "# initializing list\n",
    "li = [5, 7, 9, 1, 3]\n",
    " \n",
    "# using heapify to convert list into heap\n",
    "heapq.heapify(li)\n",
    " \n",
    "# printing created heap\n",
    "print (\"The created heap is : \",(list(li)))"
   ]
  },
  {
   "cell_type": "code",
   "execution_count": 14,
   "id": "5b9f5ebf-87d5-4863-ae20-1f7bd8077766",
   "metadata": {},
   "outputs": [
    {
     "name": "stdout",
     "output_type": "stream",
     "text": [
      "The created heap is : [1, 3, 9, 7, 5]\n",
      "The modified heap after push is : [1, 3, 4, 7, 5, 9]\n",
      "The popped and smallest element is : 1\n"
     ]
    }
   ],
   "source": [
    "# Appending and Popping Items Efficiently\n",
    "# importing \"heapq\" to implement heap queue\n",
    "import heapq\n",
    "\n",
    "# initializing list\n",
    "li = [5, 7, 9, 1, 3]\n",
    "\n",
    "# using heapify to convert list into heap\n",
    "heapq.heapify(li)\n",
    "\n",
    "# printing created heap\n",
    "print(\"The created heap is : \", end=\"\")\n",
    "print(list(li))\n",
    "\n",
    "# using heappush() to push elements into heap\n",
    "# pushes 4\n",
    "heapq.heappush(li, 4)\n",
    "\n",
    "# printing modified heap\n",
    "print(\"The modified heap after push is : \", end=\"\")\n",
    "print(list(li))\n",
    "\n",
    "# using heappop() to pop smallest element\n",
    "print(\"The popped and smallest element is : \", end=\"\")\n",
    "print(heapq.heappop(li))\n"
   ]
  },
  {
   "cell_type": "code",
   "execution_count": 26,
   "id": "f4b22772-44f5-4475-b589-dc75dc259a00",
   "metadata": {},
   "outputs": [],
   "source": [
    "# https://www.hackerearth.com/practice/data-structures/trees/heapspriority-queues/practice-problems/algorithm/monk-and-multiplication/\n",
    "# Monk and Multiplication\n",
    "import heapq\n",
    "\n",
    "def input(arr):\n",
    "    max_heap = []\n",
    "    for i in range(len(arr)):\n",
    "        heapq.heappush(max_heap, -arr[i])\n",
    "        if (len(max_heap) >= 3):\n",
    "            a = -heapq.heappop(max_heap)\n",
    "            b = -heapq.heappop(max_heap)\n",
    "            c = -heapq.heappop(max_heap)\n",
    "            print(a*b*c)\n",
    "            heapq.heappush(max_heap, -a)\n",
    "            heapq.heappush(max_heap, -b)\n",
    "            heapq.heappush(max_heap, -c)\n",
    "        else: \n",
    "            print(-1)\n",
    "            \n",
    "            \n",
    "    "
   ]
  },
  {
   "cell_type": "code",
   "execution_count": 27,
   "id": "17fbd6d3-3b6b-455e-9425-7c63ea55ec20",
   "metadata": {},
   "outputs": [
    {
     "name": "stdout",
     "output_type": "stream",
     "text": [
      "-1\n",
      "-1\n",
      "6\n",
      "24\n",
      "60\n"
     ]
    }
   ],
   "source": [
    "input([1, 2, 3, 4, 5])"
   ]
  },
  {
   "cell_type": "code",
   "execution_count": null,
   "id": "880ef7af-199b-4458-b740-9be5d859ca06",
   "metadata": {},
   "outputs": [],
   "source": []
  },
  {
   "cell_type": "code",
   "execution_count": null,
   "id": "379cf98d-c349-46a5-84d5-e2a898b9b0ee",
   "metadata": {},
   "outputs": [],
   "source": []
  }
 ],
 "metadata": {
  "kernelspec": {
   "display_name": "Python 3 (ipykernel)",
   "language": "python",
   "name": "python3"
  },
  "language_info": {
   "codemirror_mode": {
    "name": "ipython",
    "version": 3
   },
   "file_extension": ".py",
   "mimetype": "text/x-python",
   "name": "python",
   "nbconvert_exporter": "python",
   "pygments_lexer": "ipython3",
   "version": "3.11.8"
  }
 },
 "nbformat": 4,
 "nbformat_minor": 5
}
