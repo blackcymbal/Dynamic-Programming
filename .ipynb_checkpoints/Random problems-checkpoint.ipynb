{
 "cells": [
  {
   "cell_type": "code",
   "execution_count": 8,
   "id": "8ab3379a-8a3a-498c-b70a-666fcedb4655",
   "metadata": {},
   "outputs": [],
   "source": [
    "# Hacker candies\n",
    "def candies(n, arr):\n",
    "    candy_per = 1\n",
    "    total_candy = 1\n",
    "\n",
    "    for i in range(1, n, 1):\n",
    "        if arr[i] > arr[i - 1]:\n",
    "            candy_per +=1\n",
    "        else:\n",
    "            candy_per =1\n",
    "        print(candy_per)\n",
    "        total_candy += candy_per\n",
    "    return total_candy\n",
    "            \n",
    "            "
   ]
  },
  {
   "cell_type": "code",
   "execution_count": 9,
   "id": "2d3d89e3-a754-43e6-9dbb-9ee0e6fd5ef6",
   "metadata": {},
   "outputs": [
    {
     "name": "stdout",
     "output_type": "stream",
     "text": [
      "2\n",
      "1\n",
      "2\n",
      "3\n",
      "1\n"
     ]
    },
    {
     "data": {
      "text/plain": [
       "13"
      ]
     },
     "execution_count": 9,
     "metadata": {},
     "output_type": "execute_result"
    }
   ],
   "source": [
    "candies(6, [4, 6, 4, 5, 6, 2])"
   ]
  },
  {
   "cell_type": "code",
   "execution_count": null,
   "id": "a91a3a6c-0dad-414e-a13b-d512207b918a",
   "metadata": {},
   "outputs": [],
   "source": []
  }
 ],
 "metadata": {
  "kernelspec": {
   "display_name": "Python 3 (ipykernel)",
   "language": "python",
   "name": "python3"
  },
  "language_info": {
   "codemirror_mode": {
    "name": "ipython",
    "version": 3
   },
   "file_extension": ".py",
   "mimetype": "text/x-python",
   "name": "python",
   "nbconvert_exporter": "python",
   "pygments_lexer": "ipython3",
   "version": "3.11.8"
  }
 },
 "nbformat": 4,
 "nbformat_minor": 5
}
