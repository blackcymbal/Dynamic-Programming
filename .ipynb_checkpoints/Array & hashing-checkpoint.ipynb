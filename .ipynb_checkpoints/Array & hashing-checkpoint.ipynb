{
 "cells": [
  {
   "cell_type": "code",
   "execution_count": 3,
   "id": "e796084f-ae91-49e8-a81a-54768983aa39",
   "metadata": {},
   "outputs": [],
   "source": [
    "# Leetcode 217\n",
    "# Contains duplicate\n",
    "def containsDuplicate(nums):\n",
    "    hash_table = {}\n",
    "    for i in range(len(nums)):\n",
    "        if nums[i] in hash_table:\n",
    "            return True\n",
    "        hash_table[nums[i]] = 'a'\n",
    "    return False"
   ]
  },
  {
   "cell_type": "code",
   "execution_count": 6,
   "id": "5f6e17d7-2748-4baf-a8fb-c0978f7a057a",
   "metadata": {},
   "outputs": [
    {
     "name": "stdout",
     "output_type": "stream",
     "text": [
      "True\n",
      "False\n",
      "True\n"
     ]
    }
   ],
   "source": [
    "print(containsDuplicate([1,2,3,1]))\n",
    "print(containsDuplicate([1,2,3,4]))\n",
    "print(containsDuplicate([1,1,1,3,3,4,3,2,4,2]))"
   ]
  },
  {
   "cell_type": "code",
   "execution_count": 12,
   "id": "3becb084-4f9c-48af-a3ea-ef0a28f584bb",
   "metadata": {},
   "outputs": [],
   "source": [
    "# Leetcode 242\n",
    "# Valid Anagram\n",
    "def isAnagram(s, t):\n",
    "    hash_table = {}\n",
    "    if len(s) != len(t):\n",
    "        return False\n",
    "    for i in range(len(s)):\n",
    "        if s[i] in hash_table:\n",
    "            hash_table[s[i]] +=1\n",
    "        else:\n",
    "            hash_table[s[i]] = 1\n",
    "\n",
    "        if t[i] in hash_table: \n",
    "            hash_table[t[i]] -=1\n",
    "        else:\n",
    "            hash_table[t[i]] = -1\n",
    "    all_zeros = all(value == 0 for value in hash_table.values())\n",
    "\n",
    "    if all_zeros:\n",
    "        return True\n",
    "    return False\n",
    "\n",
    "\n",
    "            \n",
    "    \n",
    "    "
   ]
  },
  {
   "cell_type": "code",
   "execution_count": 14,
   "id": "9d9ebf69-f762-4b3f-818b-7a1d9ff0a0e9",
   "metadata": {},
   "outputs": [
    {
     "name": "stdout",
     "output_type": "stream",
     "text": [
      "True\n",
      "False\n"
     ]
    }
   ],
   "source": [
    "print(isAnagram(\"anagram\", \"nagaram\"))\n",
    "print(isAnagram(\"rat\", \"car\"))"
   ]
  },
  {
   "cell_type": "code",
   "execution_count": 16,
   "id": "64ecfef3-d47b-4e9d-bed6-d600b1d1870a",
   "metadata": {},
   "outputs": [
    {
     "name": "stdout",
     "output_type": "stream",
     "text": [
      "4\n",
      "1\n",
      "9\n"
     ]
    }
   ],
   "source": [
    "hash_table =  {'a': 4, 'b': 1, 'c': 9}\n",
    "for i in hash_table.values():\n",
    "    print(i)"
   ]
  },
  {
   "cell_type": "code",
   "execution_count": 35,
   "id": "8157f70b-8af6-473b-9386-fe7a9ef8a78b",
   "metadata": {},
   "outputs": [],
   "source": [
    "# Leetcode 1\n",
    "# Two sum\n",
    "def twoSum(nums, target):\n",
    "    hash_table = {}\n",
    "\n",
    "    for i in range(len(nums)):\n",
    "        if target - nums[i] in hash_table:\n",
    "            return [hash_table[target - nums[i]], i] # we return the the current position i\n",
    "\n",
    "        hash_table[nums[i]] = i\n",
    "\n",
    "    \n",
    "    "
   ]
  },
  {
   "cell_type": "code",
   "execution_count": 36,
   "id": "40170338-26ce-4310-b004-b77c3fdee1f1",
   "metadata": {},
   "outputs": [
    {
     "name": "stdout",
     "output_type": "stream",
     "text": [
      "[0, 1]\n",
      "[1, 2]\n",
      "[0, 1]\n"
     ]
    }
   ],
   "source": [
    "print(twoSum([2,7,11,15], 9))\n",
    "print(twoSum([3,2,4], 6))\n",
    "print(twoSum([3,3], 6))"
   ]
  },
  {
   "cell_type": "code",
   "execution_count": 45,
   "id": "e129eb2a-a412-44a7-9e2a-fd7118fb10c2",
   "metadata": {},
   "outputs": [],
   "source": [
    "# LeetCode 347\n",
    "# Top K frequent element\n",
    "def topKFrequent(nums, k):\n",
    "    hash_table = {}\n",
    "    \n",
    "    for i in range(len(nums)):\n",
    "        if nums[i] in hash_table:\n",
    "            hash_table[nums[i]] +=1\n",
    "        else:\n",
    "            hash_table[nums[i]] = 1\n",
    "            \n",
    "    for i in hash_table.values():\n",
    "        \n",
    "        \n",
    "    return hash_table\n",
    "    "
   ]
  },
  {
   "cell_type": "code",
   "execution_count": 46,
   "id": "62708957-6762-4b1d-bfa0-e0ff84e4cb1c",
   "metadata": {},
   "outputs": [
    {
     "name": "stdout",
     "output_type": "stream",
     "text": [
      "{1: 3, 2: 2, 3: 1}\n"
     ]
    }
   ],
   "source": [
    "print(topKFrequent([1,1,1,2,2,3],2))"
   ]
  },
  {
   "cell_type": "code",
   "execution_count": 38,
   "id": "36e89a8f-ff6e-426e-8a52-4900316af560",
   "metadata": {},
   "outputs": [],
   "source": [
    "# LeetCode 238\n",
    "# Product of an array except self\n",
    "\n",
    "def productExceptSelf(nums):\n",
    "    newArr = []\n",
    "    hash_table = {}\n",
    "    for i in range(len(nums)):\n",
    "        if nums[i] in hash_table:\n",
    "            newArr.append(hash_table[nums[i]])\n",
    "        else:\n",
    "            left, right = 1,1 \n",
    "            for j in range(i):\n",
    "                left *= nums[j]\n",
    "            for j in range(i+1, len(nums)):\n",
    "                right *= nums[j]\n",
    "            hash_table[nums[i]] = left*right  \n",
    "            newArr.append(left*right)       \n",
    "    return newArr\n",
    "        \n"
   ]
  },
  {
   "cell_type": "code",
   "execution_count": 39,
   "id": "73113b86-94ed-4f70-9e35-a8e99ec382bf",
   "metadata": {},
   "outputs": [
    {
     "name": "stdout",
     "output_type": "stream",
     "text": [
      "[24, 12, 8, 6]\n",
      "[0, 0]\n"
     ]
    }
   ],
   "source": [
    "print(productExceptSelf([1,2,3,4]))\n",
    "print(productExceptSelf([0,0]))"
   ]
  },
  {
   "cell_type": "code",
   "execution_count": 54,
   "id": "81bcfcd3-917a-453e-ab7c-d2e19a86fac6",
   "metadata": {},
   "outputs": [],
   "source": [
    "# Leetcode 49\n",
    "# Group anagrams\n",
    "def isAnagram(s, t):\n",
    "    hash_table = {}\n",
    "    if len(s) != len(t):\n",
    "        return False\n",
    "    for i in range(len(s)):\n",
    "        if s[i] in hash_table:\n",
    "            hash_table[s[i]] +=1\n",
    "        else:\n",
    "            hash_table[s[i]] = 1\n",
    "\n",
    "        if t[i] in hash_table: \n",
    "            hash_table[t[i]] -=1\n",
    "        else:\n",
    "            hash_table[t[i]] = -1\n",
    "    all_zeros = all(value == 0 for value in hash_table.values())\n",
    "\n",
    "    if all_zeros:\n",
    "        return True\n",
    "    return False\n",
    "    \n",
    "def groupAnagrams(strs):\n",
    "    arr = []\n",
    "    for i in range(len(strs)):\n",
    "        arr.append([strs[i]])\n",
    "        for j in range(i+1, len(strs)):\n",
    "            result = isAnagram(strs[i], strs[j])\n",
    "            if result == True:\n",
    "                arr[i].append(strs[j])\n",
    "\n",
    "\n",
    "    print(arr)\n",
    "    return arr"
   ]
  },
  {
   "cell_type": "code",
   "execution_count": 55,
   "id": "de4dd75f-192e-41f6-95d5-46726f58effe",
   "metadata": {},
   "outputs": [
    {
     "name": "stdout",
     "output_type": "stream",
     "text": [
      "[['eat', 'tea', 'ate'], ['tea', 'ate'], ['tan', 'nat'], ['ate'], ['nat'], ['bat']]\n"
     ]
    },
    {
     "data": {
      "text/plain": [
       "[['eat', 'tea', 'ate'],\n",
       " ['tea', 'ate'],\n",
       " ['tan', 'nat'],\n",
       " ['ate'],\n",
       " ['nat'],\n",
       " ['bat']]"
      ]
     },
     "execution_count": 55,
     "metadata": {},
     "output_type": "execute_result"
    }
   ],
   "source": [
    "groupAnagrams([\"eat\",\"tea\",\"tan\",\"ate\",\"nat\",\"bat\"])"
   ]
  },
  {
   "cell_type": "code",
   "execution_count": null,
   "id": "73ae852e-2238-4155-a62b-5f93125b7457",
   "metadata": {},
   "outputs": [],
   "source": []
  }
 ],
 "metadata": {
  "kernelspec": {
   "display_name": "Python 3 (ipykernel)",
   "language": "python",
   "name": "python3"
  },
  "language_info": {
   "codemirror_mode": {
    "name": "ipython",
    "version": 3
   },
   "file_extension": ".py",
   "mimetype": "text/x-python",
   "name": "python",
   "nbconvert_exporter": "python",
   "pygments_lexer": "ipython3",
   "version": "3.11.8"
  }
 },
 "nbformat": 4,
 "nbformat_minor": 5
}
