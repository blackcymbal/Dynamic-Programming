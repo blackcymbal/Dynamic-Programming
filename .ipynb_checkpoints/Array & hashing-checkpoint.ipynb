{
 "cells": [
  {
   "cell_type": "code",
   "execution_count": 3,
   "id": "e796084f-ae91-49e8-a81a-54768983aa39",
   "metadata": {},
   "outputs": [],
   "source": [
    "# Leetcode 217\n",
    "# Contains duplicate\n",
    "def containsDuplicate(nums):\n",
    "    hash_table = {}\n",
    "    for i in range(len(nums)):\n",
    "        if nums[i] in hash_table:\n",
    "            return True\n",
    "        hash_table[nums[i]] = 'a'\n",
    "    return False"
   ]
  },
  {
   "cell_type": "code",
   "execution_count": 6,
   "id": "5f6e17d7-2748-4baf-a8fb-c0978f7a057a",
   "metadata": {},
   "outputs": [
    {
     "name": "stdout",
     "output_type": "stream",
     "text": [
      "True\n",
      "False\n",
      "True\n"
     ]
    }
   ],
   "source": [
    "print(containsDuplicate([1,2,3,1]))\n",
    "print(containsDuplicate([1,2,3,4]))\n",
    "print(containsDuplicate([1,1,1,3,3,4,3,2,4,2]))"
   ]
  },
  {
   "cell_type": "code",
   "execution_count": 7,
   "id": "3becb084-4f9c-48af-a3ea-ef0a28f584bb",
   "metadata": {},
   "outputs": [],
   "source": [
    "# Leetcode 242\n",
    "# Valid Anagram\n",
    "def isAnagram(s, t):\n",
    "    hash_table = {}\n",
    "    for i in range(len(s)):\n",
    "        if s[i] in hash_table:\n",
    "            s[i] +=1\n",
    "        else:\n",
    "            s[i] = 1\n",
    "    print(s)\n",
    "    "
   ]
  },
  {
   "cell_type": "code",
   "execution_count": 8,
   "id": "9d9ebf69-f762-4b3f-818b-7a1d9ff0a0e9",
   "metadata": {},
   "outputs": [
    {
     "ename": "TypeError",
     "evalue": "isAnagram() missing 1 required positional argument: 't'",
     "output_type": "error",
     "traceback": [
      "\u001b[0;31m---------------------------------------------------------------------------\u001b[0m",
      "\u001b[0;31mTypeError\u001b[0m                                 Traceback (most recent call last)",
      "Cell \u001b[0;32mIn[8], line 1\u001b[0m\n\u001b[0;32m----> 1\u001b[0m \u001b[43misAnagram\u001b[49m\u001b[43m(\u001b[49m\u001b[38;5;124;43m\"\u001b[39;49m\u001b[38;5;124;43managram\u001b[39;49m\u001b[38;5;124;43m\"\u001b[39;49m\u001b[43m)\u001b[49m\n",
      "\u001b[0;31mTypeError\u001b[0m: isAnagram() missing 1 required positional argument: 't'"
     ]
    }
   ],
   "source": [
    "isAnagram(\"anagram\", \"anagram\")"
   ]
  },
  {
   "cell_type": "code",
   "execution_count": null,
   "id": "64ecfef3-d47b-4e9d-bed6-d600b1d1870a",
   "metadata": {},
   "outputs": [],
   "source": []
  }
 ],
 "metadata": {
  "kernelspec": {
   "display_name": "Python 3 (ipykernel)",
   "language": "python",
   "name": "python3"
  },
  "language_info": {
   "codemirror_mode": {
    "name": "ipython",
    "version": 3
   },
   "file_extension": ".py",
   "mimetype": "text/x-python",
   "name": "python",
   "nbconvert_exporter": "python",
   "pygments_lexer": "ipython3",
   "version": "3.11.8"
  }
 },
 "nbformat": 4,
 "nbformat_minor": 5
}
