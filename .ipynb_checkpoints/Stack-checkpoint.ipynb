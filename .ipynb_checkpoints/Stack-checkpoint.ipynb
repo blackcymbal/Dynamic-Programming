{
 "cells": [
  {
   "cell_type": "code",
   "execution_count": 4,
   "id": "17708599-0990-4d70-b3f1-063e4a662266",
   "metadata": {},
   "outputs": [],
   "source": [
    "# Declare a stack \n",
    "stack = []"
   ]
  },
  {
   "cell_type": "code",
   "execution_count": 6,
   "id": "f6d21a45-6742-45d7-ba16-62a1ff51048e",
   "metadata": {},
   "outputs": [],
   "source": [
    "# Add an item to stack\n",
    "stack.append(1)\n",
    "stack.append(2)\n",
    "stack.append(3)\n",
    "stack.append(4)"
   ]
  },
  {
   "cell_type": "code",
   "execution_count": 7,
   "id": "243709bc-5013-492b-9fa5-d2a9087ade14",
   "metadata": {},
   "outputs": [
    {
     "data": {
      "text/plain": [
       "[1, 1, 2, 3, 4]"
      ]
     },
     "execution_count": 7,
     "metadata": {},
     "output_type": "execute_result"
    }
   ],
   "source": [
    "stack"
   ]
  },
  {
   "cell_type": "code",
   "execution_count": 8,
   "id": "7430db91-ca62-4109-96fb-d8423e8c043d",
   "metadata": {},
   "outputs": [
    {
     "data": {
      "text/plain": [
       "4"
      ]
     },
     "execution_count": 8,
     "metadata": {},
     "output_type": "execute_result"
    }
   ],
   "source": [
    "# Remove an item from the stack\n",
    "stack.pop()"
   ]
  },
  {
   "cell_type": "code",
   "execution_count": 13,
   "id": "94db501d-8b9e-42c9-8411-2090c2c5b6ab",
   "metadata": {},
   "outputs": [
    {
     "name": "stdout",
     "output_type": "stream",
     "text": [
      "3\n"
     ]
    }
   ],
   "source": [
    "# Get the top item of the stack \n",
    "if stack:\n",
    "    print(stack[-1])"
   ]
  },
  {
   "cell_type": "code",
   "execution_count": 12,
   "id": "854885e5-21a7-447e-a5fd-230726e164b7",
   "metadata": {},
   "outputs": [
    {
     "data": {
      "text/plain": [
       "3"
      ]
     },
     "execution_count": 12,
     "metadata": {},
     "output_type": "execute_result"
    }
   ],
   "source": [
    "stack[-1]"
   ]
  },
  {
   "cell_type": "code",
   "execution_count": 17,
   "id": "1ca5870f-1087-43f9-b7c5-2486accdf8cb",
   "metadata": {},
   "outputs": [],
   "source": [
    "# Stop poping from stack\n",
    "if not stack:\n",
    "    stack "
   ]
  },
  {
   "cell_type": "code",
   "execution_count": 20,
   "id": "ff012361-3d3f-410d-ac77-0bcc99cb6449",
   "metadata": {},
   "outputs": [],
   "source": [
    "# Leetcode 20\n",
    "# Valid Parentheses\n",
    "def isBalanced(s1, s2):\n",
    "    if (s1 == \"(\" and s2 == \")\") or (s1 == \"{\" and s2 == \"}\") or (s1 == \"[\" and s2 == \"]\"):\n",
    "        return True\n",
    "    else: \n",
    "        return False"
   ]
  },
  {
   "cell_type": "code",
   "execution_count": 23,
   "id": "5870d344-f521-43cf-b41d-d0d01ae85463",
   "metadata": {},
   "outputs": [
    {
     "data": {
      "text/plain": [
       "False"
      ]
     },
     "execution_count": 23,
     "metadata": {},
     "output_type": "execute_result"
    }
   ],
   "source": [
    "isBalanced(\"(\", \"}\")"
   ]
  },
  {
   "cell_type": "code",
   "execution_count": 54,
   "id": "bc43e13d-7742-43f4-8851-9a8b55984b50",
   "metadata": {},
   "outputs": [],
   "source": [
    "def isValid(s):\n",
    "    stack = []\n",
    "    for i in (s):\n",
    "        if  i == \"(\" or i == \"{\" or i == \"[\":\n",
    "            stack.append(i)\n",
    "        else: \n",
    "            if stack and isBalanced(stack[-1], i) == True:\n",
    "                stack.pop()\n",
    "            else: \n",
    "                return False\n",
    "          \n",
    "    if not stack: \n",
    "        return True\n",
    "        \n",
    "    return False"
   ]
  },
  {
   "cell_type": "code",
   "execution_count": 57,
   "id": "8febd331-3330-43db-a0f9-e7c556ad4114",
   "metadata": {},
   "outputs": [
    {
     "name": "stdout",
     "output_type": "stream",
     "text": [
      "True\n",
      "True\n"
     ]
    }
   ],
   "source": [
    "print(isValid(\"()[]{}\"))\n",
    "print(isValid(\"[{()}]\"))"
   ]
  },
  {
   "cell_type": "code",
   "execution_count": null,
   "id": "2579a7d5-fae5-4eca-8e50-351324167d6e",
   "metadata": {},
   "outputs": [],
   "source": []
  },
  {
   "cell_type": "code",
   "execution_count": 4,
   "id": "b2cd4b35-e15e-4ff9-9129-c0febe13d7bd",
   "metadata": {},
   "outputs": [
    {
     "data": {
      "text/plain": [
       "4"
      ]
     },
     "execution_count": 4,
     "metadata": {},
     "output_type": "execute_result"
    }
   ],
   "source": [
    "arr = [10, 11, 12, 14]\n",
    "len(arr)"
   ]
  },
  {
   "cell_type": "code",
   "execution_count": 32,
   "id": "482fe3a9-0b0e-4f59-aa0f-75b08e712640",
   "metadata": {},
   "outputs": [],
   "source": [
    "# https://www.geeksforgeeks.org/problems/special-stack/1\n",
    "\n",
    "def push(arr, ele):\n",
    "    # Code here\n",
    "    arr.append(ele)\n",
    "    return arr\n",
    "\n",
    "# Function should pop an element from stack\n",
    "def pop(arr):\n",
    "    # Code here\n",
    "    arr.pop()\n",
    "    return arr\n",
    "\n",
    "# function should return 1/0 or True/False\n",
    "def isFull(n, arr):\n",
    "    # Code here\n",
    "    if n == len(arr):\n",
    "        return True\n",
    "    return False\n",
    "\n",
    "# function should return 1/0 or True/False\n",
    "def isEmpty(arr):\n",
    "    #Code here\n",
    "    if len(arr) == 0:\n",
    "        return True\n",
    "    return False\n",
    "\n",
    "# function should return minimum element from the stack\n",
    "def getMin(n, arr):\n",
    "    # Code here\n",
    "    min = arr[-1]\n",
    "    while isEmpty(arr) == False:\n",
    "        if arr[-1] < min:\n",
    "            min = arr[-1]\n",
    "        pop(arr)\n",
    "        \n",
    "    return min\n",
    "        "
   ]
  },
  {
   "cell_type": "code",
   "execution_count": 33,
   "id": "36f46069-4d2e-4d07-b28c-702d97ecde8a",
   "metadata": {},
   "outputs": [],
   "source": [
    "stack = []"
   ]
  },
  {
   "cell_type": "code",
   "execution_count": 34,
   "id": "82bd86ae-69de-4ac3-82f7-7d6606e4b011",
   "metadata": {},
   "outputs": [
    {
     "data": {
      "text/plain": [
       "[2, 4, 1, 8, 6]"
      ]
     },
     "execution_count": 34,
     "metadata": {},
     "output_type": "execute_result"
    }
   ],
   "source": [
    "push(stack, 2)\n",
    "push(stack, 4)\n",
    "push(stack, 1)\n",
    "push(stack, 8)\n",
    "push(stack, 6)"
   ]
  },
  {
   "cell_type": "code",
   "execution_count": 35,
   "id": "1b6c029d-bc27-4cac-89a5-57f9dfb4966d",
   "metadata": {},
   "outputs": [
    {
     "data": {
      "text/plain": [
       "1"
      ]
     },
     "execution_count": 35,
     "metadata": {},
     "output_type": "execute_result"
    }
   ],
   "source": [
    "getMin(1, stack)"
   ]
  },
  {
   "cell_type": "code",
   "execution_count": 49,
   "id": "268002b8-8c6f-46bc-8285-f6e831c70a93",
   "metadata": {},
   "outputs": [],
   "source": [
    "# Leetcode 682\n",
    "# Baseball Game\n",
    "def calPoints(operations):\n",
    "    stack = []\n",
    "    sum = 0\n",
    "    stack.append(0)\n",
    "    stack.append(0)\n",
    "    for i in operations: \n",
    "        if i == '+':\n",
    "            stack.append(stack[-1]+ stack[-2])\n",
    "        elif i == 'D':\n",
    "            stack.append(2*stack[-1])\n",
    "        elif i == 'C':\n",
    "            stack.pop()\n",
    "        else: \n",
    "            stack.append(int(i))\n",
    "    while len(stack) != 0:\n",
    "        sum = sum + stack[-1]\n",
    "        stack.pop()\n",
    "    return sum\n",
    "            "
   ]
  },
  {
   "cell_type": "code",
   "execution_count": 50,
   "id": "52bb6bc5-c761-4454-9da7-7293439a1bd6",
   "metadata": {},
   "outputs": [
    {
     "data": {
      "text/plain": [
       "30"
      ]
     },
     "execution_count": 50,
     "metadata": {},
     "output_type": "execute_result"
    }
   ],
   "source": [
    "calPoints([\"5\",\"2\",\"C\",\"D\",\"+\"])"
   ]
  },
  {
   "cell_type": "code",
   "execution_count": 65,
   "id": "bafef070-5351-4bad-886a-fab715cce260",
   "metadata": {},
   "outputs": [],
   "source": [
    "# Leetcode 1047\n",
    "# Remove all Adjacent duplicates in string\n",
    "def removeDuplicates(s):\n",
    "    stack = []\n",
    "    for char in s:\n",
    "        if len(stack) == 0:\n",
    "            stack.append(char)\n",
    "        else: \n",
    "            if stack[-1] == char:\n",
    "                stack.pop()\n",
    "            else: \n",
    "                stack.append(char)\n",
    "    sum = \"\"\n",
    "    for i in stack:\n",
    "        sum = sum+i\n",
    "            \n",
    "    return sum"
   ]
  },
  {
   "cell_type": "code",
   "execution_count": 66,
   "id": "57267ca6-ad5b-4571-a943-f341da2db673",
   "metadata": {},
   "outputs": [
    {
     "data": {
      "text/plain": [
       "'ca'"
      ]
     },
     "execution_count": 66,
     "metadata": {},
     "output_type": "execute_result"
    }
   ],
   "source": [
    "removeDuplicates(\"abbaca\")"
   ]
  },
  {
   "cell_type": "code",
   "execution_count": 1,
   "id": "b8a95aef-2bf2-47b6-865b-1cc93deb17cd",
   "metadata": {},
   "outputs": [],
   "source": [
    "# Leetcode 55\n",
    "# Min Stack\n",
    "class MinStack:\n",
    "    def __init__(self):\n",
    "        self.stack = []\n",
    "        self.minStack = []\n",
    "        \n",
    "\n",
    "    def push(self, val: int) -> None:\n",
    "        self.stack.append(val)\n",
    "        if self.minStack:           \n",
    "            minTop = self.minStack[-1]\n",
    "            val = min(minTop, val)  \n",
    "        self.minStack.append(val)  \n",
    "        \n",
    "    def pop(self) -> None:\n",
    "        self.stack.pop()\n",
    "        self.minStack.pop()\n",
    "\n",
    "    \n",
    "    def top(self) -> int:\n",
    "        return self.stack[-1]\n",
    "        \n",
    "    def getMin(self) -> int:\n",
    "        return self.minStack[-1]\n"
   ]
  },
  {
   "cell_type": "code",
   "execution_count": 17,
   "id": "ba38e9bd-c45b-45d8-a963-778fe1502d63",
   "metadata": {},
   "outputs": [],
   "source": [
    "# LeetCode 150\n",
    "# Evaluate Reverse Polish Notation\n",
    "\n",
    "def evalRPN(tokens):\n",
    "    stack = []\n",
    "\n",
    "    for i in tokens:\n",
    "        print(stack)\n",
    "        if i == \"+\":\n",
    "            value = stack[-1] + stack[-2]\n",
    "            stack.pop()\n",
    "            stack.pop()\n",
    "            stack.append(value)\n",
    "        elif i == \"-\":\n",
    "            value = stack[-1] - stack[-2]\n",
    "            stack.pop()\n",
    "            stack.pop()\n",
    "            stack.append(value)\n",
    "        elif i == \"*\":\n",
    "            value = stack[-1] * stack[-2]\n",
    "            stack.pop()\n",
    "            stack.pop()\n",
    "            stack.append(value)\n",
    "        elif i == \"/\":\n",
    "            value = int(stack[-2] / stack[-1])\n",
    "            stack.pop()\n",
    "            stack.pop()\n",
    "            stack.append(value)\n",
    "        else: \n",
    "            stack.append(int(i))\n",
    "    return stack[-1]"
   ]
  },
  {
   "cell_type": "code",
   "execution_count": 18,
   "id": "f7d43561-259f-439f-86fa-143baf43f9e6",
   "metadata": {},
   "outputs": [
    {
     "name": "stdout",
     "output_type": "stream",
     "text": [
      "[]\n",
      "[2]\n",
      "[2, 1]\n",
      "[3]\n",
      "[3, 3]\n"
     ]
    },
    {
     "data": {
      "text/plain": [
       "9"
      ]
     },
     "execution_count": 18,
     "metadata": {},
     "output_type": "execute_result"
    }
   ],
   "source": [
    "evalRPN([\"2\",\"1\",\"+\",\"3\",\"*\"])"
   ]
  },
  {
   "cell_type": "code",
   "execution_count": 19,
   "id": "346e9f8a-4228-42f2-93b5-792354871f56",
   "metadata": {},
   "outputs": [
    {
     "name": "stdout",
     "output_type": "stream",
     "text": [
      "[]\n",
      "[4]\n",
      "[4, 13]\n",
      "[4, 13, 5]\n",
      "[4, 2]\n"
     ]
    },
    {
     "data": {
      "text/plain": [
       "6"
      ]
     },
     "execution_count": 19,
     "metadata": {},
     "output_type": "execute_result"
    }
   ],
   "source": [
    "evalRPN([\"4\",\"13\",\"5\",\"/\",\"+\"])"
   ]
  },
  {
   "cell_type": "code",
   "execution_count": 20,
   "id": "d822eb77-ed11-42fe-9182-481aeb642a83",
   "metadata": {},
   "outputs": [],
   "source": [
    "stack = []\n",
    "stack.append(3)\n",
    "stack.append(4)\n",
    "stack.append(5)"
   ]
  },
  {
   "cell_type": "code",
   "execution_count": 21,
   "id": "00070766-f083-458a-bd53-b391bb41cdd3",
   "metadata": {},
   "outputs": [
    {
     "name": "stdout",
     "output_type": "stream",
     "text": [
      "5\n"
     ]
    }
   ],
   "source": [
    "print(stack.pop())"
   ]
  },
  {
   "cell_type": "code",
   "execution_count": 32,
   "id": "c080b91e-03f3-4c39-89a0-b59c3b79dd7e",
   "metadata": {},
   "outputs": [],
   "source": [
    "# Leetcode 739\n",
    "# Daily Temperature \n",
    "# Monotonic Stack \n",
    "\n",
    "def dailyTemperatures(temperatures):\n",
    "    res = [0]*len(temperatures)\n",
    "    stack = []\n",
    "\n",
    "    for i in range(len(temperatures)):\n",
    "        while stack and temperatures[i] > temperatures[stack[-1]]:\n",
    "            stack_index = stack.pop()\n",
    "            res[stack_index] = (i - stack_index)\n",
    "        stack.append(i)\n",
    "    return res"
   ]
  },
  {
   "cell_type": "code",
   "execution_count": 33,
   "id": "603e9848-8bc5-4484-a577-241c006443a8",
   "metadata": {},
   "outputs": [
    {
     "data": {
      "text/plain": [
       "[1, 1, 4, 2, 1, 1, 0, 0]"
      ]
     },
     "execution_count": 33,
     "metadata": {},
     "output_type": "execute_result"
    }
   ],
   "source": [
    "dailyTemperatures([73,74,75,71,69,72,76,73])"
   ]
  },
  {
   "cell_type": "code",
   "execution_count": 25,
   "id": "55d81738-6422-4192-97dd-666d62f84d11",
   "metadata": {},
   "outputs": [],
   "source": [
    "# Leetcode 853\n",
    "# Car Fleet\n",
    "def carFleet(target, position, speed):\n",
    "    pair = [[p, s] for p,s in zip(position, speed)]\n",
    "\n",
    "    max = 0\n",
    "    counter = 0\n",
    "\n",
    "    for p, s in sorted(pair, reverse=True):\n",
    "        arrival_time = (target - p)/s\n",
    "        if arrival_time > max:\n",
    "            max = arrival_time\n",
    "            counter += 1\n",
    "                \n",
    "    return counter"
   ]
  },
  {
   "cell_type": "code",
   "execution_count": 26,
   "id": "845c68f2-8d25-4ff6-926c-4c9538ec978f",
   "metadata": {},
   "outputs": [
    {
     "data": {
      "text/plain": [
       "3"
      ]
     },
     "execution_count": 26,
     "metadata": {},
     "output_type": "execute_result"
    }
   ],
   "source": [
    "carFleet(12, [10,8,0,5,3], [2,4,1,1,3])"
   ]
  },
  {
   "cell_type": "code",
   "execution_count": 1,
   "id": "abc53f6c-0049-42a6-8327-c247cca3f11d",
   "metadata": {},
   "outputs": [],
   "source": [
    "stack = ['(', ')', '(', '(', ')', ')']\n",
    "res = []\n",
    "res.append(\"\".join(stack))"
   ]
  },
  {
   "cell_type": "code",
   "execution_count": 2,
   "id": "9fb5e2e6-0d03-4bbc-8301-db4c6bd7af2e",
   "metadata": {},
   "outputs": [
    {
     "data": {
      "text/plain": [
       "['()(())']"
      ]
     },
     "execution_count": 2,
     "metadata": {},
     "output_type": "execute_result"
    }
   ],
   "source": [
    "res"
   ]
  },
  {
   "cell_type": "code",
   "execution_count": 3,
   "id": "7cea9560-d72d-49a6-b6dd-af0a6d762eaf",
   "metadata": {},
   "outputs": [
    {
     "data": {
      "text/plain": [
       "'()(())'"
      ]
     },
     "execution_count": 3,
     "metadata": {},
     "output_type": "execute_result"
    }
   ],
   "source": [
    "\"\".join(stack)"
   ]
  },
  {
   "cell_type": "code",
   "execution_count": 4,
   "id": "26413a97-133e-47c3-82f8-4ee3d1eb286b",
   "metadata": {},
   "outputs": [
    {
     "data": {
      "text/plain": [
       "'ab'"
      ]
     },
     "execution_count": 4,
     "metadata": {},
     "output_type": "execute_result"
    }
   ],
   "source": [
    "\"a\" + \"b\""
   ]
  },
  {
   "cell_type": "code",
   "execution_count": 6,
   "id": "8608005e-fa43-4f6d-bb84-2f3c40e8060e",
   "metadata": {},
   "outputs": [],
   "source": [
    "# Leetcode 22\n",
    "# Generate Parentheses\n",
    "def generateParenthesis(n):\n",
    "    res = []\n",
    "    def recurrsion(openN, closeN, path):\n",
    "        if openN == closeN == n:\n",
    "            res.append(path)\n",
    "        if openN < n:\n",
    "            recurrsion(openN + 1, closeN, path + \"(\" )\n",
    "        if closeN < openN:\n",
    "            recurrsion(openN, closeN + 1, path + \")\" )\n",
    "    recurrsion(0, 0, \"\")\n",
    "\n",
    "    return res"
   ]
  },
  {
   "cell_type": "code",
   "execution_count": 9,
   "id": "77ec84c5-8964-43df-89bf-67b76047b9fd",
   "metadata": {},
   "outputs": [
    {
     "data": {
      "text/plain": [
       "['((()))', '(()())', '(())()', '()(())', '()()()']"
      ]
     },
     "execution_count": 9,
     "metadata": {},
     "output_type": "execute_result"
    }
   ],
   "source": [
    "generateParenthesis(3)"
   ]
  },
  {
   "cell_type": "code",
   "execution_count": 28,
   "id": "33d894c0-e1d1-45ac-9c6c-6f9c0b1fa268",
   "metadata": {},
   "outputs": [],
   "source": [
    "def isBalanced(s):\n",
    "    # Write your code here\n",
    "    stack = []\n",
    "    bool = \"NO\"\n",
    "    for i in range(len(s)):\n",
    "        splittedString = s[i: i+1]\n",
    "        if splittedString == '(' or splittedString == '[' or splittedString == '{':\n",
    "            stack.append(splittedString)\n",
    "        else:\n",
    "            popped = stack.pop()\n",
    "            print(popped, splittedString)\n",
    "            if (popped == '(' and  splittedString == ')') or (popped == '[' and  splittedString == ']') or (popped == '{' and  splittedString == '}') :\n",
    "                bool = \"YES\"\n",
    "            else: \n",
    "                bool = \"NO\"\n",
    "                \n",
    "    return bool"
   ]
  },
  {
   "cell_type": "code",
   "execution_count": 29,
   "id": "371b5e68-31aa-4c53-8660-7624ef631b79",
   "metadata": {},
   "outputs": [
    {
     "name": "stdout",
     "output_type": "stream",
     "text": [
      "] {\n",
      ") (\n",
      "] [\n"
     ]
    },
    {
     "data": {
      "text/plain": [
       "'YES'"
      ]
     },
     "execution_count": 29,
     "metadata": {},
     "output_type": "execute_result"
    }
   ],
   "source": [
    "isBalanced('[{]()]')"
   ]
  },
  {
   "cell_type": "code",
   "execution_count": null,
   "id": "c2607e6c-0c33-421e-bc0f-6f203c1cb479",
   "metadata": {},
   "outputs": [],
   "source": []
  }
 ],
 "metadata": {
  "kernelspec": {
   "display_name": "Python 3 (ipykernel)",
   "language": "python",
   "name": "python3"
  },
  "language_info": {
   "codemirror_mode": {
    "name": "ipython",
    "version": 3
   },
   "file_extension": ".py",
   "mimetype": "text/x-python",
   "name": "python",
   "nbconvert_exporter": "python",
   "pygments_lexer": "ipython3",
   "version": "3.11.8"
  }
 },
 "nbformat": 4,
 "nbformat_minor": 5
}
