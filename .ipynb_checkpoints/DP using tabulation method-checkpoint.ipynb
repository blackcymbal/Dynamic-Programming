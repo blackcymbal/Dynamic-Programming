{
 "cells": [
  {
   "cell_type": "code",
   "execution_count": 1,
   "id": "0f53657d-4ee4-4cff-bba0-32b8a64e6c62",
   "metadata": {},
   "outputs": [
    {
     "data": {
      "text/plain": [
       "[0, 0, 0, 0, 0]"
      ]
     },
     "execution_count": 1,
     "metadata": {},
     "output_type": "execute_result"
    }
   ],
   "source": [
    "[0 for x in range(5)]"
   ]
  },
  {
   "cell_type": "code",
   "execution_count": 46,
   "id": "7d14f3f5-fd61-44a1-a9c3-edf84d153eb6",
   "metadata": {},
   "outputs": [
    {
     "data": {
      "text/plain": [
       "[0, 0, 0, 0, 0]"
      ]
     },
     "execution_count": 46,
     "metadata": {},
     "output_type": "execute_result"
    }
   ],
   "source": [
    "[0]*5      "
   ]
  },
  {
   "cell_type": "code",
   "execution_count": 47,
   "id": "f5625416-a949-405c-8228-a0b4885e9dfa",
   "metadata": {},
   "outputs": [
    {
     "data": {
      "text/plain": [
       "[[0, 0, 0, 0], [0, 0, 0, 0], [0, 0, 0, 0]]"
      ]
     },
     "execution_count": 47,
     "metadata": {},
     "output_type": "execute_result"
    }
   ],
   "source": [
    "n1, n2 = 3, 4\n",
    "[[0]*n2 for i in range(n1)]"
   ]
  },
  {
   "cell_type": "code",
   "execution_count": 48,
   "id": "7cf20d26-2fd6-4679-917d-334b72cd5a84",
   "metadata": {},
   "outputs": [
    {
     "name": "stdout",
     "output_type": "stream",
     "text": [
      "[[0, 0, 0, 0], [0, 0, 0, 0], [0, 0, 0, 0]]\n"
     ]
    }
   ],
   "source": [
    "table = [[0]*n2]*n1\n",
    "print(table)"
   ]
  },
  {
   "cell_type": "code",
   "execution_count": 1,
   "id": "6d56b9a7-0240-43d6-ba02-13097d2ca354",
   "metadata": {},
   "outputs": [],
   "source": [
    "# LeetCode 1143\n",
    "# Longest commoon subsequence \n",
    "def longestCommonSubsequence(text1, text2):\n",
    "    m, n = len(text1), len(text2)\n",
    "    table = [[0 for x in range(n+1)] for x in range(m+1)]\n",
    "    for i in range(m):\n",
    "        for j in range(n):\n",
    "            if text1[i] == text2[j]:\n",
    "                print(i,j)\n",
    "                table[i+1][j+1] = 1 +  table[i][j]\n",
    "            else:\n",
    "                table[i+1][j+1] = max(table[i][j+1], table[i+1][j])\n",
    "    return table[m][n]\n",
    "                \n",
    "            \n",
    "    \n",
    "     "
   ]
  },
  {
   "cell_type": "code",
   "execution_count": 2,
   "id": "4df63ca5-bfe8-4405-b0ec-571c177be0bd",
   "metadata": {},
   "outputs": [
    {
     "name": "stdout",
     "output_type": "stream",
     "text": [
      "0 0\n",
      "2 1\n",
      "4 2\n",
      "5 3\n"
     ]
    },
    {
     "data": {
      "text/plain": [
       "4"
      ]
     },
     "execution_count": 2,
     "metadata": {},
     "output_type": "execute_result"
    }
   ],
   "source": [
    "longestCommonSubsequence(\"abcdef\", \"acef\" )"
   ]
  },
  {
   "cell_type": "code",
   "execution_count": 8,
   "id": "13edadb0-5f9f-4f8d-a444-6a51a85b58fe",
   "metadata": {},
   "outputs": [],
   "source": [
    "# fibonacchi sequence\n",
    "def fib(n):\n",
    "    table = [0 for i in range(n+2)] # We are taking n+2 because python give an error that array out of range\n",
    "    # or we  can do table = [0] * (n + 2)\n",
    "    table[1] = 1\n",
    "\n",
    "    for i in range(n):\n",
    "        table[i + 1] += table[i]\n",
    "        table[i + 2] += table[i]\n",
    "    return table[n]"
   ]
  },
  {
   "cell_type": "code",
   "execution_count": 9,
   "id": "37801786-f7f3-4551-98ce-fed7991b990e",
   "metadata": {},
   "outputs": [
    {
     "data": {
      "text/plain": [
       "8"
      ]
     },
     "execution_count": 9,
     "metadata": {},
     "output_type": "execute_result"
    }
   ],
   "source": [
    "fib(6)"
   ]
  },
  {
   "cell_type": "code",
   "execution_count": 43,
   "id": "2c53afe7-a89d-49e8-8297-34e5ddd5c290",
   "metadata": {},
   "outputs": [],
   "source": [
    "def grid_traveller(m,n):\n",
    "    table = [[0]*(n+1) for i in range(m+1)]\n",
    "\n",
    "    table[1][1] = 1\n",
    "\n",
    "    for i in range(m+1):\n",
    "        for j in range(n+1):\n",
    "            if i+1 <= m:\n",
    "                table[i+1][j] += table[i][j]\n",
    "            if j+1 <= n:\n",
    "                table[i][j+1] += table[i][j]\n",
    "                \n",
    "    return table[m][n]"
   ]
  },
  {
   "cell_type": "code",
   "execution_count": null,
   "id": "d4ca10b6-4e3f-4263-a58a-1aa798d4866f",
   "metadata": {},
   "outputs": [],
   "source": [
    "grid_traveller(5, 6)\n",
    "print(grid_traveller(2,3))"
   ]
  },
  {
   "cell_type": "code",
   "execution_count": 16,
   "id": "0ea7e7f0-c2f7-4306-9af7-91e2c4fd1f44",
   "metadata": {},
   "outputs": [],
   "source": [
    "def canSum(targetSum, numbers):\n",
    "    table = [False for i in range(targetSum + 1)]\n",
    "    table[0] = True\n",
    "\n",
    "    for i in range(targetSum):\n",
    "        if table[i] != False:\n",
    "            for num in numbers:\n",
    "                if (i+num) <= targetSum:\n",
    "                    table[i + num] = True\n",
    "\n",
    "    return table[targetSum]"
   ]
  },
  {
   "cell_type": "code",
   "execution_count": 17,
   "id": "ad22416f-b4bc-4acf-b4ca-a3274fb76c5f",
   "metadata": {},
   "outputs": [
    {
     "name": "stdout",
     "output_type": "stream",
     "text": [
      "True\n",
      "True\n",
      "False\n",
      "True\n",
      "False\n"
     ]
    }
   ],
   "source": [
    "print(canSum(7, [2, 3]))\n",
    "print(canSum(7, [5, 3, 4, 7]))\n",
    "print(canSum(7, [2, 4]))\n",
    "print(canSum(8, [2, 3, 5]))\n",
    "print(canSum(300, [7, 14]))        "
   ]
  },
  {
   "cell_type": "code",
   "execution_count": 9,
   "id": "5ffd48d9-456d-4ad7-831d-54548f4c4bb9",
   "metadata": {},
   "outputs": [],
   "source": [
    "def howSum(targetSum, numbers):\n",
    "    table = [None for i in range(targetSum + 1)]\n",
    "    table[0] = []\n",
    "\n",
    "    for i in range(targetSum):\n",
    "        if table[i] != None:\n",
    "            for num in numbers:\n",
    "                if (i+ num ) <= targetSum:\n",
    "                    table[i+num] = table[i] + [num]\n",
    "                \n",
    "    return table[targetSum]"
   ]
  },
  {
   "cell_type": "code",
   "execution_count": 13,
   "id": "453e6b56-23c5-4fb7-b329-2245f599743b",
   "metadata": {},
   "outputs": [
    {
     "name": "stdout",
     "output_type": "stream",
     "text": [
      "[3, 2, 2]\n",
      "[4, 3]\n",
      "None\n",
      "[2, 2, 2, 2]\n",
      "None\n"
     ]
    }
   ],
   "source": [
    "print(howSum(7, [2, 3]))\n",
    "print(howSum(7, [5, 3, 4, 7]))\n",
    "print(howSum(7, [2, 4]))\n",
    "print(howSum(8, [2, 3, 5]))\n",
    "print(howSum(300, [7, 14]))\n"
   ]
  },
  {
   "cell_type": "code",
   "execution_count": 37,
   "id": "12447ba4-49a1-48d3-899a-8afd3e9925ba",
   "metadata": {},
   "outputs": [],
   "source": [
    "def bestSum(targetSum, numbers):\n",
    "    table = [None for i in range(targetSum + 1)]\n",
    "    table[0] = []\n",
    "\n",
    "    for i in range(targetSum):\n",
    "        if table[i] != None:\n",
    "            for num in numbers:\n",
    "                if (i+ num ) <= targetSum:\n",
    "                    combination = table[i] + [num]\n",
    "                    if (not table[i+num] or len(table[i+num]) > len(combination)):\n",
    "                        table[i+num] = combination\n",
    "                \n",
    "    return table[targetSum]"
   ]
  },
  {
   "cell_type": "code",
   "execution_count": 40,
   "id": "ec713380-274c-4f17-b8e7-3c8cc61ff360",
   "metadata": {},
   "outputs": [
    {
     "name": "stdout",
     "output_type": "stream",
     "text": [
      "[7]\n",
      "[3, 5]\n",
      "[4, 4]\n",
      "[25, 25, 25, 25]\n"
     ]
    }
   ],
   "source": [
    "print(bestSum(7, [5, 3, 4, 7]))\n",
    "print(bestSum(8, [2, 3, 5]))\n",
    "print(bestSum(8, [1, 4, 5]))\n",
    "print(bestSum(100, [1, 2, 5, 25]))"
   ]
  },
  {
   "cell_type": "code",
   "execution_count": 12,
   "id": "625418c6-9162-40a5-b314-230325a4d336",
   "metadata": {},
   "outputs": [],
   "source": [
    "# can construct problem\n",
    "def canConstruct(target, wordBank):\n",
    "    table = [False for i in range(len(target)+1)]\n",
    "    table[0] = True\n",
    "\n",
    "    for i in range(len(target)):\n",
    "        if table[i] == True:\n",
    "            for word in wordBank:\n",
    "                if target[i: i+len(word)] == word:\n",
    "                    table[i + len(word)] = True\n",
    "\n",
    "    return table[len(target)]\n",
    "    "
   ]
  },
  {
   "cell_type": "code",
   "execution_count": 16,
   "id": "2029b258-28c1-4adf-b403-545f0d12f360",
   "metadata": {},
   "outputs": [
    {
     "name": "stdout",
     "output_type": "stream",
     "text": [
      "True\n",
      "False\n",
      "True\n",
      "False\n",
      "True\n",
      "True\n",
      "False\n"
     ]
    }
   ],
   "source": [
    "print(canConstruct('abcdef', ['ab', 'abc', 'cd', 'def', 'abcd']))\n",
    "print(canConstruct('skateboard', ['bo', 'rd', 'ate', 't', 'ska', 'sk', 'boar']))\n",
    "print(canConstruct('', ['cat', 'dog', 'mouse']))                          # True — empty target can always be constructed\n",
    "print(canConstruct('a', []))                                             # False — no words to use\n",
    "print(canConstruct('a', ['a']))                                          # True\n",
    "print(canConstruct('enterapotentpot', ['a', 'p', 'ent', 'enter', 'ot', 'o', 't']))  # True\n",
    "print(canConstruct('eeeeeeeeeeeeeeeeeeeeeeeeeeeeeeeeeeeeeeef', ['e', 'ee', 'eee', 'eeee', 'eeeee']))  # False — last letter can't be formed\n",
    "\n"
   ]
  },
  {
   "cell_type": "code",
   "execution_count": 5,
   "id": "9faaac3a-99fe-4848-9df2-2b7a1450434c",
   "metadata": {},
   "outputs": [],
   "source": [
    "# Count contruct\n",
    "def countConstruct(target, wordBank):\n",
    "    table = [0 for i in range(len(target) + 1)]\n",
    "    table[0] = 1\n",
    "\n",
    "    for i in range(len(target)):\n",
    "        for word in wordBank:\n",
    "            if target[i: i + len(word)] == word:\n",
    "                table[i+ len(word)] += table[i]\n",
    "\n",
    "    return table[len(target)]"
   ]
  },
  {
   "cell_type": "code",
   "execution_count": 9,
   "id": "cf84d017-aa76-48ba-a771-d4eee502b4ed",
   "metadata": {},
   "outputs": [
    {
     "name": "stdout",
     "output_type": "stream",
     "text": [
      "2\n",
      "1\n",
      "0\n",
      "4\n"
     ]
    }
   ],
   "source": [
    "print(countConstruct('purple', ['purp', 'p', 'ur', 'le', 'purpl']))\n",
    "print(countConstruct('abcdef', ['ab', 'abc', 'cd', 'def', 'abcd']))\n",
    "print(countConstruct('skateboard', ['bo', 'rd', 'ate', 't', 'ska', 'sk', 'boar']))\n",
    "print(countConstruct('enterapotentpot', ['a', 'p', 'ent', 'enter', 'ot', 'o', 't']))  # True"
   ]
  },
  {
   "cell_type": "code",
   "execution_count": 25,
   "id": "ba11ae7a-41bd-4a7f-83a9-5f8e67e63742",
   "metadata": {},
   "outputs": [],
   "source": [
    "# Count contruct\n",
    "def allConstruct(target, wordBank):\n",
    "    table = [[] for i in range(len(target) + 1)]\n",
    "    table[0] = [[]]\n",
    "\n",
    "    for i in range(len(target)):\n",
    "        for word in wordBank:\n",
    "            if target[i : i + len(word)] == word:\n",
    "                for item in table[i]:\n",
    "                    newCombination = item + [word]\n",
    "                    table[i + len(word)].append(newCombination)\n",
    "                \n",
    "\n",
    "    return table[len(target)]"
   ]
  },
  {
   "cell_type": "code",
   "execution_count": 27,
   "id": "a359808d-d804-47f6-95b2-cf2c7beee86b",
   "metadata": {},
   "outputs": [
    {
     "name": "stdout",
     "output_type": "stream",
     "text": [
      "[['purp', 'le'], ['p', 'ur', 'p', 'le']]\n",
      "[['abc', 'def'], ['ab', 'c', 'def'], ['abcd', 'ef'], ['ab', 'cd', 'ef']]\n",
      "[[]]\n",
      "[]\n"
     ]
    }
   ],
   "source": [
    "print(allConstruct('purple', ['purp', 'p', 'ur', 'le', 'purpl']))\n",
    "print(allConstruct('abcdef', ['ab', 'abc', 'cd',  'def', 'abcd', 'ef', 'c']))\n",
    "print(allConstruct('', ['purp', 'p', 'ur', 'le', 'purpl']))\n",
    "print(allConstruct('eeeeef', ['e', 'ee', 'eee', 'eeee', 'eeeee']))\n",
    "\n"
   ]
  },
  {
   "cell_type": "code",
   "execution_count": null,
   "id": "46dd156d-e374-4408-8629-6cf5b4b96f48",
   "metadata": {},
   "outputs": [],
   "source": []
  },
  {
   "cell_type": "code",
   "execution_count": null,
   "id": "23e36843-93f6-4eb9-8f19-5cd286ccf25c",
   "metadata": {},
   "outputs": [],
   "source": []
  }
 ],
 "metadata": {
  "kernelspec": {
   "display_name": "Python 3 (ipykernel)",
   "language": "python",
   "name": "python3"
  },
  "language_info": {
   "codemirror_mode": {
    "name": "ipython",
    "version": 3
   },
   "file_extension": ".py",
   "mimetype": "text/x-python",
   "name": "python",
   "nbconvert_exporter": "python",
   "pygments_lexer": "ipython3",
   "version": "3.13.2"
  }
 },
 "nbformat": 4,
 "nbformat_minor": 5
}
