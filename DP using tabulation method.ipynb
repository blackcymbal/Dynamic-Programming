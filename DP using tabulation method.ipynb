{
 "cells": [
  {
   "cell_type": "code",
   "execution_count": 1,
   "id": "0f53657d-4ee4-4cff-bba0-32b8a64e6c62",
   "metadata": {},
   "outputs": [
    {
     "data": {
      "text/plain": [
       "[0, 0, 0, 0, 0]"
      ]
     },
     "execution_count": 1,
     "metadata": {},
     "output_type": "execute_result"
    }
   ],
   "source": [
    "[0 for x in range(5)]"
   ]
  },
  {
   "cell_type": "code",
   "execution_count": 20,
   "id": "7d14f3f5-fd61-44a1-a9c3-edf84d153eb6",
   "metadata": {},
   "outputs": [],
   "source": [
    "# fibonacchi sequence\n",
    "def fib(n):\n",
    "    table = [0 for x in range(n+2)]\n",
    "    # or we  can do table = [0] * (n + 2)\n",
    "    table[1] = 1\n",
    "    for i in range(0, n, 1):\n",
    "        table[i+1] += table[i]\n",
    "        table[i+2] += table[i]\n",
    "    return table[n]\n",
    "        \n",
    "        "
   ]
  },
  {
   "cell_type": "code",
   "execution_count": 23,
   "id": "7162fb89-1b06-4cbe-b355-ea0490240f90",
   "metadata": {},
   "outputs": [
    {
     "name": "stdout",
     "output_type": "stream",
     "text": [
      "8\n",
      "13\n",
      "21\n",
      "12586269025\n"
     ]
    }
   ],
   "source": [
    "print(fib(6))\n",
    "print(fib(7))\n",
    "print(fib(8))\n",
    "print(fib(50))"
   ]
  },
  {
   "cell_type": "code",
   "execution_count": 3,
   "id": "f5625416-a949-405c-8228-a0b4885e9dfa",
   "metadata": {},
   "outputs": [
    {
     "data": {
      "text/plain": [
       "[[0, 0, 0, 0], [0, 0, 0, 0], [0, 0, 0, 0]]"
      ]
     },
     "execution_count": 3,
     "metadata": {},
     "output_type": "execute_result"
    }
   ],
   "source": [
    "n1, n2 = 3, 4\n",
    "[[0 for i in range(n2)] for i in range(n1)]"
   ]
  },
  {
   "cell_type": "code",
   "execution_count": 5,
   "id": "7cf20d26-2fd6-4679-917d-334b72cd5a84",
   "metadata": {},
   "outputs": [
    {
     "name": "stdout",
     "output_type": "stream",
     "text": [
      "[[0, 0, 0, 0], [0, 0, 0, 0], [0, 0, 0, 0]]\n"
     ]
    }
   ],
   "source": [
    "table = [[0]*n2]*n1\n",
    "print(table)"
   ]
  },
  {
   "cell_type": "code",
   "execution_count": 48,
   "id": "149dd56a-a768-489b-8c74-e0ab5b258832",
   "metadata": {},
   "outputs": [],
   "source": [
    "# Grid traveller \n",
    "def grid_traveller(m,n):\n",
    "    table = [[0 for x in range(n+1)] for x in range(m+1)]\n",
    "    table[1][1] = 1\n",
    "    for i in range(m+1):\n",
    "        for j in range(n+1):\n",
    "            current = table[i][j]\n",
    "            if i+1 <= m:\n",
    "                table[i+1][j] += current\n",
    "            if j+1 <= n:\n",
    "                table[i][j+1] += current\n",
    "    return table[m][n]\n",
    " "
   ]
  },
  {
   "cell_type": "code",
   "execution_count": 51,
   "id": "6ea1f50f-ac58-4d38-9c5e-729e5008a4f7",
   "metadata": {},
   "outputs": [
    {
     "name": "stdout",
     "output_type": "stream",
     "text": [
      "1\n",
      "3\n",
      "2333606220\n"
     ]
    }
   ],
   "source": [
    "print(grid_traveller(1,1))\n",
    "print(grid_traveller(2,3))\n",
    "print(grid_traveller(18,18))"
   ]
  },
  {
   "cell_type": "code",
   "execution_count": 1,
   "id": "6d56b9a7-0240-43d6-ba02-13097d2ca354",
   "metadata": {},
   "outputs": [],
   "source": [
    "# LeetCode 1143\n",
    "# Longest commoon subsequence \n",
    "def longestCommonSubsequence(text1, text2):\n",
    "    m, n = len(text1), len(text2)\n",
    "    table = [[0 for x in range(n+1)] for x in range(m+1)]\n",
    "    for i in range(m):\n",
    "        for j in range(n):\n",
    "            if text1[i] == text2[j]:\n",
    "                print(i,j)\n",
    "                table[i+1][j+1] = 1 +  table[i][j]\n",
    "            else:\n",
    "                table[i+1][j+1] = max(table[i][j+1], table[i+1][j])\n",
    "    return table[m][n]\n",
    "                \n",
    "            \n",
    "    \n",
    "     "
   ]
  },
  {
   "cell_type": "code",
   "execution_count": 2,
   "id": "4df63ca5-bfe8-4405-b0ec-571c177be0bd",
   "metadata": {},
   "outputs": [
    {
     "name": "stdout",
     "output_type": "stream",
     "text": [
      "0 0\n",
      "2 1\n",
      "4 2\n",
      "5 3\n"
     ]
    },
    {
     "data": {
      "text/plain": [
       "4"
      ]
     },
     "execution_count": 2,
     "metadata": {},
     "output_type": "execute_result"
    }
   ],
   "source": [
    "longestCommonSubsequence(\"abcdef\", \"acef\" )"
   ]
  },
  {
   "cell_type": "code",
   "execution_count": null,
   "id": "13edadb0-5f9f-4f8d-a444-6a51a85b58fe",
   "metadata": {},
   "outputs": [],
   "source": []
  }
 ],
 "metadata": {
  "kernelspec": {
   "display_name": "Python 3 (ipykernel)",
   "language": "python",
   "name": "python3"
  },
  "language_info": {
   "codemirror_mode": {
    "name": "ipython",
    "version": 3
   },
   "file_extension": ".py",
   "mimetype": "text/x-python",
   "name": "python",
   "nbconvert_exporter": "python",
   "pygments_lexer": "ipython3",
   "version": "3.11.8"
  }
 },
 "nbformat": 4,
 "nbformat_minor": 5
}
