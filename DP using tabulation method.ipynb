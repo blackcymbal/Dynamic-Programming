{
 "cells": [
  {
   "cell_type": "code",
   "execution_count": 1,
   "id": "0f53657d-4ee4-4cff-bba0-32b8a64e6c62",
   "metadata": {},
   "outputs": [
    {
     "data": {
      "text/plain": [
       "[0, 0, 0, 0, 0]"
      ]
     },
     "execution_count": 1,
     "metadata": {},
     "output_type": "execute_result"
    }
   ],
   "source": [
    "[0 for x in range(5)]"
   ]
  },
  {
   "cell_type": "code",
   "execution_count": 46,
   "id": "7d14f3f5-fd61-44a1-a9c3-edf84d153eb6",
   "metadata": {},
   "outputs": [
    {
     "data": {
      "text/plain": [
       "[0, 0, 0, 0, 0]"
      ]
     },
     "execution_count": 46,
     "metadata": {},
     "output_type": "execute_result"
    }
   ],
   "source": [
    "[0]*5      "
   ]
  },
  {
   "cell_type": "code",
   "execution_count": 47,
   "id": "f5625416-a949-405c-8228-a0b4885e9dfa",
   "metadata": {},
   "outputs": [
    {
     "data": {
      "text/plain": [
       "[[0, 0, 0, 0], [0, 0, 0, 0], [0, 0, 0, 0]]"
      ]
     },
     "execution_count": 47,
     "metadata": {},
     "output_type": "execute_result"
    }
   ],
   "source": [
    "n1, n2 = 3, 4\n",
    "[[0]*n2 for i in range(n1)]"
   ]
  },
  {
   "cell_type": "code",
   "execution_count": 48,
   "id": "7cf20d26-2fd6-4679-917d-334b72cd5a84",
   "metadata": {},
   "outputs": [
    {
     "name": "stdout",
     "output_type": "stream",
     "text": [
      "[[0, 0, 0, 0], [0, 0, 0, 0], [0, 0, 0, 0]]\n"
     ]
    }
   ],
   "source": [
    "table = [[0]*n2]*n1\n",
    "print(table)"
   ]
  },
  {
   "cell_type": "code",
   "execution_count": 1,
   "id": "6d56b9a7-0240-43d6-ba02-13097d2ca354",
   "metadata": {},
   "outputs": [],
   "source": [
    "# LeetCode 1143\n",
    "# Longest commoon subsequence \n",
    "def longestCommonSubsequence(text1, text2):\n",
    "    m, n = len(text1), len(text2)\n",
    "    table = [[0 for x in range(n+1)] for x in range(m+1)]\n",
    "    for i in range(m):\n",
    "        for j in range(n):\n",
    "            if text1[i] == text2[j]:\n",
    "                print(i,j)\n",
    "                table[i+1][j+1] = 1 +  table[i][j]\n",
    "            else:\n",
    "                table[i+1][j+1] = max(table[i][j+1], table[i+1][j])\n",
    "    return table[m][n]\n",
    "                \n",
    "            \n",
    "    \n",
    "     "
   ]
  },
  {
   "cell_type": "code",
   "execution_count": 2,
   "id": "4df63ca5-bfe8-4405-b0ec-571c177be0bd",
   "metadata": {},
   "outputs": [
    {
     "name": "stdout",
     "output_type": "stream",
     "text": [
      "0 0\n",
      "2 1\n",
      "4 2\n",
      "5 3\n"
     ]
    },
    {
     "data": {
      "text/plain": [
       "4"
      ]
     },
     "execution_count": 2,
     "metadata": {},
     "output_type": "execute_result"
    }
   ],
   "source": [
    "longestCommonSubsequence(\"abcdef\", \"acef\" )"
   ]
  },
  {
   "cell_type": "code",
   "execution_count": 8,
   "id": "13edadb0-5f9f-4f8d-a444-6a51a85b58fe",
   "metadata": {},
   "outputs": [],
   "source": [
    "# fibonacchi sequence\n",
    "def fib(n):\n",
    "    table = [0 for i in range(n+2)] # We are taking n+2 because python give an error that array out of range\n",
    "    # or we  can do table = [0] * (n + 2)\n",
    "    table[1] = 1\n",
    "\n",
    "    for i in range(n):\n",
    "        table[i + 1] += table[i]\n",
    "        table[i + 2] += table[i]\n",
    "    return table[n]"
   ]
  },
  {
   "cell_type": "code",
   "execution_count": 9,
   "id": "37801786-f7f3-4551-98ce-fed7991b990e",
   "metadata": {},
   "outputs": [
    {
     "data": {
      "text/plain": [
       "8"
      ]
     },
     "execution_count": 9,
     "metadata": {},
     "output_type": "execute_result"
    }
   ],
   "source": [
    "fib(6)"
   ]
  },
  {
   "cell_type": "code",
   "execution_count": 43,
   "id": "2c53afe7-a89d-49e8-8297-34e5ddd5c290",
   "metadata": {},
   "outputs": [],
   "source": [
    "def grid_traveller(m,n):\n",
    "    table = [[0]*(n+1) for i in range(m+1)]\n",
    "\n",
    "    table[1][1] = 1\n",
    "\n",
    "    for i in range(m+1):\n",
    "        for j in range(n+1):\n",
    "            if i+1 <= m:\n",
    "                table[i+1][j] += table[i][j]\n",
    "            if j+1 <= n:\n",
    "                table[i][j+1] += table[i][j]\n",
    "                \n",
    "    return table[m][n]"
   ]
  },
  {
   "cell_type": "code",
   "execution_count": null,
   "id": "d4ca10b6-4e3f-4263-a58a-1aa798d4866f",
   "metadata": {},
   "outputs": [],
   "source": [
    "grid_traveller(5, 6)\n",
    "print(grid_traveller(2,3))"
   ]
  },
  {
   "cell_type": "code",
   "execution_count": 16,
   "id": "0ea7e7f0-c2f7-4306-9af7-91e2c4fd1f44",
   "metadata": {},
   "outputs": [],
   "source": [
    "def canSum(targetSum, numbers):\n",
    "    table = [False for i in range(targetSum + 1)]\n",
    "    table[0] = True\n",
    "\n",
    "    for i in range(targetSum):\n",
    "        if table[i] != False:\n",
    "            for num in numbers:\n",
    "                if (i+num) <= targetSum:\n",
    "                    table[i + num] = True\n",
    "\n",
    "    return table[targetSum]"
   ]
  },
  {
   "cell_type": "code",
   "execution_count": 17,
   "id": "ad22416f-b4bc-4acf-b4ca-a3274fb76c5f",
   "metadata": {},
   "outputs": [
    {
     "name": "stdout",
     "output_type": "stream",
     "text": [
      "True\n",
      "True\n",
      "False\n",
      "True\n",
      "False\n"
     ]
    }
   ],
   "source": [
    "print(canSum(7, [2, 3]))\n",
    "print(canSum(7, [5, 3, 4, 7]))\n",
    "print(canSum(7, [2, 4]))\n",
    "print(canSum(8, [2, 3, 5]))\n",
    "print(canSum(300, [7, 14]))        "
   ]
  },
  {
   "cell_type": "code",
   "execution_count": 9,
   "id": "5ffd48d9-456d-4ad7-831d-54548f4c4bb9",
   "metadata": {},
   "outputs": [],
   "source": [
    "def howSum(targetSum, numbers):\n",
    "    table = [None for i in range(targetSum + 1)]\n",
    "    table[0] = []\n",
    "\n",
    "    for i in range(targetSum):\n",
    "        if table[i] != None:\n",
    "            for num in numbers:\n",
    "                if (i+ num ) <= targetSum:\n",
    "                    table[i+num] = table[i] + [num]\n",
    "                \n",
    "    return table[targetSum]"
   ]
  },
  {
   "cell_type": "code",
   "execution_count": 13,
   "id": "453e6b56-23c5-4fb7-b329-2245f599743b",
   "metadata": {},
   "outputs": [
    {
     "name": "stdout",
     "output_type": "stream",
     "text": [
      "[3, 2, 2]\n",
      "[4, 3]\n",
      "None\n",
      "[2, 2, 2, 2]\n",
      "None\n"
     ]
    }
   ],
   "source": [
    "print(howSum(7, [2, 3]))\n",
    "print(howSum(7, [5, 3, 4, 7]))\n",
    "print(howSum(7, [2, 4]))\n",
    "print(howSum(8, [2, 3, 5]))\n",
    "print(howSum(300, [7, 14]))\n"
   ]
  },
  {
   "cell_type": "code",
   "execution_count": 37,
   "id": "12447ba4-49a1-48d3-899a-8afd3e9925ba",
   "metadata": {},
   "outputs": [],
   "source": [
    "def bestSum(targetSum, numbers):\n",
    "    table = [None for i in range(targetSum + 1)]\n",
    "    table[0] = []\n",
    "\n",
    "    for i in range(targetSum):\n",
    "        if table[i] != None:\n",
    "            for num in numbers:\n",
    "                if (i+ num ) <= targetSum:\n",
    "                    combination = table[i] + [num]\n",
    "                    if (not table[i+num] or len(table[i+num]) > len(combination)):\n",
    "                        table[i+num] = combination\n",
    "                \n",
    "    return table[targetSum]"
   ]
  },
  {
   "cell_type": "code",
   "execution_count": 40,
   "id": "ec713380-274c-4f17-b8e7-3c8cc61ff360",
   "metadata": {},
   "outputs": [
    {
     "name": "stdout",
     "output_type": "stream",
     "text": [
      "[7]\n",
      "[3, 5]\n",
      "[4, 4]\n",
      "[25, 25, 25, 25]\n"
     ]
    }
   ],
   "source": [
    "print(bestSum(7, [5, 3, 4, 7]))\n",
    "print(bestSum(8, [2, 3, 5]))\n",
    "print(bestSum(8, [1, 4, 5]))\n",
    "print(bestSum(100, [1, 2, 5, 25]))"
   ]
  },
  {
   "cell_type": "code",
   "execution_count": 12,
   "id": "625418c6-9162-40a5-b314-230325a4d336",
   "metadata": {},
   "outputs": [],
   "source": [
    "# can construct problem\n",
    "def canConstruct(target, wordBank):\n",
    "    table = [False for i in range(len(target)+1)]\n",
    "    table[0] = True\n",
    "\n",
    "    for i in range(len(target)):\n",
    "        if table[i] == True:\n",
    "            for word in wordBank:\n",
    "                if target[i: i+len(word)] == word:\n",
    "                    table[i + len(word)] = True\n",
    "\n",
    "    return table[len(target)]\n",
    "    "
   ]
  },
  {
   "cell_type": "code",
   "execution_count": 16,
   "id": "2029b258-28c1-4adf-b403-545f0d12f360",
   "metadata": {},
   "outputs": [
    {
     "name": "stdout",
     "output_type": "stream",
     "text": [
      "True\n",
      "False\n",
      "True\n",
      "False\n",
      "True\n",
      "True\n",
      "False\n"
     ]
    }
   ],
   "source": [
    "print(canConstruct('abcdef', ['ab', 'abc', 'cd', 'def', 'abcd']))\n",
    "print(canConstruct('skateboard', ['bo', 'rd', 'ate', 't', 'ska', 'sk', 'boar']))\n",
    "print(canConstruct('', ['cat', 'dog', 'mouse']))                          # True — empty target can always be constructed\n",
    "print(canConstruct('a', []))                                             # False — no words to use\n",
    "print(canConstruct('a', ['a']))                                          # True\n",
    "print(canConstruct('enterapotentpot', ['a', 'p', 'ent', 'enter', 'ot', 'o', 't']))  # True\n",
    "print(canConstruct('eeeeeeeeeeeeeeeeeeeeeeeeeeeeeeeeeeeeeeef', ['e', 'ee', 'eee', 'eeee', 'eeeee']))  # False — last letter can't be formed\n",
    "\n"
   ]
  },
  {
   "cell_type": "code",
   "execution_count": 5,
   "id": "9faaac3a-99fe-4848-9df2-2b7a1450434c",
   "metadata": {},
   "outputs": [],
   "source": [
    "# Count contruct\n",
    "def countConstruct(target, wordBank):\n",
    "    table = [0 for i in range(len(target) + 1)]\n",
    "    table[0] = 1\n",
    "\n",
    "    for i in range(len(target)):\n",
    "        for word in wordBank:\n",
    "            if target[i: i + len(word)] == word:\n",
    "                table[i+ len(word)] += table[i]\n",
    "\n",
    "    return table[len(target)]"
   ]
  },
  {
   "cell_type": "code",
   "execution_count": 9,
   "id": "cf84d017-aa76-48ba-a771-d4eee502b4ed",
   "metadata": {},
   "outputs": [
    {
     "name": "stdout",
     "output_type": "stream",
     "text": [
      "2\n",
      "1\n",
      "0\n",
      "4\n"
     ]
    }
   ],
   "source": [
    "print(countConstruct('purple', ['purp', 'p', 'ur', 'le', 'purpl']))\n",
    "print(countConstruct('abcdef', ['ab', 'abc', 'cd', 'def', 'abcd']))\n",
    "print(countConstruct('skateboard', ['bo', 'rd', 'ate', 't', 'ska', 'sk', 'boar']))\n",
    "print(countConstruct('enterapotentpot', ['a', 'p', 'ent', 'enter', 'ot', 'o', 't']))  # True"
   ]
  },
  {
   "cell_type": "code",
   "execution_count": 25,
   "id": "ba11ae7a-41bd-4a7f-83a9-5f8e67e63742",
   "metadata": {},
   "outputs": [],
   "source": [
    "# Count contruct\n",
    "def allConstruct(target, wordBank):\n",
    "    table = [[] for i in range(len(target) + 1)]\n",
    "    table[0] = [[]]\n",
    "\n",
    "    for i in range(len(target)):\n",
    "        for word in wordBank:\n",
    "            if target[i : i + len(word)] == word:\n",
    "                for item in table[i]:\n",
    "                    newCombination = item + [word]\n",
    "                    table[i + len(word)].append(newCombination)\n",
    "                \n",
    "\n",
    "    return table[len(target)]"
   ]
  },
  {
   "cell_type": "code",
   "execution_count": 27,
   "id": "a359808d-d804-47f6-95b2-cf2c7beee86b",
   "metadata": {},
   "outputs": [
    {
     "name": "stdout",
     "output_type": "stream",
     "text": [
      "[['purp', 'le'], ['p', 'ur', 'p', 'le']]\n",
      "[['abc', 'def'], ['ab', 'c', 'def'], ['abcd', 'ef'], ['ab', 'cd', 'ef']]\n",
      "[[]]\n",
      "[]\n"
     ]
    }
   ],
   "source": [
    "print(allConstruct('purple', ['purp', 'p', 'ur', 'le', 'purpl']))\n",
    "print(allConstruct('abcdef', ['ab', 'abc', 'cd',  'def', 'abcd', 'ef', 'c']))\n",
    "print(allConstruct('', ['purp', 'p', 'ur', 'le', 'purpl']))\n",
    "print(allConstruct('eeeeef', ['e', 'ee', 'eee', 'eeee', 'eeeee']))\n",
    "\n"
   ]
  },
  {
   "cell_type": "code",
   "execution_count": null,
   "id": "46dd156d-e374-4408-8629-6cf5b4b96f48",
   "metadata": {},
   "outputs": [],
   "source": []
  },
  {
   "cell_type": "code",
   "execution_count": 4,
   "id": "23e36843-93f6-4eb9-8f19-5cd286ccf25c",
   "metadata": {},
   "outputs": [],
   "source": [
    "# Get the maximum area\n",
    "\n",
    "\n",
    "def largest_square(bin_array: list[list[int]]) -> int:\n",
    "    n = len(bin_array)\n",
    "    m = len(bin_array[0])\n",
    "    dp = [[0] * m for _ in range(n)]  # ✅ FIXED initialization\n",
    "\n",
    "    for i in range(n):\n",
    "        for j in range(m):\n",
    "            if bin_array[i][j] == 0:\n",
    "                dp[i][j] = 0\n",
    "            else:\n",
    "                if i == 0 or j == 0:\n",
    "                    dp[i][j] = 1\n",
    "                else:\n",
    "                    dp[i][j] = min(\n",
    "                        dp[i-1][j],   # top\n",
    "                        dp[i][j-1],   # left\n",
    "                        dp[i-1][j-1]  # top-left\n",
    "                    ) + 1\n",
    "\n",
    "    rowwise_max = [max(row) for row in dp]\n",
    "    return max(rowwise_max)\n"
   ]
  },
  {
   "cell_type": "code",
   "execution_count": 45,
   "id": "4f26e41b-2647-4a36-8328-440a24af5326",
   "metadata": {},
   "outputs": [],
   "source": [
    "# Leetcode 221\n",
    "# Maximal Square \n",
    "def maximalSquare(matrix: list[list[str]]) -> int:\n",
    "        n = len(matrix)\n",
    "        m = len(matrix[0])\n",
    "        dp = [[0]*m for i in range(n)]\n",
    "        max_num = 0\n",
    "\n",
    "        for i in range(n):\n",
    "            for j in range(m):\n",
    "                if matrix[i][j] == '0':\n",
    "                    continue\n",
    "                left = top = diag = 0\n",
    "                if i > 0: \n",
    "                    left = dp[i-1][j]\n",
    "                if j > 0: \n",
    "                    top = dp[i][j-1]\n",
    "                if (i> 0 and j>0): \n",
    "                    diag = dp[i-1][j-1]\n",
    "                # if if all set, then put dp to minimum of those + 1\n",
    "                dp[i][j] = min([left, top, diag]) + 1\n",
    "                \n",
    "\n",
    "                max_num = max(max_num, dp[i][j])\n",
    "        print(dp)\n",
    "\n",
    "            \n",
    "                        \n",
    "        return max_num*max_num\n"
   ]
  },
  {
   "cell_type": "code",
   "execution_count": 46,
   "id": "73b6a0cc-2700-4108-a2a4-ce76cfce38ac",
   "metadata": {},
   "outputs": [
    {
     "name": "stdout",
     "output_type": "stream",
     "text": [
      "[[1, 0, 1, 0, 0], [1, 0, 1, 1, 1], [1, 1, 1, 2, 2], [1, 0, 0, 1, 0]]\n"
     ]
    },
    {
     "data": {
      "text/plain": [
       "4"
      ]
     },
     "execution_count": 46,
     "metadata": {},
     "output_type": "execute_result"
    }
   ],
   "source": [
    "maximalSquare([[\"1\",\"0\",\"1\",\"0\",\"0\"],[\"1\",\"0\",\"1\",\"1\",\"1\"],[\"1\",\"1\",\"1\",\"1\",\"1\"],[\"1\",\"0\",\"0\",\"1\",\"0\"]])"
   ]
  },
  {
   "cell_type": "code",
   "execution_count": 14,
   "id": "bb09f3cd-7d9d-4255-af23-6b6ec4c75f09",
   "metadata": {},
   "outputs": [],
   "source": [
    "# Leetcode 85 \n",
    "# Maximal rectangle \n",
    "def maximalRectangle(matrix: list[list[str]]) -> int:\n",
    "    m = len(matrix)\n",
    "    n = len(matrix[0])\n",
    "    dp = [[0]*n for i in range(m)]\n",
    "    \n",
    "    for i in range(m):\n",
    "        for j in range(n):\n",
    "            if matrix[i][j] == '0':\n",
    "                continue\n",
    "            top = 0\n",
    "            if i> 0:\n",
    "                top = dp[i-1][j]\n",
    "            dp[i][j] = top + 1\n",
    "    max_area = 0 \n",
    "    for heights in dp:\n",
    "        n = len(heights)\n",
    "        stack = []\n",
    "        left = []\n",
    "        right = [0]*n\n",
    "\n",
    "        for i in range(n):\n",
    "            while(stack and heights[stack[-1]] >=heights[i]):\n",
    "                stack.pop()\n",
    "                \n",
    "            left.append(0 if not stack else stack[-1] + 1)\n",
    "            stack.append(i)\n",
    "\n",
    "        stack.clear()\n",
    "\n",
    "        for i in range(n-1, -1, -1):\n",
    "            while stack and heights[stack[-1]]>= heights[i]:\n",
    "                stack.pop()\n",
    "            right[i] = n-1 if not stack else stack[-1] -1\n",
    "            stack.append(i)\n",
    "        for i in range(len(heights)):\n",
    "            max_area = max(max_area, heights[i]*(right[i] - left[i] +1 ))\n",
    "            \n",
    "            \n",
    "    return max_area"
   ]
  },
  {
   "cell_type": "code",
   "execution_count": 15,
   "id": "97f6e6c2-9e39-4a1a-bbec-ccf64829f8b4",
   "metadata": {},
   "outputs": [
    {
     "data": {
      "text/plain": [
       "6"
      ]
     },
     "execution_count": 15,
     "metadata": {},
     "output_type": "execute_result"
    }
   ],
   "source": [
    "maximalRectangle([[\"1\",\"0\",\"1\",\"0\",\"0\"],[\"1\",\"0\",\"1\",\"1\",\"1\"],[\"1\",\"1\",\"1\",\"1\",\"1\"],[\"1\",\"0\",\"0\",\"1\",\"0\"]])"
   ]
  },
  {
   "cell_type": "code",
   "execution_count": 103,
   "id": "0f2d4ee4-2791-4085-8764-cb356756ca7b",
   "metadata": {},
   "outputs": [],
   "source": [
    "# Leetcode 518\n",
    "# Coin change II\n",
    "def change(amount: int, coins: list[int]) -> int:\n",
    "    coins.sort() \n",
    "    dp = [[] for i in range(amount+1)]\n",
    "    dp[0] = [[]]\n",
    "\n",
    "    for i in range(amount+1):\n",
    "        for comb in dp[i]:\n",
    "            for coin in coins:\n",
    "                if i+coin <= amount and (not comb or coin >= comb[-1]):\n",
    "                        dp[i+coin].append(comb+[coin])\n",
    "                              \n",
    "    return len(dp[amount])"
   ]
  },
  {
   "cell_type": "code",
   "execution_count": 104,
   "id": "d235748d-4732-4509-8ad1-61f889e6ff15",
   "metadata": {},
   "outputs": [
    {
     "name": "stdout",
     "output_type": "stream",
     "text": [
      "[[5], [1, 2, 2], [1, 1, 1, 2], [1, 1, 1, 1, 1]]\n"
     ]
    },
    {
     "data": {
      "text/plain": [
       "4"
      ]
     },
     "execution_count": 104,
     "metadata": {},
     "output_type": "execute_result"
    }
   ],
   "source": [
    "change(5, [1, 2, 5])"
   ]
  },
  {
   "cell_type": "code",
   "execution_count": 1,
   "id": "6ce35381-5505-4e7d-82e0-cb784c344263",
   "metadata": {},
   "outputs": [],
   "source": [
    "# more optimised solution\n",
    "def change(amount: int, coins: list[int]) -> int:\n",
    "        dp = [0 for i in range(amount + 1)]\n",
    "        dp[0] = 1  \n",
    "\n",
    "        for coin in coins:\n",
    "            for i in range(coin, amount+1):\n",
    "                dp[i] += dp[i-coin]\n",
    "\n",
    "        return dp[amount]"
   ]
  },
  {
   "cell_type": "code",
   "execution_count": 2,
   "id": "8a973c13-d66d-4de2-b440-8f362e7668ad",
   "metadata": {},
   "outputs": [
    {
     "data": {
      "text/plain": [
       "4"
      ]
     },
     "execution_count": 2,
     "metadata": {},
     "output_type": "execute_result"
    }
   ],
   "source": [
    "change(5, [1, 2, 5])"
   ]
  },
  {
   "cell_type": "code",
   "execution_count": 36,
   "id": "9471cc60-a081-4b2a-af1d-958d40adc6bd",
   "metadata": {},
   "outputs": [],
   "source": [
    "# Leetcode 72\n",
    "# Edit distance\n",
    "# Refer to the below video\n",
    "# https://www.youtube.com/watch?v=MiqoA-yF-0M\n",
    "def minDistance(word1: str, word2: str) -> int:\n",
    "    n, m = len(word1) + 1, len(word2) +1\n",
    "    dp = [[0]*m for i in range(n)]\n",
    "\n",
    "    for i in range(n):\n",
    "        for j in range(m):\n",
    "            if i == 0 and j > 0:\n",
    "                dp[i][j] = dp[i][j-1] + 1\n",
    "            if j == 0 and i > 0:\n",
    "                dp[i][j] = dp[i-1][j] +1\n",
    "    for i in range(n-1):\n",
    "        for j in range(m-1):\n",
    "            if word1[i] != word2[j]:\n",
    "                dp[i+1][j+1] = min([dp[i][j], dp[i][j+1], dp[i+1][j]]) + 1\n",
    "            else:\n",
    "                dp[i+1][j+1] = dp[i][j]\n",
    "                \n",
    "    \n",
    " \n",
    "    return dp[n-1][m-1]"
   ]
  },
  {
   "cell_type": "code",
   "execution_count": 37,
   "id": "3f952fd6-bb87-4cc1-9890-40ed24ef985d",
   "metadata": {},
   "outputs": [
    {
     "data": {
      "text/plain": [
       "3"
      ]
     },
     "execution_count": 37,
     "metadata": {},
     "output_type": "execute_result"
    }
   ],
   "source": [
    "minDistance(\"horse\", \"ros\")"
   ]
  },
  {
   "cell_type": "code",
   "execution_count": null,
   "id": "30d059b5-1809-4f41-af86-e768ed2a2280",
   "metadata": {},
   "outputs": [],
   "source": []
  },
  {
   "cell_type": "code",
   "execution_count": null,
   "id": "866aaf44-d274-451a-be73-57c65c86700a",
   "metadata": {},
   "outputs": [],
   "source": []
  }
 ],
 "metadata": {
  "kernelspec": {
   "display_name": "Python 3 (ipykernel)",
   "language": "python",
   "name": "python3"
  },
  "language_info": {
   "codemirror_mode": {
    "name": "ipython",
    "version": 3
   },
   "file_extension": ".py",
   "mimetype": "text/x-python",
   "name": "python",
   "nbconvert_exporter": "python",
   "pygments_lexer": "ipython3",
   "version": "3.11.8"
  }
 },
 "nbformat": 4,
 "nbformat_minor": 5
}
