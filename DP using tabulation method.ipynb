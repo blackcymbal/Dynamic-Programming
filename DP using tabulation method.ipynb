{
 "cells": [
  {
   "cell_type": "code",
   "execution_count": 1,
   "id": "0f53657d-4ee4-4cff-bba0-32b8a64e6c62",
   "metadata": {},
   "outputs": [
    {
     "data": {
      "text/plain": [
       "[0, 0, 0, 0, 0]"
      ]
     },
     "execution_count": 1,
     "metadata": {},
     "output_type": "execute_result"
    }
   ],
   "source": [
    "[0 for x in range(5)]"
   ]
  },
  {
   "cell_type": "code",
   "execution_count": 20,
   "id": "7d14f3f5-fd61-44a1-a9c3-edf84d153eb6",
   "metadata": {},
   "outputs": [],
   "source": [
    "# fibonacchi sequence\n",
    "def fib(n):\n",
    "    table = [0 for x in range(n+2)]\n",
    "    # or we  can do table = [0] * (n + 2)\n",
    "    table[1] = 1\n",
    "    for i in range(0, n, 1):\n",
    "        table[i+1] += table[i]\n",
    "        table[i+2] += table[i]\n",
    "    return table[n]\n",
    "        \n",
    "        "
   ]
  },
  {
   "cell_type": "code",
   "execution_count": 23,
   "id": "7162fb89-1b06-4cbe-b355-ea0490240f90",
   "metadata": {},
   "outputs": [
    {
     "name": "stdout",
     "output_type": "stream",
     "text": [
      "8\n",
      "13\n",
      "21\n",
      "12586269025\n"
     ]
    }
   ],
   "source": [
    "print(fib(6))\n",
    "print(fib(7))\n",
    "print(fib(8))\n",
    "print(fib(50))"
   ]
  },
  {
   "cell_type": "code",
   "execution_count": null,
   "id": "f5625416-a949-405c-8228-a0b4885e9dfa",
   "metadata": {},
   "outputs": [],
   "source": []
  }
 ],
 "metadata": {
  "kernelspec": {
   "display_name": "Python 3 (ipykernel)",
   "language": "python",
   "name": "python3"
  },
  "language_info": {
   "codemirror_mode": {
    "name": "ipython",
    "version": 3
   },
   "file_extension": ".py",
   "mimetype": "text/x-python",
   "name": "python",
   "nbconvert_exporter": "python",
   "pygments_lexer": "ipython3",
   "version": "3.11.5"
  }
 },
 "nbformat": 4,
 "nbformat_minor": 5
}
