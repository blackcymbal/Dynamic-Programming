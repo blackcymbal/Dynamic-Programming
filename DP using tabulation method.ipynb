{
 "cells": [
  {
   "cell_type": "code",
   "execution_count": 1,
   "id": "0f53657d-4ee4-4cff-bba0-32b8a64e6c62",
   "metadata": {},
   "outputs": [
    {
     "data": {
      "text/plain": [
       "[0, 0, 0, 0, 0]"
      ]
     },
     "execution_count": 1,
     "metadata": {},
     "output_type": "execute_result"
    }
   ],
   "source": [
    "[0 for x in range(5)]"
   ]
  },
  {
   "cell_type": "code",
   "execution_count": 46,
   "id": "7d14f3f5-fd61-44a1-a9c3-edf84d153eb6",
   "metadata": {},
   "outputs": [
    {
     "data": {
      "text/plain": [
       "[0, 0, 0, 0, 0]"
      ]
     },
     "execution_count": 46,
     "metadata": {},
     "output_type": "execute_result"
    }
   ],
   "source": [
    "[0]*5      "
   ]
  },
  {
   "cell_type": "code",
   "execution_count": 47,
   "id": "f5625416-a949-405c-8228-a0b4885e9dfa",
   "metadata": {},
   "outputs": [
    {
     "data": {
      "text/plain": [
       "[[0, 0, 0, 0], [0, 0, 0, 0], [0, 0, 0, 0]]"
      ]
     },
     "execution_count": 47,
     "metadata": {},
     "output_type": "execute_result"
    }
   ],
   "source": [
    "n1, n2 = 3, 4\n",
    "[[0]*n2 for i in range(n1)]"
   ]
  },
  {
   "cell_type": "code",
   "execution_count": 48,
   "id": "7cf20d26-2fd6-4679-917d-334b72cd5a84",
   "metadata": {},
   "outputs": [
    {
     "name": "stdout",
     "output_type": "stream",
     "text": [
      "[[0, 0, 0, 0], [0, 0, 0, 0], [0, 0, 0, 0]]\n"
     ]
    }
   ],
   "source": [
    "table = [[0]*n2]*n1\n",
    "print(table)"
   ]
  },
  {
   "cell_type": "code",
   "execution_count": 1,
   "id": "6d56b9a7-0240-43d6-ba02-13097d2ca354",
   "metadata": {},
   "outputs": [],
   "source": [
    "# LeetCode 1143\n",
    "# Longest commoon subsequence \n",
    "def longestCommonSubsequence(text1, text2):\n",
    "    m, n = len(text1), len(text2)\n",
    "    table = [[0 for x in range(n+1)] for x in range(m+1)]\n",
    "    for i in range(m):\n",
    "        for j in range(n):\n",
    "            if text1[i] == text2[j]:\n",
    "                print(i,j)\n",
    "                table[i+1][j+1] = 1 +  table[i][j]\n",
    "            else:\n",
    "                table[i+1][j+1] = max(table[i][j+1], table[i+1][j])\n",
    "    return table[m][n]\n",
    "                \n",
    "            \n",
    "    \n",
    "     "
   ]
  },
  {
   "cell_type": "code",
   "execution_count": 2,
   "id": "4df63ca5-bfe8-4405-b0ec-571c177be0bd",
   "metadata": {},
   "outputs": [
    {
     "name": "stdout",
     "output_type": "stream",
     "text": [
      "0 0\n",
      "2 1\n",
      "4 2\n",
      "5 3\n"
     ]
    },
    {
     "data": {
      "text/plain": [
       "4"
      ]
     },
     "execution_count": 2,
     "metadata": {},
     "output_type": "execute_result"
    }
   ],
   "source": [
    "longestCommonSubsequence(\"abcdef\", \"acef\" )"
   ]
  },
  {
   "cell_type": "code",
   "execution_count": 8,
   "id": "13edadb0-5f9f-4f8d-a444-6a51a85b58fe",
   "metadata": {},
   "outputs": [],
   "source": [
    "# fibonacchi sequence\n",
    "def fib(n):\n",
    "    table = [0 for i in range(n+2)] # We are taking n+2 because python give an error that array out of range\n",
    "    # or we  can do table = [0] * (n + 2)\n",
    "    table[1] = 1\n",
    "\n",
    "    for i in range(n):\n",
    "        table[i + 1] += table[i]\n",
    "        table[i + 2] += table[i]\n",
    "    return table[n]"
   ]
  },
  {
   "cell_type": "code",
   "execution_count": 9,
   "id": "37801786-f7f3-4551-98ce-fed7991b990e",
   "metadata": {},
   "outputs": [
    {
     "data": {
      "text/plain": [
       "8"
      ]
     },
     "execution_count": 9,
     "metadata": {},
     "output_type": "execute_result"
    }
   ],
   "source": [
    "fib(6)"
   ]
  },
  {
   "cell_type": "code",
   "execution_count": 43,
   "id": "2c53afe7-a89d-49e8-8297-34e5ddd5c290",
   "metadata": {},
   "outputs": [],
   "source": [
    "def grid_traveller(m,n):\n",
    "    table = [[0]*(n+1) for i in range(m+1)]\n",
    "\n",
    "    table[1][1] = 1\n",
    "\n",
    "    for i in range(m+1):\n",
    "        for j in range(n+1):\n",
    "            if i+1 <= m:\n",
    "                table[i+1][j] += table[i][j]\n",
    "            if j+1 <= n:\n",
    "                table[i][j+1] += table[i][j]\n",
    "                \n",
    "    return table[m][n]"
   ]
  },
  {
   "cell_type": "code",
   "execution_count": 45,
   "id": "4e426fa0-eb5e-40df-a7d4-b35ad8c51f50",
   "metadata": {},
   "outputs": [
    {
     "name": "stdout",
     "output_type": "stream",
     "text": [
      "3\n"
     ]
    }
   ],
   "source": [
    "grid_traveller(5, 6)\n",
    "print(grid_traveller(2,3))"
   ]
  },
  {
   "cell_type": "code",
   "execution_count": null,
   "id": "5ffd48d9-456d-4ad7-831d-54548f4c4bb9",
   "metadata": {},
   "outputs": [],
   "source": []
  },
  {
   "cell_type": "code",
   "execution_count": null,
   "id": "453e6b56-23c5-4fb7-b329-2245f599743b",
   "metadata": {},
   "outputs": [],
   "source": []
  }
 ],
 "metadata": {
  "kernelspec": {
   "display_name": "Python 3 (ipykernel)",
   "language": "python",
   "name": "python3"
  },
  "language_info": {
   "codemirror_mode": {
    "name": "ipython",
    "version": 3
   },
   "file_extension": ".py",
   "mimetype": "text/x-python",
   "name": "python",
   "nbconvert_exporter": "python",
   "pygments_lexer": "ipython3",
   "version": "3.13.2"
  }
 },
 "nbformat": 4,
 "nbformat_minor": 5
}
