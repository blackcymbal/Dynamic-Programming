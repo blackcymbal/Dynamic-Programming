{
 "cells": [
  {
   "cell_type": "code",
   "execution_count": 44,
   "id": "c81297bc-fba6-46c1-9f44-e0eea9eb2536",
   "metadata": {},
   "outputs": [],
   "source": [
    "# Leetcode 39\n",
    "# Combination sum\n",
    "\n",
    "def combinationSum(candidates, target):\n",
    "    if target == 0: \n",
    "        return []\n",
    "    if target < 0: \n",
    "        return None\n",
    "\n",
    "    for num in candidates:\n",
    "        remainder = target - num\n",
    "        remainderResult = combinationSum(candidates, remainder)\n",
    "        if remainderResult != None:\n",
    "            return remainderResult + [num]\n",
    "        \n",
    "\n",
    "    return None\n",
    "\n",
    "    \n",
    "    "
   ]
  },
  {
   "cell_type": "code",
   "execution_count": 45,
   "id": "4c52bfca-d1d0-4ff1-8441-15296a7ec714",
   "metadata": {},
   "outputs": [
    {
     "data": {
      "text/plain": [
       "[3, 2, 2]"
      ]
     },
     "execution_count": 45,
     "metadata": {},
     "output_type": "execute_result"
    }
   ],
   "source": [
    "combinationSum([2,3,6,7], 7)"
   ]
  },
  {
   "cell_type": "code",
   "execution_count": 15,
   "id": "a71e7f4c-4697-4091-b42f-be805d237998",
   "metadata": {},
   "outputs": [
    {
     "name": "stdout",
     "output_type": "stream",
     "text": [
      "Hello\n"
     ]
    }
   ],
   "source": [
    "print('Hello')"
   ]
  },
  {
   "cell_type": "code",
   "execution_count": 1,
   "id": "b9b60f0d-4eeb-4fd7-ab3d-8781b073de8d",
   "metadata": {},
   "outputs": [],
   "source": [
    "# Optimization\n",
    "# Memoized version\n",
    "def combinationSum(candidates, target):\n",
    "    memo = {}\n",
    "        \n",
    "    def memoHelper(candidates, target, memo):\n",
    "        if target in memo: \n",
    "            return memo[target]\n",
    "        if target == 0: \n",
    "            return [[]]  # Return a list containing an empty list\n",
    "        if target < 0: \n",
    "            return []\n",
    "    \n",
    "        result = []\n",
    "        for num in candidates:\n",
    "            remainder = target - num\n",
    "            remainderResult = memoHelper(candidates, remainder, memo)\n",
    "            if remainderResult is not None:\n",
    "                for combination in remainderResult:\n",
    "                    result.append(combination + [num])\n",
    "                \n",
    "        memo[target] = result       \n",
    "        return result\n",
    "            \n",
    "    return memoHelper(candidates, target, memo)"
   ]
  },
  {
   "cell_type": "code",
   "execution_count": 2,
   "id": "90e76826-a726-4c81-aaea-fbdf11fb3779",
   "metadata": {},
   "outputs": [
    {
     "data": {
      "text/plain": [
       "[[3, 2, 2], [2, 3, 2], [2, 2, 3], [7]]"
      ]
     },
     "execution_count": 2,
     "metadata": {},
     "output_type": "execute_result"
    }
   ],
   "source": [
    "combinationSum([2,3,6,7], 7)"
   ]
  },
  {
   "cell_type": "code",
   "execution_count": 32,
   "id": "e6b35b5d-d9f8-41ec-ae4f-f754d4f53044",
   "metadata": {},
   "outputs": [],
   "source": [
    "def combinationSum(candidates, target):\n",
    "    memo = {}\n",
    "    \n",
    "    def memoHelper(candidates, target, start, memo):\n",
    "        if target == 0: \n",
    "            return [[]]  # Return a list containing an empty list\n",
    "        if target < 0: \n",
    "            return []\n",
    "            \n",
    "        if target in memo: \n",
    "            return memo[target]\n",
    "        \n",
    "    \n",
    "        result = []\n",
    "        for i in range(start, len(candidates)):\n",
    "            num = candidates[i]\n",
    "            remainder = target - num\n",
    "            remainderResult = memoHelper(candidates, remainder, i, memo)\n",
    "           \n",
    "            for combination in remainderResult:\n",
    "                result.append(combination + [num])\n",
    "                \n",
    "        memo[target] = result       \n",
    "        return result\n",
    "        \n",
    "    return memoHelper(candidates, target, 0, memo)\n"
   ]
  },
  {
   "cell_type": "code",
   "execution_count": 33,
   "id": "bbbb36eb-61cf-4995-afae-a5637597d030",
   "metadata": {},
   "outputs": [
    {
     "name": "stdout",
     "output_type": "stream",
     "text": [
      "[[2, 2, 2, 2], [3, 3, 2], [2, 3, 3], [5, 3], [3, 5]]\n"
     ]
    }
   ],
   "source": [
    "print(combinationSum([2,3,5], 8))"
   ]
  },
  {
   "cell_type": "code",
   "execution_count": 31,
   "id": "99d9d899-91b2-43e3-972f-eb87db438079",
   "metadata": {},
   "outputs": [
    {
     "name": "stdout",
     "output_type": "stream",
     "text": [
      "[[2, 2, 2, 2], [3, 3, 2], [5, 3]]\n"
     ]
    }
   ],
   "source": [
    "def combinationSum(candidates, target):\n",
    "    memo = {}\n",
    "    \n",
    "    def memoHelper(candidates, target, start, memo):\n",
    "        # Direct hit for zero: an empty list is the only combination\n",
    "        if target == 0: \n",
    "            return [[]]  # Return a list containing an empty list\n",
    "        \n",
    "        # Invalid combination path\n",
    "        if target < 0: \n",
    "            return []\n",
    "        \n",
    "        # Memoization hit\n",
    "        if (target, start) in memo:\n",
    "            return memo[(target, start)]\n",
    "    \n",
    "        result = []\n",
    "        for i in range(start, len(candidates)):\n",
    "            num = candidates[i]\n",
    "            remainder = target - num\n",
    "            remainderResult = memoHelper(candidates, remainder, i, memo)\n",
    "           \n",
    "            for combination in remainderResult:\n",
    "                result.append(combination + [num])\n",
    "                \n",
    "        memo[(target, start)] = result       \n",
    "        return result\n",
    "        \n",
    "    return memoHelper(candidates, target, 0, memo)\n",
    "\n",
    "# Correct call to combinationSum\n",
    "print(combinationSum([2, 3, 5], 8))\n"
   ]
  },
  {
   "cell_type": "code",
   "execution_count": 36,
   "id": "87580218-9f87-49d3-a484-e05b92a70976",
   "metadata": {},
   "outputs": [],
   "source": [
    "def combinationSum(candidates, target):\n",
    "    def backtrack(tmp, start, end, target):\n",
    "        if target == 0:\n",
    "            ans.append(tmp[:])\n",
    "        elif target > 0:\n",
    "            for i in range(start, end):\n",
    "                tmp.append(candidates[i])\n",
    "                backtrack(tmp, i, end, target - candidates[i])\n",
    "                tmp.pop()\n",
    "    ans = [] \n",
    "    candidates.sort(reverse= True)\n",
    "    backtrack([], 0, len(candidates), target)\n",
    "    return ans\n"
   ]
  },
  {
   "cell_type": "code",
   "execution_count": 37,
   "id": "1de251d8-ea1f-40ca-adc2-478690757425",
   "metadata": {},
   "outputs": [
    {
     "name": "stdout",
     "output_type": "stream",
     "text": [
      "[[5, 3], [3, 3, 2], [2, 2, 2, 2]]\n"
     ]
    }
   ],
   "source": [
    "print(combinationSum([2, 3, 5], 8))"
   ]
  },
  {
   "cell_type": "code",
   "execution_count": 94,
   "id": "823e9398-97bc-4173-b8c1-6c65da8de32b",
   "metadata": {},
   "outputs": [],
   "source": [
    "# LeetCode 46\n",
    "# Permutations\n",
    "def permute(nums):\n",
    "    result = []\n",
    "    \n",
    "    def helper(remaining, path):\n",
    "        if len(remaining) == 0: \n",
    "            result.append(path)\n",
    "            return\n",
    "\n",
    "    \n",
    "        for i in range(len(remaining)):\n",
    "            newPath = path + [remaining[i]]\n",
    "            new_remaining = remaining[:i] + remaining[i+1:]  \n",
    "            helper(new_remaining, newPath)\n",
    "        \n",
    "            \n",
    "    helper(nums, [])\n",
    "    return result\n",
    "        "
   ]
  },
  {
   "cell_type": "code",
   "execution_count": 95,
   "id": "cb5a81a4-12ee-4ab3-abfb-833d7a1f1137",
   "metadata": {},
   "outputs": [
    {
     "name": "stdout",
     "output_type": "stream",
     "text": [
      "[[1, 2, 3], [1, 3, 2], [2, 1, 3], [2, 3, 1], [3, 1, 2], [3, 2, 1]]\n"
     ]
    }
   ],
   "source": []
  },
  {
   "cell_type": "code",
   "execution_count": 88,
   "id": "2a727ecd-e1e5-4521-b5b8-a80768f80e3a",
   "metadata": {},
   "outputs": [
    {
     "name": "stdout",
     "output_type": "stream",
     "text": [
      "[2, 3]\n"
     ]
    }
   ],
   "source": [
    "remaining = [1,2,3]\n",
    "print(remaining[:0] + remaining[0+1:])"
   ]
  },
  {
   "cell_type": "code",
   "execution_count": 163,
   "id": "d390c127-ca6a-414f-9ba2-9321dd6d6b6c",
   "metadata": {},
   "outputs": [],
   "source": [
    "def permute(nums):\n",
    "    result = []\n",
    "    def helper(remaining, path):\n",
    "        if len(remaining) == 0:\n",
    "            result.append(path)\n",
    "            return\n",
    "            \n",
    "        for i in range(len(remaining)):\n",
    "            newPath = path + [remaining[i]]\n",
    "            new_remaining = remaining[:i] + remaining[i+1:]  \n",
    "            helper(new_remaining, newPath)\n",
    "                \n",
    "            \n",
    "    helper(nums, [])\n",
    "    return result"
   ]
  },
  {
   "cell_type": "code",
   "execution_count": 164,
   "id": "388c7b12-0b29-4cbf-8cd3-c46ac89bfc3e",
   "metadata": {},
   "outputs": [
    {
     "name": "stdout",
     "output_type": "stream",
     "text": [
      "[[1, 2, 3], [1, 3, 2], [2, 1, 3], [2, 3, 1], [3, 1, 2], [3, 2, 1]]\n"
     ]
    }
   ],
   "source": [
    "print(permute([1,2,3]))"
   ]
  },
  {
   "cell_type": "code",
   "execution_count": 146,
   "id": "da7daae3-eae9-4b20-9a0c-9448cba7bd68",
   "metadata": {},
   "outputs": [],
   "source": [
    "# Leetcode 47\n",
    "# Permutations II\n",
    "def permuteUnique(nums):\n",
    "    nums.sort()\n",
    "    result = []\n",
    "    \n",
    "    def helper(remaining, path):        \n",
    "        if len(remaining) == 0:\n",
    "            result.append(path)\n",
    "            return\n",
    "\n",
    "        for i in range(len(remaining)):\n",
    "            if i > 0 and remaining[i] == remaining[i-1]:\n",
    "                continue\n",
    "            newRemaining = remaining[:i] + remaining[i+1: ]\n",
    "            newPath = path + [remaining[i]]\n",
    "            helper(newRemaining, newPath)\n",
    "            \n",
    "    helper(nums, [])\n",
    "    return result\n",
    "        "
   ]
  },
  {
   "cell_type": "code",
   "execution_count": 147,
   "id": "ddfb6f0b-e532-41c7-9da6-9266b84053f4",
   "metadata": {},
   "outputs": [
    {
     "name": "stdout",
     "output_type": "stream",
     "text": [
      "[[1, 1, 2], [1, 2, 1], [2, 1, 1]]\n"
     ]
    }
   ],
   "source": [
    "print(permuteUnique([1,1,2]))"
   ]
  },
  {
   "cell_type": "code",
   "execution_count": 271,
   "id": "64b0774f-5083-43b1-87c3-4ba869f7808d",
   "metadata": {},
   "outputs": [],
   "source": [
    "# Leetcode 60\n",
    "# Permutation Sequence\n",
    "import math\n",
    "def getPermutation(n, k):\n",
    "    nums = []\n",
    "    for i  in range(n):\n",
    "        nums.append(i+1)\n",
    "    result = []\n",
    "    def helper(remaining, path, newK):\n",
    "        if len(remaining) == 0:\n",
    "            result.append(path)\n",
    "            return\n",
    "            \n",
    "        for i in range(len(remaining)):\n",
    "            if (i != (newK-1)//math.factorial(len(remaining)-1) and newK > 0):\n",
    "                continue\n",
    "            newPath = path + [remaining[i]]\n",
    "            new_remaining = remaining[:i] + remaining[i+1:]  \n",
    "            helper(new_remaining, newPath, newK-1 )\n",
    "                \n",
    "    helper(nums, [], k)\n",
    "   # stringPer = ''.join(str(num) for num in result[k-1])\n",
    "    return ''.join(str(num) for num in result[0]) if result else []\n",
    "        \n",
    "    "
   ]
  },
  {
   "cell_type": "code",
   "execution_count": 272,
   "id": "2ceeee36-f5a1-43d9-a929-13b07a5842da",
   "metadata": {},
   "outputs": [
    {
     "data": {
      "text/plain": [
       "[]"
      ]
     },
     "execution_count": 272,
     "metadata": {},
     "output_type": "execute_result"
    }
   ],
   "source": [
    "getPermutation(3, 3)"
   ]
  },
  {
   "cell_type": "code",
   "execution_count": null,
   "id": "86300989-3b13-4500-99f7-9c4827c04ebe",
   "metadata": {},
   "outputs": [],
   "source": []
  },
  {
   "cell_type": "code",
   "execution_count": null,
   "id": "7584c627-af09-4db2-9632-13b44503dc01",
   "metadata": {},
   "outputs": [],
   "source": []
  }
 ],
 "metadata": {
  "kernelspec": {
   "display_name": "Python 3 (ipykernel)",
   "language": "python",
   "name": "python3"
  },
  "language_info": {
   "codemirror_mode": {
    "name": "ipython",
    "version": 3
   },
   "file_extension": ".py",
   "mimetype": "text/x-python",
   "name": "python",
   "nbconvert_exporter": "python",
   "pygments_lexer": "ipython3",
   "version": "3.11.8"
  }
 },
 "nbformat": 4,
 "nbformat_minor": 5
}
