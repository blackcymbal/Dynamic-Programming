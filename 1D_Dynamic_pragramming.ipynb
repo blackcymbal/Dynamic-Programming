{
 "cells": [
  {
   "cell_type": "code",
   "execution_count": 18,
   "id": "56da589f-4409-441d-9964-a677da3e58b2",
   "metadata": {},
   "outputs": [],
   "source": [
    "# Leetcode 70\n",
    "# Climbing Satirs\n",
    "# Recurrsion method\n",
    "def climbStairs(n: int) -> int:\n",
    "    options = [1, 2]\n",
    "    if n == 0:\n",
    "        return 1\n",
    "    total = 0\n",
    "    for option in options:\n",
    "        remaining = n - option\n",
    "        if n>=0:\n",
    "            total += climbStairs(remaining)\n",
    "\n",
    "    return total\n",
    "                         "
   ]
  },
  {
   "cell_type": "code",
   "execution_count": 19,
   "id": "20b64263-115d-451d-98c9-27d6fa718201",
   "metadata": {},
   "outputs": [
    {
     "name": "stdout",
     "output_type": "stream",
     "text": [
      "3\n",
      "2\n",
      "5\n"
     ]
    }
   ],
   "source": [
    "print(climbStairs(3))\n",
    "print(climbStairs(2))\n",
    "print(climbStairs(4))"
   ]
  },
  {
   "cell_type": "code",
   "execution_count": 46,
   "id": "25c44c7b-1517-4512-b4bc-6b113fb74901",
   "metadata": {},
   "outputs": [],
   "source": [
    "# Memoized version\n",
    "def climbStairs(n: int) -> int:\n",
    "    options = [1, 2]\n",
    "    memo = dict()\n",
    "    def memo_helper(n):\n",
    "        if n in memo:\n",
    "            return memo[n]\n",
    "        if n == 0:\n",
    "            return 1\n",
    "        total = 0 \n",
    "        for option in options:\n",
    "            remaining = n - option\n",
    "            if n>=0:\n",
    "                total += memo_helper(remaining)\n",
    "        memo[n] = total\n",
    "        return memo[n]\n",
    "    return memo_helper(n)"
   ]
  },
  {
   "cell_type": "code",
   "execution_count": 47,
   "id": "29b01e65-0d46-4bb9-acdf-82f62180372a",
   "metadata": {},
   "outputs": [
    {
     "name": "stdout",
     "output_type": "stream",
     "text": [
      "3\n",
      "2\n",
      "5\n"
     ]
    }
   ],
   "source": [
    "print(climbStairs(3))\n",
    "print(climbStairs(2))\n",
    "print(climbStairs(4))"
   ]
  },
  {
   "cell_type": "code",
   "execution_count": null,
   "id": "33fb5aac-f955-4b28-8798-6d45e044888c",
   "metadata": {},
   "outputs": [],
   "source": []
  },
  {
   "cell_type": "code",
   "execution_count": null,
   "id": "c3758671-eda6-41aa-9a92-a098fa9053f9",
   "metadata": {},
   "outputs": [],
   "source": [
    "# Tabular method"
   ]
  }
 ],
 "metadata": {
  "kernelspec": {
   "display_name": "Python 3 (ipykernel)",
   "language": "python",
   "name": "python3"
  },
  "language_info": {
   "codemirror_mode": {
    "name": "ipython",
    "version": 3
   },
   "file_extension": ".py",
   "mimetype": "text/x-python",
   "name": "python",
   "nbconvert_exporter": "python",
   "pygments_lexer": "ipython3",
   "version": "3.11.8"
  }
 },
 "nbformat": 4,
 "nbformat_minor": 5
}
