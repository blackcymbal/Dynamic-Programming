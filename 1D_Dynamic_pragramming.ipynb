{
 "cells": [
  {
   "cell_type": "code",
   "execution_count": 18,
   "id": "56da589f-4409-441d-9964-a677da3e58b2",
   "metadata": {},
   "outputs": [],
   "source": [
    "# Leetcode 70\n",
    "# Climbing Satirs\n",
    "# Recurrsion method\n",
    "def climbStairs(n: int) -> int:\n",
    "    options = [1, 2]\n",
    "    if n == 0:\n",
    "        return 1\n",
    "    total = 0\n",
    "    for option in options:\n",
    "        remaining = n - option\n",
    "        if n>=0:\n",
    "            total += climbStairs(remaining)\n",
    "\n",
    "    return total\n",
    "                         "
   ]
  },
  {
   "cell_type": "code",
   "execution_count": 19,
   "id": "20b64263-115d-451d-98c9-27d6fa718201",
   "metadata": {},
   "outputs": [
    {
     "name": "stdout",
     "output_type": "stream",
     "text": [
      "3\n",
      "2\n",
      "5\n"
     ]
    }
   ],
   "source": [
    "print(climbStairs(3))\n",
    "print(climbStairs(2))\n",
    "print(climbStairs(4))"
   ]
  },
  {
   "cell_type": "code",
   "execution_count": 46,
   "id": "25c44c7b-1517-4512-b4bc-6b113fb74901",
   "metadata": {},
   "outputs": [],
   "source": [
    "# Memoized version\n",
    "def climbStairs(n: int) -> int:\n",
    "    options = [1, 2]\n",
    "    memo = dict()\n",
    "    def memo_helper(n):\n",
    "        if n in memo:\n",
    "            return memo[n]\n",
    "        if n == 0:\n",
    "            return 1\n",
    "        total = 0 \n",
    "        for option in options:\n",
    "            remaining = n - option\n",
    "            if n>=0:\n",
    "                total += memo_helper(remaining)\n",
    "        memo[n] = total\n",
    "        return memo[n]\n",
    "    return memo_helper(n)"
   ]
  },
  {
   "cell_type": "code",
   "execution_count": 47,
   "id": "29b01e65-0d46-4bb9-acdf-82f62180372a",
   "metadata": {},
   "outputs": [
    {
     "name": "stdout",
     "output_type": "stream",
     "text": [
      "3\n",
      "2\n",
      "5\n"
     ]
    }
   ],
   "source": [
    "print(climbStairs(3))\n",
    "print(climbStairs(2))\n",
    "print(climbStairs(4))"
   ]
  },
  {
   "cell_type": "code",
   "execution_count": null,
   "id": "33fb5aac-f955-4b28-8798-6d45e044888c",
   "metadata": {},
   "outputs": [],
   "source": []
  },
  {
   "cell_type": "code",
   "execution_count": 1,
   "id": "c3758671-eda6-41aa-9a92-a098fa9053f9",
   "metadata": {},
   "outputs": [],
   "source": [
    "# Tabular method"
   ]
  },
  {
   "cell_type": "code",
   "execution_count": 16,
   "id": "17acbb02-0456-48a6-8768-6f69208e65b5",
   "metadata": {},
   "outputs": [],
   "source": [
    "# Leetcode 746\n",
    "# Min cost climbing stairs\n",
    "def minCostClimbingStairs(cost: list[int]) -> int:\n",
    "    cost.append(0)\n",
    "\n",
    "    for i in range(len(cost) - 3, -1, -1):\n",
    "        cost[i] = cost[i] + min(cost[i+1], cost[i+2])\n",
    "        \n",
    "    return min(cost[0], cost[1])"
   ]
  },
  {
   "cell_type": "code",
   "execution_count": 17,
   "id": "833ba3f5-164b-4c0d-8929-264acce10a2f",
   "metadata": {},
   "outputs": [
    {
     "name": "stdout",
     "output_type": "stream",
     "text": [
      "[25, 15, 20, 0]\n"
     ]
    },
    {
     "data": {
      "text/plain": [
       "15"
      ]
     },
     "execution_count": 17,
     "metadata": {},
     "output_type": "execute_result"
    }
   ],
   "source": [
    "minCostClimbingStairs([10,15,20])"
   ]
  },
  {
   "cell_type": "code",
   "execution_count": 31,
   "id": "4d736870-6b24-4669-a2f0-b7958b2eb824",
   "metadata": {},
   "outputs": [],
   "source": [
    "# Leetcode 198\n",
    "# House Robber\n",
    "def rob(nums: list[int]) -> int:\n",
    "    n = len(nums)+1\n",
    "    dp = [0 for i in  range(n)]\n",
    "    dp[1] = nums[0]\n",
    "\n",
    "    for i in range(1, len(nums)):\n",
    "        dp[i+1] = max(dp[i], nums[i] + dp[i-1])\n",
    "    return dp[n-1]"
   ]
  },
  {
   "cell_type": "code",
   "execution_count": 32,
   "id": "a669d898-0cf0-48d3-86e8-1bc92fed3060",
   "metadata": {},
   "outputs": [
    {
     "data": {
      "text/plain": [
       "4"
      ]
     },
     "execution_count": 32,
     "metadata": {},
     "output_type": "execute_result"
    }
   ],
   "source": [
    "rob([1, 2, 3, 1])"
   ]
  },
  {
   "cell_type": "code",
   "execution_count": 39,
   "id": "2bfb7672-e31b-4df6-a4cc-23a6f996f9b2",
   "metadata": {},
   "outputs": [],
   "source": [
    "# Leetcode 213\n",
    "# Houser Robber II\n",
    "def rob_two(nums: list[int]) -> int:\n",
    "    n = len(nums)\n",
    "    if n == 1:\n",
    "        return nums[0]\n",
    "        \n",
    "    dp = [0 for i in range(n)]\n",
    "    dp[1] = nums[0]\n",
    "\n",
    "    for i in range(1, len(nums)-1):\n",
    "        dp[i+1] = max(dp[i], nums[i] + dp[i-1])\n",
    "\n",
    "    dp2 = [0 for i in range(n)]\n",
    "    dp2[1] = nums[1]\n",
    "\n",
    "    for i in range(1, len(nums)-1):\n",
    "        dp2[i+1] = max(dp2[i], nums[i+1] + dp2[i-1])\n",
    "        \n",
    "        \n",
    " \n",
    "    return max(dp[n-1], dp2[n-1])\n",
    "    "
   ]
  },
  {
   "cell_type": "code",
   "execution_count": 42,
   "id": "226e2ec6-972b-463d-9996-ebd7fff3e619",
   "metadata": {},
   "outputs": [
    {
     "name": "stdout",
     "output_type": "stream",
     "text": [
      "3\n",
      "4\n",
      "3\n"
     ]
    }
   ],
   "source": [
    "print(rob_two([2,3,2]))\n",
    "print(rob_two([1,2,3,1]))\n",
    "print(rob_two([1,2,3]))"
   ]
  },
  {
   "cell_type": "code",
   "execution_count": null,
   "id": "9b278d55-c9df-4ae0-8670-b99d4749bd2e",
   "metadata": {},
   "outputs": [],
   "source": []
  }
 ],
 "metadata": {
  "kernelspec": {
   "display_name": "Python 3 (ipykernel)",
   "language": "python",
   "name": "python3"
  },
  "language_info": {
   "codemirror_mode": {
    "name": "ipython",
    "version": 3
   },
   "file_extension": ".py",
   "mimetype": "text/x-python",
   "name": "python",
   "nbconvert_exporter": "python",
   "pygments_lexer": "ipython3",
   "version": "3.13.2"
  }
 },
 "nbformat": 4,
 "nbformat_minor": 5
}
