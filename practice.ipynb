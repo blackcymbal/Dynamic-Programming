{
 "cells": [
  {
   "cell_type": "code",
   "execution_count": 52,
   "id": "851eca4a-614b-429a-8df2-8fd7428cf14e",
   "metadata": {},
   "outputs": [],
   "source": [
    "# Leetcode 134\n",
    "# Gas station\n",
    "\n",
    "def canCompleteCircuit(gas, cost):\n",
    "    start_index = 0\n",
    "    for i in range(len(gas)):\n",
    "        if gas[i]>= cost[i]:\n",
    "            start_index = i\n",
    "            break\n",
    "    first_gas, last_gas = gas[0:start_index], gas[start_index:]\n",
    "    new_gas = last_gas + first_gas + [last_gas[0]]\n",
    "\n",
    "    first_cost, last_cost = cost[0:start_index], cost[start_index:]\n",
    "    new_cost = last_cost + first_cost + [last_cost[0]]\n",
    "\n",
    "    tank = new_gas[0]\n",
    "    \n",
    "    for i in range(len(new_gas)-1):\n",
    "        print(tank)\n",
    "        if tank < new_cost[i]:\n",
    "            return -1\n",
    "        tank = tank - new_cost[i] + new_gas[i+1]\n",
    "\n",
    "    return start_index"
   ]
  },
  {
   "cell_type": "code",
   "execution_count": 53,
   "id": "8e808ff3-2f46-4bd3-bfce-f8f9a08c02d1",
   "metadata": {},
   "outputs": [
    {
     "name": "stdout",
     "output_type": "stream",
     "text": [
      "4\n",
      "8\n",
      "7\n",
      "6\n",
      "5\n"
     ]
    },
    {
     "data": {
      "text/plain": [
       "3"
      ]
     },
     "execution_count": 53,
     "metadata": {},
     "output_type": "execute_result"
    }
   ],
   "source": [
    "canCompleteCircuit([1,2,3,4,5], [3,4,5,1,2])"
   ]
  },
  {
   "cell_type": "code",
   "execution_count": 54,
   "id": "5105827f-854b-4a2d-b7a1-74c627e96167",
   "metadata": {},
   "outputs": [
    {
     "name": "stdout",
     "output_type": "stream",
     "text": [
      "4\n",
      "3\n",
      "3\n"
     ]
    },
    {
     "data": {
      "text/plain": [
       "-1"
      ]
     },
     "execution_count": 54,
     "metadata": {},
     "output_type": "execute_result"
    }
   ],
   "source": [
    "canCompleteCircuit([2,3,4], [3,4,3])"
   ]
  },
  {
   "cell_type": "code",
   "execution_count": 12,
   "id": "33895e4b-d3ac-46f3-8814-b34750f3cf19",
   "metadata": {},
   "outputs": [],
   "source": [
    "# Leetcode 88\n",
    "# Merge sorted array\n",
    "\n",
    "def merge(nums1, m, nums2, n):\n",
    "    last = m+n-1\n",
    "\n",
    "    while m > 0 and n > 0:\n",
    "        print('>> ', nums1)\n",
    "        if nums1[m -1] > nums2[n-1]:\n",
    "            nums1[last] = nums1[m-1]\n",
    "            m-=1\n",
    "        else:\n",
    "            nums1[last] = nums2[n-1]\n",
    "            n-=1\n",
    "        last -=1\n",
    "\n",
    "        while n>0:\n",
    "            nums1[last] = nums2[n-1]\n",
    "            n, last = n-1, last -1\n",
    "            \n",
    "            \n",
    "    \n",
    "    return nums1"
   ]
  },
  {
   "cell_type": "code",
   "execution_count": 13,
   "id": "76c13a0f-9caa-4e27-aee8-50d405297e78",
   "metadata": {},
   "outputs": [
    {
     "name": "stdout",
     "output_type": "stream",
     "text": [
      ">>  [1, 2, 3, 0, 0, 0]\n"
     ]
    },
    {
     "data": {
      "text/plain": [
       "[1, 2, 3, 2, 5, 6]"
      ]
     },
     "execution_count": 13,
     "metadata": {},
     "output_type": "execute_result"
    }
   ],
   "source": [
    "merge([1,2,3,0,0,0], 3, [2,5,6], 3)"
   ]
  },
  {
   "cell_type": "code",
   "execution_count": 46,
   "id": "f397ca1a-dc4b-42eb-980d-17951c82d689",
   "metadata": {},
   "outputs": [],
   "source": [
    "# Leetode 27\n",
    "# Remove Element\n",
    "\n",
    "def removeElement(nums, val) -> int:\n",
    "\n",
    "    i = len(nums) -1\n",
    "    while i >= 0:\n",
    "        if val == nums[i]:\n",
    "            container = nums[i]\n",
    "            nums[i] = nums[len(nums) -1]\n",
    "            nums[len(nums) -1] = container\n",
    "            nums.pop()\n",
    "        i-=1\n",
    "\n",
    "        \n",
    "\n",
    "    return len(nums)"
   ]
  },
  {
   "cell_type": "code",
   "execution_count": 47,
   "id": "c891319a-19b1-4712-b75e-4e65c71fdb7d",
   "metadata": {},
   "outputs": [
    {
     "data": {
      "text/plain": [
       "2"
      ]
     },
     "execution_count": 47,
     "metadata": {},
     "output_type": "execute_result"
    }
   ],
   "source": [
    "removeElement([3,2,2,3], 3)"
   ]
  },
  {
   "cell_type": "code",
   "execution_count": 48,
   "id": "6727026a-5c67-4a9d-b8e2-ad2a7493edbf",
   "metadata": {},
   "outputs": [
    {
     "data": {
      "text/plain": [
       "5"
      ]
     },
     "execution_count": 48,
     "metadata": {},
     "output_type": "execute_result"
    }
   ],
   "source": [
    "removeElement([0,1,2,2,3,0,4,2], 2)"
   ]
  },
  {
   "cell_type": "code",
   "execution_count": 56,
   "id": "e38421bf-4a6a-405c-b266-13908dfa2071",
   "metadata": {},
   "outputs": [],
   "source": [
    "# More optimized solution\n",
    "def removeElement(nums, val) -> int:\n",
    "    count = 0\n",
    "\n",
    "    for i in range(len(nums)):\n",
    "        if nums[i] != val:\n",
    "            nums[count] = nums[i]\n",
    "            count+=1\n",
    "    print(nums)\n",
    "    return count"
   ]
  },
  {
   "cell_type": "code",
   "execution_count": 57,
   "id": "dd1d9ddc-2407-4b99-a836-0dfbd0dbade6",
   "metadata": {},
   "outputs": [
    {
     "name": "stdout",
     "output_type": "stream",
     "text": [
      "[2, 2, 2, 3]\n"
     ]
    },
    {
     "data": {
      "text/plain": [
       "2"
      ]
     },
     "execution_count": 57,
     "metadata": {},
     "output_type": "execute_result"
    }
   ],
   "source": [
    "removeElement([3,2,2,3], 3)"
   ]
  },
  {
   "cell_type": "code",
   "execution_count": null,
   "id": "baa75dd2-72a5-4465-9cb6-9f3c33ba9b7d",
   "metadata": {},
   "outputs": [],
   "source": []
  }
 ],
 "metadata": {
  "kernelspec": {
   "display_name": "Python 3 (ipykernel)",
   "language": "python",
   "name": "python3"
  },
  "language_info": {
   "codemirror_mode": {
    "name": "ipython",
    "version": 3
   },
   "file_extension": ".py",
   "mimetype": "text/x-python",
   "name": "python",
   "nbconvert_exporter": "python",
   "pygments_lexer": "ipython3",
   "version": "3.13.1"
  }
 },
 "nbformat": 4,
 "nbformat_minor": 5
}
