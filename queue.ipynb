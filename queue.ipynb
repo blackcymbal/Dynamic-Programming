{
 "cells": [
  {
   "cell_type": "code",
   "execution_count": 2,
   "id": "00fc8b89-3c5f-4d84-b04c-ea4b42009989",
   "metadata": {},
   "outputs": [
    {
     "name": "stdout",
     "output_type": "stream",
     "text": [
      "Queue:  ['A', 'B', 'C']\n"
     ]
    }
   ],
   "source": [
    "# Adding an item to queue\n",
    "queue = []\n",
    "\n",
    "# Enqueue\n",
    "queue.append('A')\n",
    "queue.append('B')\n",
    "queue.append('C')\n",
    "print(\"Queue: \", queue)"
   ]
  },
  {
   "cell_type": "code",
   "execution_count": 3,
   "id": "75a45193-91c0-4abc-ae52-6611ad57ed1c",
   "metadata": {},
   "outputs": [
    {
     "name": "stdout",
     "output_type": "stream",
     "text": [
      "Dequeue:  A\n"
     ]
    }
   ],
   "source": [
    "# Removing from the queue\n",
    "element = queue.pop(0)\n",
    "print(\"Dequeue: \", element)"
   ]
  },
  {
   "cell_type": "code",
   "execution_count": 4,
   "id": "ccbb71f5-7563-4ccc-87e2-228960ea4162",
   "metadata": {},
   "outputs": [
    {
     "name": "stdout",
     "output_type": "stream",
     "text": [
      "Peek:  B\n"
     ]
    }
   ],
   "source": [
    "# Get the front element of an queue\n",
    "frontElement = queue[0]\n",
    "print(\"Peek: \", frontElement)"
   ]
  },
  {
   "cell_type": "code",
   "execution_count": 5,
   "id": "ef6acabf-3e4b-4c12-bd9c-19a3555748bb",
   "metadata": {},
   "outputs": [
    {
     "name": "stdout",
     "output_type": "stream",
     "text": [
      "isEmpty:  False\n"
     ]
    }
   ],
   "source": [
    "# Checking if queue is empty \n",
    "isEmpty = not bool(queue)\n",
    "print(\"isEmpty: \", isEmpty)"
   ]
  },
  {
   "cell_type": "code",
   "execution_count": 6,
   "id": "634fda06-c9c7-4424-b7e3-33677bf2c6dc",
   "metadata": {},
   "outputs": [
    {
     "name": "stdout",
     "output_type": "stream",
     "text": [
      "Size:  2\n"
     ]
    }
   ],
   "source": [
    "# getting size of queue\n",
    "print(\"Size: \", len(queue))"
   ]
  },
  {
   "cell_type": "code",
   "execution_count": 22,
   "id": "0605af1c-688a-46c7-bd23-d717e9951381",
   "metadata": {},
   "outputs": [],
   "source": [
    "# https://www.geeksforgeeks.org/problems/reverse-first-k-elements-of-queue/1\n",
    "\n",
    "def modifyQueue(q, k):\n",
    "    stack = []\n",
    "    queue = []\n",
    "    for i in range(k):\n",
    "        stack.append(q.pop(0))\n",
    "    for i in range(len(stack)):\n",
    "        queue.append(stack.pop())\n",
    "        \n",
    "    for i in range(len(q)):\n",
    "        queue.append(q.pop(0))\n",
    "    return queue\n"
   ]
  },
  {
   "cell_type": "code",
   "execution_count": 23,
   "id": "ceff701c-34a4-4b83-94e4-a9354490b923",
   "metadata": {},
   "outputs": [
    {
     "data": {
      "text/plain": [
       "[3, 2, 1, 4, 5]"
      ]
     },
     "execution_count": 23,
     "metadata": {},
     "output_type": "execute_result"
    }
   ],
   "source": [
    "modifyQueue([1,2,3,4,5], 3)"
   ]
  },
  {
   "cell_type": "code",
   "execution_count": 26,
   "id": "ad0a872e-d291-4fec-b2c8-f9b29e3b6b12",
   "metadata": {},
   "outputs": [],
   "source": [
    "# https://www.geeksforgeeks.org/problems/queue-reversal/1\n",
    "def rev(q):\n",
    "    stack = []\n",
    "    for i in range(len(q)):\n",
    "        stack.append(q.pop(0))\n",
    "    for i in range(len(stack)):\n",
    "        q.append(stack.pop())\n",
    "\n",
    "    return q"
   ]
  },
  {
   "cell_type": "code",
   "execution_count": 27,
   "id": "38d9b1eb-86c8-46bb-aa9c-31bff8a94ddc",
   "metadata": {},
   "outputs": [
    {
     "data": {
      "text/plain": [
       "[5, 4, 3, 2, 1]"
      ]
     },
     "execution_count": 27,
     "metadata": {},
     "output_type": "execute_result"
    }
   ],
   "source": [
    "rev([1,2,3,4,5])"
   ]
  },
  {
   "cell_type": "code",
   "execution_count": 31,
   "id": "2dbd6d93-f3b9-4272-94ec-07f7690befa8",
   "metadata": {},
   "outputs": [],
   "source": [
    "# Accepted solution\n",
    "def rev(q):\n",
    "        #add code here\n",
    "        stack = []\n",
    "        \n",
    "        while not q.empty():\n",
    "            stack.append(q.get())\n",
    "        \n",
    "        while stack:\n",
    "            q.put(stack.pop())\n",
    "    \n",
    "        return q"
   ]
  },
  {
   "cell_type": "code",
   "execution_count": 2,
   "id": "3e399126-5e63-4592-a3f1-b99fdf9037a8",
   "metadata": {},
   "outputs": [],
   "source": [
    "# Deque\n",
    "# can be pushed & popped from back & front\n",
    "from collections import deque \n",
    "\n",
    "people = [\"Mario\", \"Luigi\", \"Toad\"]\n",
    "\n",
    "queue = deque(people)"
   ]
  },
  {
   "cell_type": "code",
   "execution_count": 3,
   "id": "bd802922-5df7-4c3e-bc82-44f1592705fd",
   "metadata": {},
   "outputs": [
    {
     "name": "stdout",
     "output_type": "stream",
     "text": [
      "deque(['Mario', 'Luigi', 'Toad'])\n"
     ]
    }
   ],
   "source": [
    "print(queue)"
   ]
  },
  {
   "cell_type": "code",
   "execution_count": 6,
   "id": "9f6c5acb-d833-417f-bbdd-af3edeb95126",
   "metadata": {},
   "outputs": [],
   "source": [
    "# appending from left\n",
    "queue.appendleft(\"shohan\")"
   ]
  },
  {
   "cell_type": "code",
   "execution_count": 8,
   "id": "2d99684e-8f56-4567-b926-f771a48bfcd9",
   "metadata": {},
   "outputs": [],
   "source": [
    "# appending from right\n",
    "queue.append(\"nihad\")"
   ]
  },
  {
   "cell_type": "code",
   "execution_count": 9,
   "id": "77cfcfee-33db-4e79-a23c-5fe3c89c75ee",
   "metadata": {},
   "outputs": [
    {
     "name": "stdout",
     "output_type": "stream",
     "text": [
      "deque(['shohan', 'Mario', 'Luigi', 'Toad', 'nihad'])\n"
     ]
    }
   ],
   "source": [
    "print(queue)"
   ]
  },
  {
   "cell_type": "code",
   "execution_count": 10,
   "id": "95cb02b8-64a1-48b7-8cba-4a899c47d5ac",
   "metadata": {},
   "outputs": [
    {
     "data": {
      "text/plain": [
       "'shohan'"
      ]
     },
     "execution_count": 10,
     "metadata": {},
     "output_type": "execute_result"
    }
   ],
   "source": [
    "# poping from left\n",
    "queue.popleft()"
   ]
  },
  {
   "cell_type": "code",
   "execution_count": 12,
   "id": "322acb4b-f387-49a8-a366-00086c263b31",
   "metadata": {},
   "outputs": [
    {
     "data": {
      "text/plain": [
       "'nihad'"
      ]
     },
     "execution_count": 12,
     "metadata": {},
     "output_type": "execute_result"
    }
   ],
   "source": [
    "# poping from right\n",
    "queue.pop()"
   ]
  },
  {
   "cell_type": "code",
   "execution_count": 13,
   "id": "7192a53e-9c5c-4cc4-b97f-7d7d5e1a2df4",
   "metadata": {},
   "outputs": [
    {
     "name": "stdout",
     "output_type": "stream",
     "text": [
      "deque(['Mario', 'Luigi', 'Toad'])\n"
     ]
    }
   ],
   "source": [
    "print(queue)"
   ]
  },
  {
   "cell_type": "code",
   "execution_count": 22,
   "id": "8ada38a2-072e-42e0-a2f3-d895229d549e",
   "metadata": {},
   "outputs": [],
   "source": [
    "# Rotate the entire queue to one step\n",
    "queue.rotate(-1)"
   ]
  },
  {
   "cell_type": "code",
   "execution_count": 23,
   "id": "ee659bde-4e35-4c3c-925b-d9a8a48905ea",
   "metadata": {},
   "outputs": [
    {
     "name": "stdout",
     "output_type": "stream",
     "text": [
      "deque(['Luigi', 'Toad', 'Mario'])\n"
     ]
    }
   ],
   "source": [
    "print(queue)"
   ]
  },
  {
   "cell_type": "code",
   "execution_count": 24,
   "id": "8826cc19-b7f8-4287-b523-71ba6ce06683",
   "metadata": {},
   "outputs": [],
   "source": [
    "# Add multiple items to the queue\n",
    "queue.extend([\"shy guy\", \"ahmed\"])"
   ]
  },
  {
   "cell_type": "code",
   "execution_count": 25,
   "id": "828d7944-e3ee-4cc0-8a7f-5f5869ad2162",
   "metadata": {},
   "outputs": [
    {
     "name": "stdout",
     "output_type": "stream",
     "text": [
      "deque(['Luigi', 'Toad', 'Mario', 'shy guy', 'ahmed'])\n"
     ]
    }
   ],
   "source": [
    "print(queue)"
   ]
  },
  {
   "cell_type": "code",
   "execution_count": 26,
   "id": "3d7617e8-b2b9-4b71-94ab-4bd4b6757817",
   "metadata": {},
   "outputs": [],
   "source": [
    "# extend from the left\n",
    "queue.extendleft([\"musa\", \"nuri\"])"
   ]
  },
  {
   "cell_type": "code",
   "execution_count": 27,
   "id": "f2f73384-590c-4d49-9dda-5ebb1f8eaef0",
   "metadata": {},
   "outputs": [
    {
     "name": "stdout",
     "output_type": "stream",
     "text": [
      "deque(['nuri', 'musa', 'Luigi', 'Toad', 'Mario', 'shy guy', 'ahmed'])\n"
     ]
    }
   ],
   "source": [
    "print(queue)"
   ]
  },
  {
   "cell_type": "code",
   "execution_count": 28,
   "id": "95457f11-106d-41f1-bb27-7664800a0cfb",
   "metadata": {},
   "outputs": [],
   "source": [
    "# reverse the whole queue\n",
    "queue.reverse()"
   ]
  },
  {
   "cell_type": "code",
   "execution_count": 29,
   "id": "70230d7e-0e48-4550-bf88-586a29c9a3ff",
   "metadata": {},
   "outputs": [
    {
     "name": "stdout",
     "output_type": "stream",
     "text": [
      "deque(['ahmed', 'shy guy', 'Mario', 'Toad', 'Luigi', 'musa', 'nuri'])\n"
     ]
    }
   ],
   "source": [
    "print(queue)"
   ]
  },
  {
   "cell_type": "code",
   "execution_count": 30,
   "id": "49bccc6b-31ac-48d2-9455-3c4bcbcf8418",
   "metadata": {},
   "outputs": [
    {
     "name": "stdout",
     "output_type": "stream",
     "text": [
      "ahmed\n"
     ]
    }
   ],
   "source": [
    "print(queue[0])"
   ]
  },
  {
   "cell_type": "code",
   "execution_count": null,
   "id": "e2059adc-af0c-4501-add9-afa1120a072f",
   "metadata": {},
   "outputs": [],
   "source": []
  }
 ],
 "metadata": {
  "kernelspec": {
   "display_name": "Python 3 (ipykernel)",
   "language": "python",
   "name": "python3"
  },
  "language_info": {
   "codemirror_mode": {
    "name": "ipython",
    "version": 3
   },
   "file_extension": ".py",
   "mimetype": "text/x-python",
   "name": "python",
   "nbconvert_exporter": "python",
   "pygments_lexer": "ipython3",
   "version": "3.11.8"
  }
 },
 "nbformat": 4,
 "nbformat_minor": 5
}
