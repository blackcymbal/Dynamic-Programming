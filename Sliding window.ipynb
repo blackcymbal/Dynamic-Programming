{
 "cells": [
  {
   "cell_type": "code",
   "execution_count": 35,
   "id": "61744da1-670d-4179-87bf-05011a61df10",
   "metadata": {},
   "outputs": [],
   "source": [
    "# Leetcode 643\n",
    "# Maximum Average Subarray 1\n",
    "\n",
    "def findMaxAverage(nums, k):\n",
    "    sum = 0\n",
    "    for i in range(k):\n",
    "        sum += nums[i]\n",
    "    max = sum\n",
    "        \n",
    "    for i in range(k, len(nums)):\n",
    "        sum += nums[i] - nums[i-k]\n",
    "        if sum > max:\n",
    "            max = sum\n",
    "    return float(max)/k\n",
    "        \n",
    "\n",
    "\n",
    "   \n",
    "        "
   ]
  },
  {
   "cell_type": "code",
   "execution_count": 36,
   "id": "847336df-8088-4991-bd84-95d4d8d77a44",
   "metadata": {},
   "outputs": [
    {
     "data": {
      "text/plain": [
       "12.75"
      ]
     },
     "execution_count": 36,
     "metadata": {},
     "output_type": "execute_result"
    }
   ],
   "source": [
    "findMaxAverage([1,12,-5,-6,50,3], 4)"
   ]
  },
  {
   "cell_type": "code",
   "execution_count": 37,
   "id": "da1d6bfa-579e-4e09-aabc-d4c44a6eb0d0",
   "metadata": {},
   "outputs": [],
   "source": [
    "# leetcode 862\n",
    "# Shortest subarray with sum at least K"
   ]
  },
  {
   "cell_type": "code",
   "execution_count": 30,
   "id": "ce28ac0f-b40e-43d4-af06-d50e7e1b950d",
   "metadata": {},
   "outputs": [],
   "source": [
    "def shortestSubarray(nums, k):\n",
    "    n = len(nums)\n",
    "    min_length = float('inf')\n",
    "    left = 0\n",
    "    curr_sum = 0\n",
    "\n",
    "    for right in range(n):\n",
    "        curr_sum += nums[right]\n",
    "\n",
    "        print(curr_sum)\n",
    "\n",
    "        while curr_sum >= k:\n",
    "            min_length = min(min_length, right - left + 1)\n",
    "            curr_sum -= nums[left]\n",
    "            left += 1\n",
    "            print('left', left)\n",
    "\n",
    "    return min_length if min_length != float('inf') else -1\n",
    "\n"
   ]
  },
  {
   "cell_type": "code",
   "execution_count": 31,
   "id": "e4e37b74-de07-44c6-b1cf-75c63c90f7c7",
   "metadata": {},
   "outputs": [
    {
     "name": "stdout",
     "output_type": "stream",
     "text": [
      "1\n",
      "left 1\n",
      "1\n",
      "84\n",
      "47\n",
      "79\n",
      "119\n",
      "214\n",
      "left 1\n",
      "5\n"
     ]
    }
   ],
   "source": [
    "print(shortestSubarray([1], 1))\n",
    "print(shortestSubarray([84,-37,32,40,95], 167))"
   ]
  },
  {
   "cell_type": "code",
   "execution_count": 7,
   "id": "0258fcc0-78b8-48f5-bbf7-d2925e03be9b",
   "metadata": {},
   "outputs": [],
   "source": [
    "# Leetcode 121\n",
    "# Best time to buy and sell stock\n",
    "def maxProfit(prices):\n",
    "    min = prices[0]\n",
    "    max = prices[0]\n",
    "    maxProfit = 0\n",
    "    for i in range(len(prices)):\n",
    "        if prices[i] < min:\n",
    "            min = prices[i]\n",
    "            max = prices[i]\n",
    "        if prices[i] > max:\n",
    "            max = prices[i]\n",
    "        if max - min > maxProfit:\n",
    "            maxProfit = max - min\n",
    "    return maxProfit"
   ]
  },
  {
   "cell_type": "code",
   "execution_count": 8,
   "id": "3803dbfd-2ecc-458d-b33f-5858354ba5dc",
   "metadata": {},
   "outputs": [
    {
     "name": "stdout",
     "output_type": "stream",
     "text": [
      "5\n"
     ]
    }
   ],
   "source": [
    "print(maxProfit([7,1,5,3,6,4]))"
   ]
  },
  {
   "cell_type": "code",
   "execution_count": 79,
   "id": "b5049ff2-f035-4b64-9817-4bb04c60081b",
   "metadata": {},
   "outputs": [],
   "source": [
    "# Leetcode 3\n",
    "def lengthOfLongestSubstring(s):\n",
    "    hash_table = {}\n",
    "    max_length = 0\n",
    "    left = 0\n",
    "    for right in range(len(s)):\n",
    "        while s[right] in hash_table:\n",
    "            del hash_table[s[left]]\n",
    "            left +=1\n",
    "        hash_table[s[right]] = 0\n",
    "        if right - left +1 > max_length:\n",
    "            max_length = right - left +1\n",
    "    return max_length"
   ]
  },
  {
   "cell_type": "code",
   "execution_count": 80,
   "id": "33c2bf1d-4ed3-4856-984c-97b27ab83c69",
   "metadata": {},
   "outputs": [
    {
     "name": "stdout",
     "output_type": "stream",
     "text": [
      "3\n",
      "2\n",
      "3\n"
     ]
    }
   ],
   "source": [
    "print(lengthOfLongestSubstring(\"abcabcbb\"))\n",
    "print(lengthOfLongestSubstring(\"aab\"))\n",
    "print(lengthOfLongestSubstring(\"pwwkew\"))"
   ]
  },
  {
   "cell_type": "code",
   "execution_count": null,
   "id": "361d3f0b-f884-4039-a75d-caccb81c2f10",
   "metadata": {},
   "outputs": [],
   "source": []
  },
  {
   "cell_type": "code",
   "execution_count": null,
   "id": "61ea2acf-8096-4673-ab40-f9a5f1ea5c67",
   "metadata": {},
   "outputs": [],
   "source": []
  }
 ],
 "metadata": {
  "kernelspec": {
   "display_name": "Python 3 (ipykernel)",
   "language": "python",
   "name": "python3"
  },
  "language_info": {
   "codemirror_mode": {
    "name": "ipython",
    "version": 3
   },
   "file_extension": ".py",
   "mimetype": "text/x-python",
   "name": "python",
   "nbconvert_exporter": "python",
   "pygments_lexer": "ipython3",
   "version": "3.11.8"
  }
 },
 "nbformat": 4,
 "nbformat_minor": 5
}
