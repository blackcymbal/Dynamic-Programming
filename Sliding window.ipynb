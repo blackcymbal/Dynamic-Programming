{
 "cells": [
  {
   "cell_type": "code",
   "execution_count": 1,
   "id": "61744da1-670d-4179-87bf-05011a61df10",
   "metadata": {},
   "outputs": [],
   "source": [
    "# Leetcode 643\n",
    "# Maximum Average Subarray 1\n",
    "\n",
    "def findMaxAverage(nums, k):\n",
    "    sum = 0\n",
    "    for i in range(k):\n",
    "        sum += nums[i]\n",
    "    max = sum\n",
    "        \n",
    "    for i in range(k, len(nums)):\n",
    "        sum += nums[i] - nums[i-k]\n",
    "        if sum > max:\n",
    "            max = sum\n",
    "    return float(max)/k\n",
    "        \n",
    "\n",
    "\n",
    "   \n",
    "        "
   ]
  },
  {
   "cell_type": "code",
   "execution_count": 2,
   "id": "847336df-8088-4991-bd84-95d4d8d77a44",
   "metadata": {},
   "outputs": [
    {
     "data": {
      "text/plain": [
       "-1.0"
      ]
     },
     "execution_count": 2,
     "metadata": {},
     "output_type": "execute_result"
    }
   ],
   "source": [
    "findMaxAverage([-1], 1)"
   ]
  },
  {
   "cell_type": "code",
   "execution_count": 37,
   "id": "da1d6bfa-579e-4e09-aabc-d4c44a6eb0d0",
   "metadata": {},
   "outputs": [],
   "source": [
    "# leetcode 862\n",
    "# Shortest subarray with sum at least K"
   ]
  },
  {
   "cell_type": "code",
   "execution_count": 30,
   "id": "ce28ac0f-b40e-43d4-af06-d50e7e1b950d",
   "metadata": {},
   "outputs": [],
   "source": [
    "def shortestSubarray(nums, k):\n",
    "    n = len(nums)\n",
    "    min_length = float('inf')\n",
    "    left = 0\n",
    "    curr_sum = 0\n",
    "\n",
    "    for right in range(n):\n",
    "        curr_sum += nums[right]\n",
    "\n",
    "        print(curr_sum)\n",
    "\n",
    "        while curr_sum >= k:\n",
    "            min_length = min(min_length, right - left + 1)\n",
    "            curr_sum -= nums[left]\n",
    "            left += 1\n",
    "            print('left', left)\n",
    "\n",
    "    return min_length if min_length != float('inf') else -1\n",
    "\n"
   ]
  },
  {
   "cell_type": "code",
   "execution_count": 31,
   "id": "e4e37b74-de07-44c6-b1cf-75c63c90f7c7",
   "metadata": {},
   "outputs": [
    {
     "name": "stdout",
     "output_type": "stream",
     "text": [
      "1\n",
      "left 1\n",
      "1\n",
      "84\n",
      "47\n",
      "79\n",
      "119\n",
      "214\n",
      "left 1\n",
      "5\n"
     ]
    }
   ],
   "source": [
    "print(shortestSubarray([1], 1))\n",
    "print(shortestSubarray([84,-37,32,40,95], 167))"
   ]
  },
  {
   "cell_type": "code",
   "execution_count": 7,
   "id": "0258fcc0-78b8-48f5-bbf7-d2925e03be9b",
   "metadata": {},
   "outputs": [],
   "source": [
    "# Leetcode 121\n",
    "# Best time to buy and sell stock\n",
    "def maxProfit(prices):\n",
    "    min = prices[0]\n",
    "    max = prices[0]\n",
    "    maxProfit = 0\n",
    "    for i in range(len(prices)):\n",
    "        if prices[i] < min:\n",
    "            min = prices[i]\n",
    "            max = prices[i]\n",
    "        if prices[i] > max:\n",
    "            max = prices[i]\n",
    "        if max - min > maxProfit:\n",
    "            maxProfit = max - min\n",
    "    return maxProfit"
   ]
  },
  {
   "cell_type": "code",
   "execution_count": 8,
   "id": "3803dbfd-2ecc-458d-b33f-5858354ba5dc",
   "metadata": {},
   "outputs": [
    {
     "name": "stdout",
     "output_type": "stream",
     "text": [
      "5\n"
     ]
    }
   ],
   "source": [
    "print(maxProfit([7,1,5,3,6,4]))"
   ]
  },
  {
   "cell_type": "code",
   "execution_count": 79,
   "id": "b5049ff2-f035-4b64-9817-4bb04c60081b",
   "metadata": {},
   "outputs": [],
   "source": [
    "# Leetcode 3\n",
    "def lengthOfLongestSubstring(s):\n",
    "    hash_table = {}\n",
    "    max_length = 0\n",
    "    left = 0\n",
    "    for right in range(len(s)):\n",
    "        while s[right] in hash_table:\n",
    "            del hash_table[s[left]]\n",
    "            left +=1\n",
    "        hash_table[s[right]] = 0\n",
    "        if right - left +1 > max_length:\n",
    "            max_length = right - left +1\n",
    "    return max_length"
   ]
  },
  {
   "cell_type": "code",
   "execution_count": 80,
   "id": "33c2bf1d-4ed3-4856-984c-97b27ab83c69",
   "metadata": {},
   "outputs": [
    {
     "name": "stdout",
     "output_type": "stream",
     "text": [
      "3\n",
      "2\n",
      "3\n"
     ]
    }
   ],
   "source": [
    "print(lengthOfLongestSubstring(\"abcabcbb\"))\n",
    "print(lengthOfLongestSubstring(\"aab\"))\n",
    "print(lengthOfLongestSubstring(\"pwwkew\"))"
   ]
  },
  {
   "cell_type": "code",
   "execution_count": 34,
   "id": "361d3f0b-f884-4039-a75d-caccb81c2f10",
   "metadata": {},
   "outputs": [],
   "source": [
    "# Leetcode 424\n",
    "# Longest repeating character replacement\n",
    "def characterReplacement(s, k):\n",
    "    hash_table = {}\n",
    "    max_length = 0\n",
    "    left = 0\n",
    "    maxf = 0\n",
    "\n",
    "    for right in range(len(s)):\n",
    "       # hash_table[s[right]] = 1 + hash_table.get(s[right], 0)\n",
    "        if s[right] in hash_table:\n",
    "            hash_table[s[right]] +=1\n",
    "        else:\n",
    "            hash_table[s[right]] = 1\n",
    "\n",
    "        maxf = max(maxf, hash_table[s[right]])\n",
    "            \n",
    "            \n",
    "        # hash_table.get(s[right], 0), returns the value associated with key s[right] \n",
    "        #if it exists in the dictionary hash_table. If the key is not found, it returns the default value 0.\n",
    "\n",
    "        while (right - left +1) - maxf > k:\n",
    "            hash_table[s[left]] -= 1\n",
    "            left +=1\n",
    "        max_length = max(max_length, right - left +1)\n",
    "        \n",
    "    return max_length\n",
    "        \n",
    "    \n",
    "    \n"
   ]
  },
  {
   "cell_type": "code",
   "execution_count": 35,
   "id": "61ea2acf-8096-4673-ab40-f9a5f1ea5c67",
   "metadata": {},
   "outputs": [
    {
     "data": {
      "text/plain": [
       "4"
      ]
     },
     "execution_count": 35,
     "metadata": {},
     "output_type": "execute_result"
    }
   ],
   "source": [
    "characterReplacement(\"ABAB\", 2)"
   ]
  },
  {
   "cell_type": "code",
   "execution_count": 114,
   "id": "4279b0c7-d2ea-4ea3-9441-09169f3748d2",
   "metadata": {},
   "outputs": [],
   "source": [
    "# Leetcode 567\n",
    "# Permutation in string\n",
    "# Brute Force Solution\n",
    "\n",
    "def checkInclusion(s1, s2):\n",
    "    char_count = {}\n",
    "    \n",
    "    for char in s1:\n",
    "        if char in char_count:\n",
    "            char_count[char] += 1\n",
    "        else:\n",
    "            char_count[char] = 1\n",
    "            \n",
    "\n",
    "    for r in range(len(s2)):\n",
    "        if s2[r] in char_count:\n",
    "            char_count[s2[r]] -= 1\n",
    "            \n",
    "    for count in char_count.values():\n",
    "        if count != 0:\n",
    "            return False\n",
    "        \n",
    "    return True\n",
    "    \n",
    "            "
   ]
  },
  {
   "cell_type": "code",
   "execution_count": 115,
   "id": "ee3f7574-1c5d-4e16-8626-69d93235afd1",
   "metadata": {},
   "outputs": [
    {
     "name": "stdout",
     "output_type": "stream",
     "text": [
      "True\n"
     ]
    }
   ],
   "source": [
    "print(checkInclusion('abc', 'dsbachj'))"
   ]
  },
  {
   "cell_type": "code",
   "execution_count": 109,
   "id": "ca813672-5de1-43e8-9dee-668a5a913f4d",
   "metadata": {},
   "outputs": [],
   "source": [
    "# Optimized Solution\n"
   ]
  },
  {
   "cell_type": "code",
   "execution_count": 10,
   "id": "31dbb059-5a3c-4f78-88e8-87f691bd7d86",
   "metadata": {},
   "outputs": [],
   "source": [
    "# contains dupllicate\n",
    "def containsNearbyDuplicate(nums, k):\n",
    "        hashMap = {}\n",
    "\n",
    "        for i in range(len(nums)):\n",
    "            if nums[i] in hashMap and abs(hashMap[nums[i]] - i) <= k:\n",
    "                return True\n",
    "            hashMap[nums[i]] = i\n",
    "\n",
    "        return False"
   ]
  },
  {
   "cell_type": "code",
   "execution_count": 11,
   "id": "692998a0-9ee1-4e41-81af-026da2f96050",
   "metadata": {},
   "outputs": [
    {
     "data": {
      "text/plain": [
       "False"
      ]
     },
     "execution_count": 11,
     "metadata": {},
     "output_type": "execute_result"
    }
   ],
   "source": [
    "containsNearbyDuplicate([1,2,3,1,2,3], 2)"
   ]
  },
  {
   "cell_type": "code",
   "execution_count": null,
   "id": "ed4a7abf-a167-4c4e-807a-e9f3cc7addbc",
   "metadata": {},
   "outputs": [],
   "source": []
  }
 ],
 "metadata": {
  "kernelspec": {
   "display_name": "Python 3 (ipykernel)",
   "language": "python",
   "name": "python3"
  },
  "language_info": {
   "codemirror_mode": {
    "name": "ipython",
    "version": 3
   },
   "file_extension": ".py",
   "mimetype": "text/x-python",
   "name": "python",
   "nbconvert_exporter": "python",
   "pygments_lexer": "ipython3",
   "version": "3.13.1"
  }
 },
 "nbformat": 4,
 "nbformat_minor": 5
}
