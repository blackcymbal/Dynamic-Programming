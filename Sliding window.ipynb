{
 "cells": [
  {
   "cell_type": "code",
   "execution_count": 35,
   "id": "61744da1-670d-4179-87bf-05011a61df10",
   "metadata": {},
   "outputs": [],
   "source": [
    "# Leetcode 643\n",
    "# Maximum Average Subarray 1\n",
    "\n",
    "def findMaxAverage(nums, k):\n",
    "    sum = 0\n",
    "    for i in range(k):\n",
    "        sum += nums[i]\n",
    "    max = sum\n",
    "        \n",
    "    for i in range(k, len(nums)):\n",
    "        sum += nums[i] - nums[i-k]\n",
    "        if sum > max:\n",
    "            max = sum\n",
    "    return float(max)/k\n",
    "        \n",
    "\n",
    "\n",
    "   \n",
    "        "
   ]
  },
  {
   "cell_type": "code",
   "execution_count": 36,
   "id": "847336df-8088-4991-bd84-95d4d8d77a44",
   "metadata": {},
   "outputs": [
    {
     "data": {
      "text/plain": [
       "12.75"
      ]
     },
     "execution_count": 36,
     "metadata": {},
     "output_type": "execute_result"
    }
   ],
   "source": [
    "findMaxAverage([1,12,-5,-6,50,3], 4)"
   ]
  },
  {
   "cell_type": "code",
   "execution_count": 37,
   "id": "da1d6bfa-579e-4e09-aabc-d4c44a6eb0d0",
   "metadata": {},
   "outputs": [],
   "source": [
    "# leetcode 862\n",
    "# Shortest subarray with sum at least K"
   ]
  },
  {
   "cell_type": "code",
   "execution_count": 59,
   "id": "ce28ac0f-b40e-43d4-af06-d50e7e1b950d",
   "metadata": {},
   "outputs": [],
   "source": [
    "def shortestSubarray(nums, k):\n",
    "    sum = nums[0]\n",
    "    size = 0\n",
    "    min = len(nums)\n",
    "\n",
    "    for i in range(len(nums)):\n",
    "        if sum >= k:\n",
    "            if size <= 1:\n",
    "                return 1\n",
    "            if size < min:\n",
    "                min = size\n",
    "            sum += nums[i+1] - nums[i]\n",
    "            \n",
    "        else: \n",
    "            sum += nums[i]\n",
    "            size +=1\n",
    "    return min    "
   ]
  },
  {
   "cell_type": "code",
   "execution_count": 60,
   "id": "e4e37b74-de07-44c6-b1cf-75c63c90f7c7",
   "metadata": {},
   "outputs": [
    {
     "data": {
      "text/plain": [
       "1"
      ]
     },
     "execution_count": 60,
     "metadata": {},
     "output_type": "execute_result"
    }
   ],
   "source": [
    "shortestSubarray([1], 1)"
   ]
  },
  {
   "cell_type": "code",
   "execution_count": null,
   "id": "0258fcc0-78b8-48f5-bbf7-d2925e03be9b",
   "metadata": {},
   "outputs": [],
   "source": []
  }
 ],
 "metadata": {
  "kernelspec": {
   "display_name": "Python 3 (ipykernel)",
   "language": "python",
   "name": "python3"
  },
  "language_info": {
   "codemirror_mode": {
    "name": "ipython",
    "version": 3
   },
   "file_extension": ".py",
   "mimetype": "text/x-python",
   "name": "python",
   "nbconvert_exporter": "python",
   "pygments_lexer": "ipython3",
   "version": "3.11.8"
  }
 },
 "nbformat": 4,
 "nbformat_minor": 5
}
