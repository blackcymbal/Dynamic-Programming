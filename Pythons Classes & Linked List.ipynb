{
 "cells": [
  {
   "cell_type": "code",
   "execution_count": 2,
   "id": "778d744e-0b7d-4d1d-bbc1-fa7b07b48b4d",
   "metadata": {},
   "outputs": [
    {
     "data": {
      "text/plain": [
       "<__main__.Node at 0x110702350>"
      ]
     },
     "execution_count": 2,
     "metadata": {},
     "output_type": "execute_result"
    }
   ],
   "source": [
    "class Node():\n",
    "    pass\n",
    "Node()"
   ]
  },
  {
   "cell_type": "code",
   "execution_count": 4,
   "id": "b8b51422-e479-4590-b805-d3168cd1b26d",
   "metadata": {},
   "outputs": [
    {
     "data": {
      "text/plain": [
       "<__main__.Node at 0x110707390>"
      ]
     },
     "execution_count": 4,
     "metadata": {},
     "output_type": "execute_result"
    }
   ],
   "source": [
    "node1 = Node()\n",
    "node1"
   ]
  },
  {
   "cell_type": "code",
   "execution_count": 5,
   "id": "6773a9d9-1868-4938-aee1-a9b9b5beb6e5",
   "metadata": {},
   "outputs": [
    {
     "data": {
      "text/plain": [
       "<__main__.Node at 0x110708d10>"
      ]
     },
     "execution_count": 5,
     "metadata": {},
     "output_type": "execute_result"
    }
   ],
   "source": [
    "node2 = Node()\n",
    "node2 "
   ]
  },
  {
   "cell_type": "code",
   "execution_count": 6,
   "id": "f8cb93bd-bf6c-4789-beb7-73abe7568daf",
   "metadata": {},
   "outputs": [
    {
     "data": {
      "text/plain": [
       "<__main__.Node at 0x110707390>"
      ]
     },
     "execution_count": 6,
     "metadata": {},
     "output_type": "execute_result"
    }
   ],
   "source": [
    "node3 = node1\n",
    "node3"
   ]
  },
  {
   "cell_type": "code",
   "execution_count": 8,
   "id": "500e9941-2566-41b8-a3d5-4adbe7464d7f",
   "metadata": {},
   "outputs": [
    {
     "data": {
      "text/plain": [
       "0"
      ]
     },
     "execution_count": 8,
     "metadata": {},
     "output_type": "execute_result"
    }
   ],
   "source": [
    "# Storing value in object\n",
    "class Node():\n",
    "    def __init__(self):\n",
    "        self.data = 0\n",
    "\n",
    "node4 = Node()\n",
    "node4.data"
   ]
  },
  {
   "cell_type": "code",
   "execution_count": 9,
   "id": "cda2912f-b19b-4a00-b4f9-37786221139c",
   "metadata": {},
   "outputs": [],
   "source": [
    "# change the value inside the variable.\n",
    "node4.data = 10"
   ]
  },
  {
   "cell_type": "code",
   "execution_count": 10,
   "id": "f0f8d098-49bd-4644-b044-e15812925dd0",
   "metadata": {},
   "outputs": [],
   "source": [
    "node1 = Node()\n",
    "node1.data = 2\n",
    "\n",
    "node2 = Node()\n",
    "node2.data = 3\n",
    "\n",
    "node3 = Node()\n",
    "node3.data = 5"
   ]
  },
  {
   "cell_type": "code",
   "execution_count": 11,
   "id": "4779da9a-794e-4c7e-9c45-f4d577a067c5",
   "metadata": {},
   "outputs": [
    {
     "data": {
      "text/plain": [
       "(2, 3, 5)"
      ]
     },
     "execution_count": 11,
     "metadata": {},
     "output_type": "execute_result"
    }
   ],
   "source": [
    "node1.data, node2.data, node3.data"
   ]
  },
  {
   "cell_type": "code",
   "execution_count": 6,
   "id": "cc85fcd7-ed22-49db-8c35-a71bea8991c4",
   "metadata": {},
   "outputs": [],
   "source": [
    "# While this is OK, there's an easier way to do it.\n",
    "class Node():\n",
    "    def __init__(self, a_number):\n",
    "        self.data = a_number\n",
    "        self.next = None"
   ]
  },
  {
   "cell_type": "code",
   "execution_count": 13,
   "id": "5061a486-dea5-405f-952a-c60b8134f144",
   "metadata": {},
   "outputs": [],
   "source": [
    "node1 = Node(2)\n",
    "node2 = Node(3)\n",
    "node3 = Node(5)"
   ]
  },
  {
   "cell_type": "code",
   "execution_count": 14,
   "id": "c2d71575-61d1-4429-8900-4bd1a1c9861c",
   "metadata": {},
   "outputs": [
    {
     "data": {
      "text/plain": [
       "(2, 3, 5)"
      ]
     },
     "execution_count": 14,
     "metadata": {},
     "output_type": "execute_result"
    }
   ],
   "source": [
    "node1.data, node2.data, node3.data"
   ]
  },
  {
   "cell_type": "code",
   "execution_count": 15,
   "id": "d698c353-76b6-4ad2-9937-6f5db2626cc0",
   "metadata": {},
   "outputs": [],
   "source": [
    "# Now we are ready to define a class for our Linked list.\n",
    "\n",
    "class LinkedList():\n",
    "    def __init__(self):\n",
    "        self.head = None"
   ]
  },
  {
   "cell_type": "code",
   "execution_count": 16,
   "id": "afe755ce-e57e-4054-b28d-06d5085f0634",
   "metadata": {},
   "outputs": [],
   "source": [
    "list1 = LinkedList()"
   ]
  },
  {
   "cell_type": "code",
   "execution_count": 17,
   "id": "0ffa40fe-d531-4798-b1d9-8047607ffe63",
   "metadata": {},
   "outputs": [],
   "source": [
    "list1.head = Node(2)"
   ]
  },
  {
   "cell_type": "code",
   "execution_count": 18,
   "id": "03a15990-1316-4199-bc2b-70eccfe27bfe",
   "metadata": {},
   "outputs": [],
   "source": [
    "list1.head.next = Node(3)"
   ]
  },
  {
   "cell_type": "code",
   "execution_count": 19,
   "id": "b8653434-96c5-467a-b171-8dcb8bc28ce6",
   "metadata": {},
   "outputs": [],
   "source": [
    "list1.head.next.next = Node(4)"
   ]
  },
  {
   "cell_type": "code",
   "execution_count": 20,
   "id": "9cfb6e0d-3fe4-4d9e-b54b-c04798f7bf97",
   "metadata": {},
   "outputs": [
    {
     "data": {
      "text/plain": [
       "(2, 3, 4)"
      ]
     },
     "execution_count": 20,
     "metadata": {},
     "output_type": "execute_result"
    }
   ],
   "source": [
    "list1.head.data, list1.head.next.data, list1.head.next.next.data"
   ]
  },
  {
   "cell_type": "code",
   "execution_count": 21,
   "id": "ba84dca1-1088-4eef-b836-0b5fd4104216",
   "metadata": {},
   "outputs": [
    {
     "data": {
      "text/plain": [
       "(<__main__.Node at 0x1106dd090>,\n",
       " <__main__.Node at 0x11070c6d0>,\n",
       " <__main__.Node at 0x1106f1290>,\n",
       " None)"
      ]
     },
     "execution_count": 21,
     "metadata": {},
     "output_type": "execute_result"
    }
   ],
   "source": [
    "list1.head, list1.head.next, list1.head.next.next, list1.head.next.next.next"
   ]
  },
  {
   "cell_type": "code",
   "execution_count": 22,
   "id": "d5d8d79b-efe5-4646-a431-ae8b09e367cc",
   "metadata": {},
   "outputs": [],
   "source": [
    "# While it's OK to set value like this, we can add a couple of arguments.\n",
    "class LinkedList():\n",
    "    def __init__(self):\n",
    "        self.head = None\n",
    "        \n",
    "    def append(self, value):\n",
    "        if self.head is None:\n",
    "            self.head = Node(value)\n",
    "        else:\n",
    "            current_node = self.head\n",
    "            while current_node.next is not None:\n",
    "                current_node = current_node.next\n",
    "            current_node.next = Node(value)"
   ]
  },
  {
   "cell_type": "code",
   "execution_count": 23,
   "id": "9b450e67-b3d8-4dc0-9539-fe36cf318543",
   "metadata": {},
   "outputs": [],
   "source": [
    "list2 = LinkedList()\n",
    "list2.append(2)\n",
    "list2.append(3)\n",
    "list2.append(5)"
   ]
  },
  {
   "cell_type": "code",
   "execution_count": 24,
   "id": "93523409-f0d3-426e-b8ef-8e2be1bbd25b",
   "metadata": {},
   "outputs": [
    {
     "data": {
      "text/plain": [
       "(2, 3, 5)"
      ]
     },
     "execution_count": 24,
     "metadata": {},
     "output_type": "execute_result"
    }
   ],
   "source": [
    "list2.head.data, list2.head.next.data, list2.head.next.next.data"
   ]
  },
  {
   "cell_type": "code",
   "execution_count": 25,
   "id": "fc25a658-c358-44cb-8622-6c34d69dd983",
   "metadata": {},
   "outputs": [],
   "source": [
    "# Next, let's add a method to print the value in a list.\n",
    "\n",
    "class LinkedList():\n",
    "    def __init__(self):\n",
    "        self.head = None\n",
    "        \n",
    "    def append(self, value):\n",
    "        if self.head is None:\n",
    "            self.head = Node(value)\n",
    "        else:\n",
    "            current_node = self.head\n",
    "            while current_node.next is not None:\n",
    "                current_node = current_node.next\n",
    "            current_node.next = Node(value)\n",
    "            \n",
    "    def show_elements(self):\n",
    "        current = self.head\n",
    "        while current is not None:\n",
    "            print(current.data)\n",
    "            current = current.next"
   ]
  },
  {
   "cell_type": "code",
   "execution_count": 26,
   "id": "a5be1117-13d6-4134-9b06-accf09edac1c",
   "metadata": {},
   "outputs": [],
   "source": [
    "list2 = LinkedList()\n",
    "list2.append(2)\n",
    "list2.append(3)\n",
    "list2.append(5)"
   ]
  },
  {
   "cell_type": "code",
   "execution_count": 27,
   "id": "a3da7557-bc6b-4512-af01-3e678c9262c6",
   "metadata": {},
   "outputs": [
    {
     "name": "stdout",
     "output_type": "stream",
     "text": [
      "2\n",
      "3\n",
      "5\n"
     ]
    }
   ],
   "source": [
    "list2.show_elements()"
   ]
  },
  {
   "cell_type": "code",
   "execution_count": 7,
   "id": "a7bc841b-2875-45f5-8539-8947e7a1bfd5",
   "metadata": {},
   "outputs": [],
   "source": [
    "# Let's add a couple of more functions: `length` and `get_element` to get an element at a specific position.\n",
    "class LinkedList():\n",
    "    def __init__(self):\n",
    "        self.head = None\n",
    "        \n",
    "    def append(self, value):\n",
    "        if self.head is None:\n",
    "            self.head = Node(value)\n",
    "        else:\n",
    "            current_node = self.head\n",
    "            while current_node.next is not None:\n",
    "                current_node = current_node.next\n",
    "            current_node.next = Node(value)\n",
    "            \n",
    "    def show_elements(self):\n",
    "        current = self.head\n",
    "        while current is not None:\n",
    "            print(current.data)\n",
    "            current = current.next\n",
    "            \n",
    "    def length(self):\n",
    "        result = 0\n",
    "        current = self.head\n",
    "        while current is not None:\n",
    "            result += 1\n",
    "            current = current.next\n",
    "        return result\n",
    "            \n",
    "    def get_element(self, position):\n",
    "        i = 0\n",
    "        current = self.head\n",
    "        while current is not None:\n",
    "            if i == position:\n",
    "                return current.data\n",
    "            current = current.next\n",
    "            i += 1\n",
    "        return None"
   ]
  },
  {
   "cell_type": "code",
   "execution_count": 29,
   "id": "c8fb6ce6-c433-4f5c-9f37-48652403ca99",
   "metadata": {},
   "outputs": [],
   "source": [
    "list2 = LinkedList()\n",
    "list2.append(2)\n",
    "list2.append(3)\n",
    "list2.append(5)\n",
    "list2.append(9)"
   ]
  },
  {
   "cell_type": "code",
   "execution_count": 30,
   "id": "c3ab28b8-85e2-46ec-8c4b-245d233d2923",
   "metadata": {},
   "outputs": [
    {
     "data": {
      "text/plain": [
       "4"
      ]
     },
     "execution_count": 30,
     "metadata": {},
     "output_type": "execute_result"
    }
   ],
   "source": [
    "list2.length()"
   ]
  },
  {
   "cell_type": "code",
   "execution_count": 31,
   "id": "61492ff9-98cd-4f02-9046-d9e10b3c208f",
   "metadata": {},
   "outputs": [
    {
     "data": {
      "text/plain": [
       "5"
      ]
     },
     "execution_count": 31,
     "metadata": {},
     "output_type": "execute_result"
    }
   ],
   "source": [
    "list2.get_element(2)"
   ]
  },
  {
   "cell_type": "code",
   "execution_count": 32,
   "id": "4bc1b6d4-64fb-4b37-8644-20b3bde5fa9b",
   "metadata": {},
   "outputs": [
    {
     "data": {
      "text/plain": [
       "2"
      ]
     },
     "execution_count": 32,
     "metadata": {},
     "output_type": "execute_result"
    }
   ],
   "source": [
    "list2.get_element(0)"
   ]
  },
  {
   "cell_type": "code",
   "execution_count": 29,
   "id": "7142bfae-6a44-48e0-bb0a-772c7e5e4734",
   "metadata": {},
   "outputs": [],
   "source": [
    "# Reversing a Linked List - Solution\n",
    "def reverse(l):\n",
    "    if l.head is None:\n",
    "        return\n",
    "    \n",
    "    current_node = l.head\n",
    "    prev_node = None\n",
    "    \n",
    "    while current_node is not None:\n",
    "        # Track the next node\n",
    "        next_node = current_node.next\n",
    "        \n",
    "        # Modify the current node\n",
    "        current_node.next = prev_node\n",
    "        \n",
    "        # Update prev and current\n",
    "        prev_node = current_node\n",
    "        current_node = next_node\n",
    "        \n",
    "    l.head = prev_node"
   ]
  },
  {
   "cell_type": "code",
   "execution_count": 30,
   "id": "3e840480-6c97-4a1a-8c15-efd0353d6aab",
   "metadata": {},
   "outputs": [],
   "source": [
    "list2 = LinkedList()\n",
    "list2.append(2)\n",
    "list2.append(3)\n",
    "list2.append(5)\n",
    "list2.append(9)"
   ]
  },
  {
   "cell_type": "code",
   "execution_count": 31,
   "id": "f8037171-8742-40e8-868f-c388b463cf0b",
   "metadata": {},
   "outputs": [],
   "source": [
    "reverse(list2)"
   ]
  },
  {
   "cell_type": "code",
   "execution_count": 32,
   "id": "4dbe268d-e3e5-4411-8030-147117354d15",
   "metadata": {},
   "outputs": [
    {
     "name": "stdout",
     "output_type": "stream",
     "text": [
      "9\n",
      "5\n",
      "3\n",
      "2\n"
     ]
    }
   ],
   "source": [
    "list2.show_elements()"
   ]
  },
  {
   "cell_type": "code",
   "execution_count": 33,
   "id": "b8251cb4-7d7b-4d93-bdfb-e29035c5aa32",
   "metadata": {},
   "outputs": [],
   "source": [
    "list1 = LinkedList()\n",
    "list1.append(2)\n",
    "list1.append(3)\n",
    "list1.append(5)\n",
    "list1.append(9)\n",
    "\n",
    "list2 = LinkedList()"
   ]
  },
  {
   "cell_type": "code",
   "execution_count": 34,
   "id": "4c4f077e-76dd-4661-911a-2d86e157e847",
   "metadata": {},
   "outputs": [],
   "source": [
    "# Leetcode 21\n",
    "def mergeTwoLists(list1, list2):\n",
    "        if list1 is None:\n",
    "            return list2\n",
    "        if list2 is None:\n",
    "            return list1"
   ]
  },
  {
   "cell_type": "code",
   "execution_count": null,
   "id": "12d27362-3fe4-4b75-ac45-2156ff431f9d",
   "metadata": {},
   "outputs": [],
   "source": [
    "\n"
   ]
  },
  {
   "cell_type": "code",
   "execution_count": 37,
   "id": "02cb9d0a-0f00-4e9b-906a-b2679538f34c",
   "metadata": {},
   "outputs": [],
   "source": [
    "list2.show_elements()"
   ]
  },
  {
   "cell_type": "code",
   "execution_count": null,
   "id": "b3e95fa8-ef7a-4b0a-9e3a-f5d0b1d04695",
   "metadata": {},
   "outputs": [],
   "source": []
  },
  {
   "cell_type": "code",
   "execution_count": null,
   "id": "2832c032-257b-4f91-8a60-338386349f13",
   "metadata": {},
   "outputs": [],
   "source": []
  }
 ],
 "metadata": {
  "kernelspec": {
   "display_name": "Python 3 (ipykernel)",
   "language": "python",
   "name": "python3"
  },
  "language_info": {
   "codemirror_mode": {
    "name": "ipython",
    "version": 3
   },
   "file_extension": ".py",
   "mimetype": "text/x-python",
   "name": "python",
   "nbconvert_exporter": "python",
   "pygments_lexer": "ipython3",
   "version": "3.11.8"
  }
 },
 "nbformat": 4,
 "nbformat_minor": 5
}
